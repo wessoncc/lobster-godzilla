{
 "cells": [
  {
   "cell_type": "markdown",
   "metadata": {},
   "source": [
    "## Dependencies"
   ]
  },
  {
   "cell_type": "markdown",
   "metadata": {},
   "source": [
    "## Dependencies"
   ]
  },
  {
   "cell_type": "code",
   "execution_count": 1,
   "metadata": {},
   "outputs": [],
   "source": [
    "import os\n",
    "import time\n",
    "import pandas as pd\n",
    "import json\n",
    "import requests\n",
    "from Alpha_key import API_KEY\n",
    "from sql_conn import password\n",
    "from sqlalchemy import create_engine\n",
    "import pymysql\n",
    "pymysql.install_as_MySQLdb()\n",
    "from sqlalchemy import create_engine, Column, Integer, String, Float, Date\n",
    "from sqlalchemy.ext.declarative import declarative_base\n",
    "Base = declarative_base()"
   ]
  },
  {
   "cell_type": "markdown",
   "metadata": {},
   "source": [
    "## SQL Stuff"
   ]
  },
  {
   "cell_type": "code",
   "execution_count": 2,
   "metadata": {},
   "outputs": [],
   "source": [
    "host=\"secondawsdb.caa0qcwnjnci.us-east-2.rds.amazonaws.com\"\n",
    "port=3307\n",
    "dbname=\"stock_data\"\n",
    "user=\"root\"\n",
    "password=f\"{password}\""
   ]
  },
  {
   "cell_type": "code",
   "execution_count": 3,
   "metadata": {},
   "outputs": [],
   "source": [
    "engine = create_engine(f\"mysql://root:{password}@{host}:{port}/stock_data\")"
   ]
  },
  {
   "cell_type": "code",
   "execution_count": 4,
   "metadata": {},
   "outputs": [],
   "source": [
    "Base.metadata.create_all(engine)"
   ]
  },
  {
   "cell_type": "code",
   "execution_count": 5,
   "metadata": {},
   "outputs": [],
   "source": [
    "from sqlalchemy.orm import Session\n",
    "session = Session(engine)"
   ]
  },
  {
   "cell_type": "code",
   "execution_count": 6,
   "metadata": {},
   "outputs": [
    {
     "data": {
      "text/plain": [
       "immutabledict({})"
      ]
     },
     "execution_count": 6,
     "metadata": {},
     "output_type": "execute_result"
    }
   ],
   "source": [
    "Base.metadata.tables"
   ]
  },
  {
   "cell_type": "markdown",
   "metadata": {},
   "source": [
    "## Create batches"
   ]
  },
  {
   "cell_type": "code",
   "execution_count": 7,
   "metadata": {},
   "outputs": [],
   "source": [
    "b1 = ['MSFT', 'WMT', 'V', 'AXP', 'PG']\n",
    "b2 = ['CVX', 'JNJ', 'HD', 'KO', 'NKE']\n",
    "b3 = ['JPM', 'MCD', 'UTX', 'MMM', 'AAPL']\n",
    "b4 = ['GS', 'IBM', 'TRV', 'VZ', 'CSCO']\n",
    "b5 = ['DIS', 'UNH', 'XOM', 'MRK', 'BA']\n",
    "b6 = ['INTC', 'DWDP', 'CAT', 'PFE', 'WBA']\n",
    "\n",
    "DJIA = [b1, b2, b3, b4, b5, b6]"
   ]
  },
  {
   "cell_type": "code",
   "execution_count": 28,
   "metadata": {},
   "outputs": [],
   "source": [
    "DJIA = ['MSFT', 'WMT', 'V', 'AXP', 'PG',\n",
    "        'CVX', 'JNJ', 'HD', 'KO', 'NKE',\n",
    "        'JPM', 'MCD', 'UTX', 'MMM', 'AAPL',\n",
    "        'GS', 'IBM', 'TRV', 'VZ', 'CSCO',\n",
    "        'DIS', 'UNH', 'XOM', 'MRK', 'BA',\n",
    "        'INTC', 'DWDP', 'CAT', 'PFE', 'WBA']"
   ]
  },
  {
   "cell_type": "code",
   "execution_count": 29,
   "metadata": {},
   "outputs": [],
   "source": [
    "DJIA = ['MSFT', 'WMT', 'V', 'AXP', 'PG']"
   ]
  },
  {
   "cell_type": "code",
   "execution_count": null,
   "metadata": {},
   "outputs": [],
   "source": []
  },
  {
   "cell_type": "code",
   "execution_count": null,
   "metadata": {},
   "outputs": [],
   "source": [
    "Measure = \"STOCH\"\n",
    "output = \"full\"\n",
    "MainUrl = \"https://www.alphavantage.co/query?\"\n",
    "interval = \"daily\"\n",
    "series_type = \"close\"\n",
    "callUrl = (f\"{MainUrl}function={Measure}&symbol={ticker}&interval={interval}\") + (f\"&series_type={series_type}&apikey={API_KEY}\")\n",
    "STOCH = []\n",
    "batchNumber = b1\n",
    "\n",
    "for ticker in batchNumber :\n",
    "    response = requests.get(callUrl)\n",
    "    data = response.json()\n",
    "    for key in data[f'Technical Analysis: {Measure}']:\n",
    "        data[f'Technical Analysis: {Measure}'][key].update({'Symbol' :f\"{ticker}\"})\n",
    "    STOCH.append(data[f'Technical Analysis: {Measure}'])\n",
    "    \n",
    "# STOCH_b1 = []\n",
    "# for x in range(0,5):\n",
    "#     STOCH[x] = pd.DataFrame.from_dict(STOCH[x], orient='index')\n",
    "#     STOCH_b1.append(STOCH[x])"
   ]
  },
  {
   "cell_type": "code",
   "execution_count": null,
   "metadata": {},
   "outputs": [],
   "source": [
    "len(STOCH)"
   ]
  },
  {
   "cell_type": "code",
   "execution_count": null,
   "metadata": {},
   "outputs": [],
   "source": [
    "#b1\n",
    "STOCH_MSFT = STOCH[0]; STOCH_WMT = STOCH[1]; STOCH_V = STOCH[2]; STOCH_AXP = STOCH[3]; STOCH_PG = STOCH[4]"
   ]
  },
  {
   "cell_type": "code",
   "execution_count": null,
   "metadata": {},
   "outputs": [],
   "source": [
    "#b1\n",
    "STOCH_MSFT = STOCH_MSFT.reset_index(drop=False)\n",
    "STOCH_WMT = STOCH_WMT.reset_index(drop=False)\n",
    "STOCH_V = STOCH_V.reset_index(drop=False)\n",
    "STOCH_AXP = STOCH_AXP.reset_index(drop=False)\n",
    "STOCH_PG = STOCH_PG.reset_index(drop=False)"
   ]
  },
  {
   "cell_type": "code",
   "execution_count": null,
   "metadata": {},
   "outputs": [],
   "source": [
    "#b1\n",
    "STOCH_MSFT.to_sql(name = f'{Measure}_MSFT', con = engine,\n",
    "        if_exists = 'replace', chunksize = 75)\n",
    "STOCH_WMT.to_sql(name = f'{Measure}_WMT', con = engine,\n",
    "        if_exists = 'replace', chunksize = 75)\n",
    "STOCH_V.to_sql(name = f'{Measure}_V', con = engine,\n",
    "        if_exists = 'replace', chunksize = 75)\n",
    "STOCH_AXP.to_sql(name = f'{Measure}_AXP', con = engine,\n",
    "        if_exists = 'replace', chunksize = 75)\n",
    "STOCH_PG.to_sql(name = f'{Measure}_PG', con = engine,\n",
    "        if_exists = 'replace', chunksize = 75)"
   ]
  },
  {
   "cell_type": "code",
   "execution_count": 33,
   "metadata": {},
   "outputs": [],
   "source": [
    "b1 = ['MSFT', 'WMT', 'V', 'AXP', 'PG']\n",
    "b2 = ['CVX', 'JNJ', 'HD', 'KO', 'NKE']\n",
    "b3 = ['JPM', 'MCD', 'UTX', 'MMM', 'AAPL']\n",
    "b4 = ['GS', 'IBM', 'TRV', 'VZ', 'CSCO']\n",
    "b5 = ['DIS', 'UNH', 'XOM', 'MRK', 'BA']\n",
    "b6 = ['INTC', 'DWDP', 'CAT', 'PFE', 'WBA']\n",
    "\n",
    "DJIA = [b1, b2, b3, b4, b5, b6]"
   ]
  },
  {
   "cell_type": "code",
   "execution_count": 10,
   "metadata": {},
   "outputs": [],
   "source": [
    "def getData():    \n",
    "    response = requests.get(f\"{MainUrl}function={Measure}&symbol={ticker}&interval={interval}&time_period={time_period}&series_type={series_type}&apikey={API_KEY}\")\n",
    "    data = response.json()\n",
    "    for key in data[f'Technical Analysis: {Measure}']:\n",
    "        data[f'Technical Analysis: {Measure}'][key].update({'Symbol' :f\"{ticker}\"})\n",
    "    output_df.append(data[f'Technical Analysis: {Measure}'])"
   ]
  },
  {
   "cell_type": "code",
   "execution_count": 11,
   "metadata": {},
   "outputs": [],
   "source": [
    "#b1\n",
    "Measure = \"STOCH\"\n",
    "output = \"full\"\n",
    "MainUrl = \"https://www.alphavantage.co/query?\"\n",
    "interval = \"daily\"\n",
    "series_type = \"close\"\n",
    "#callUrl = (f\"{MainUrl}function={Measure}&symbol={ticker}&interval={interval}\") + (f\"&time_period={time_period}&series_type={series_type}&apikey={API_KEY}\")\n",
    "time_period = \"20\"\n",
    "output_df = []\n",
    "\n",
    "\n",
    "for ticker in b1:\n",
    "    getData()\n",
    "\n",
    "STOCH_b1 = []\n",
    "for x in range(0,5):\n",
    "    output_df[x] = pd.DataFrame.from_dict(output_df[x], orient='index')\n",
    "    STOCH_b1.append(output_df[x])"
   ]
  },
  {
   "cell_type": "code",
   "execution_count": 13,
   "metadata": {},
   "outputs": [],
   "source": [
    "#b1\n",
    "STOCH = STOCH_b1; STOCH_MSFT = STOCH[0]; STOCH_WMT = STOCH[1]; STOCH_V = STOCH[2]; STOCH_AXP = STOCH[3]; STOCH_PG = STOCH[4]; \n",
    "\n",
    "#b1\n",
    "STOCH_MSFT = STOCH_MSFT.reset_index(drop=False)\n",
    "STOCH_WMT = STOCH_WMT.reset_index(drop=False)\n",
    "STOCH_V = STOCH_V.reset_index(drop=False)\n",
    "STOCH_AXP = STOCH_AXP.reset_index(drop=False)\n",
    "STOCH_PG = STOCH_PG.reset_index(drop=False)\n",
    "\n",
    "#b1\n",
    "STOCH_MSFT.to_sql(name = f'{Measure}_MSFT', con = engine,\n",
    "        if_exists = 'replace', chunksize = 75)\n",
    "STOCH_WMT.to_sql(name = f'{Measure}_WMT', con = engine,\n",
    "        if_exists = 'replace', chunksize = 75)\n",
    "STOCH_V.to_sql(name = f'{Measure}_V', con = engine,\n",
    "        if_exists = 'replace', chunksize = 75)\n",
    "STOCH_AXP.to_sql(name = f'{Measure}_AXP', con = engine,\n",
    "        if_exists = 'replace', chunksize = 75)\n",
    "STOCH_PG.to_sql(name = f'{Measure}_PG', con = engine,\n",
    "        if_exists = 'replace', chunksize = 75)"
   ]
  },
  {
   "cell_type": "markdown",
   "metadata": {},
   "source": [
    "## Second Batch"
   ]
  },
  {
   "cell_type": "code",
   "execution_count": 14,
   "metadata": {},
   "outputs": [],
   "source": [
    "#b2\n",
    "Measure = \"STOCH\"\n",
    "output = \"full\"\n",
    "MainUrl = \"https://www.alphavantage.co/query?\"\n",
    "interval = \"daily\"\n",
    "series_type = \"close\"\n",
    "#callUrl = (f\"{MainUrl}function={Measure}&symbol={ticker}&interval={interval}\") + (f\"&time_period={time_period}&series_type={series_type}&apikey={API_KEY}\")\n",
    "time_period = \"20\"\n",
    "output_df = []\n",
    "\n",
    "\n",
    "for ticker in b2:\n",
    "    getData()\n",
    "\n",
    "STOCH_b2 = []\n",
    "for x in range(0,5):\n",
    "    output_df[x] = pd.DataFrame.from_dict(output_df[x], orient='index')\n",
    "    STOCH_b2.append(output_df[x])"
   ]
  },
  {
   "cell_type": "code",
   "execution_count": 15,
   "metadata": {},
   "outputs": [],
   "source": [
    "STOCH = STOCH_b2\n",
    "\n",
    "STOCH_CVX = STOCH[0]\n",
    "STOCH_JNJ = STOCH[1]\n",
    "STOCH_HD = STOCH[2]\n",
    "STOCH_KO = STOCH[3]\n",
    "STOCH_NKE = STOCH[4]\n",
    "\n",
    "STOCH_CVX = STOCH_CVX.reset_index(drop=False)\n",
    "STOCH_JNJ = STOCH_JNJ.reset_index(drop=False)\n",
    "STOCH_HD = STOCH_HD.reset_index(drop=False)\n",
    "STOCH_KO = STOCH_KO.reset_index(drop=False)\n",
    "STOCH_NKE = STOCH_NKE.reset_index(drop=False)\n",
    "\n",
    "STOCH_CVX.to_sql(name = f'{Measure}_CVX', con = engine,\n",
    "        if_exists = 'replace', chunksize = 75)\n",
    "STOCH_JNJ.to_sql(name = f'{Measure}_JNJ', con = engine,\n",
    "        if_exists = 'replace', chunksize = 75)\n",
    "STOCH_HD.to_sql(name = f'{Measure}_HD', con = engine,\n",
    "        if_exists = 'replace', chunksize = 75)\n",
    "STOCH_KO.to_sql(name = f'{Measure}_KO', con = engine,\n",
    "        if_exists = 'replace', chunksize = 75)\n",
    "STOCH_NKE.to_sql(name = f'{Measure}_NKE', con = engine,\n",
    "        if_exists = 'replace', chunksize = 75)"
   ]
  },
  {
   "cell_type": "code",
   "execution_count": 16,
   "metadata": {},
   "outputs": [],
   "source": [
    "#b3\n",
    "Measure = \"STOCH\"\n",
    "output = \"full\"\n",
    "MainUrl = \"https://www.alphavantage.co/query?\"\n",
    "interval = \"daily\"\n",
    "series_type = \"close\"\n",
    "#callUrl = (f\"{MainUrl}function={Measure}&symbol={ticker}&interval={interval}\") + (f\"&time_period={time_period}&series_type={series_type}&apikey={API_KEY}\")\n",
    "time_period = \"20\"\n",
    "output_df = []\n",
    "\n",
    "\n",
    "for ticker in b3:\n",
    "    getData()\n",
    "\n",
    "STOCH_b3 = []\n",
    "for x in range(0,5):\n",
    "    output_df[x] = pd.DataFrame.from_dict(output_df[x], orient='index')\n",
    "    STOCH_b3.append(output_df[x])"
   ]
  },
  {
   "cell_type": "code",
   "execution_count": 17,
   "metadata": {},
   "outputs": [],
   "source": [
    "STOCH = STOCH_b3\n",
    "\n",
    "STOCH_JPM = STOCH[0]\n",
    "STOCH_MCD = STOCH[1]\n",
    "STOCH_UTX = STOCH[2]\n",
    "STOCH_MMM = STOCH[3]\n",
    "STOCH_AAPL = STOCH[4]\n",
    "\n",
    "STOCH_JPM = STOCH_JPM.reset_index(drop=False)\n",
    "STOCH_MCD = STOCH_MCD.reset_index(drop=False)\n",
    "STOCH_UTX = STOCH_UTX.reset_index(drop=False)\n",
    "STOCH_MMM = STOCH_MMM.reset_index(drop=False)\n",
    "STOCH_AAPL = STOCH_AAPL.reset_index(drop=False)\n",
    "\n",
    "STOCH_JPM.to_sql(name = f'{Measure}_JPM', con = engine,\n",
    "        if_exists = 'replace', chunksize = 75)\n",
    "STOCH_MCD.to_sql(name = f'{Measure}_MCD', con = engine,\n",
    "        if_exists = 'replace', chunksize = 75)\n",
    "STOCH_UTX.to_sql(name = f'{Measure}_UTX', con = engine,\n",
    "        if_exists = 'replace', chunksize = 75)\n",
    "STOCH_MMM.to_sql(name = f'{Measure}_MMM', con = engine,\n",
    "        if_exists = 'replace', chunksize = 75)\n",
    "STOCH_AAPL.to_sql(name = f'{Measure}_AAPL', con = engine,\n",
    "        if_exists = 'replace', chunksize = 75)"
   ]
  },
  {
   "cell_type": "code",
   "execution_count": 18,
   "metadata": {},
   "outputs": [],
   "source": [
    "#b4 = ['GS', 'IBM', 'TRV', 'VZ', 'CSCO']\n",
    "def getData():    \n",
    "    response = requests.get(callUrl)\n",
    "    data = response.json()\n",
    "    for key in data[f'Technical Analysis: {Measure}']:\n",
    "        data[f'Technical Analysis: {Measure}'][key].update({'Symbol' :f\"{ticker}\"})\n",
    "    output_df.append(data[f'Technical Analysis: {Measure}'])\n",
    "\n",
    "Measure = \"STOCH\"\n",
    "output = \"full\"\n",
    "MainUrl = \"https://www.alphavantage.co/query?\"\n",
    "interval = \"daily\"\n",
    "series_type = \"close\"\n",
    "callUrl = (f\"{MainUrl}function={Measure}&symbol={ticker}&interval={interval}\") + (f\"&time_period={time_period}&series_type={series_type}&apikey={API_KEY}\")\n",
    "time_period = \"20\"\n",
    "output_df = []\n",
    "for ticker in b4:\n",
    "    getData()\n",
    "\n",
    "STOCH_b4 = []\n",
    "for x in range(0,5):\n",
    "    output_df[x] = pd.DataFrame.from_dict(output_df[x], orient='index')\n",
    "    STOCH_b4.append(output_df[x])"
   ]
  },
  {
   "cell_type": "code",
   "execution_count": 19,
   "metadata": {},
   "outputs": [],
   "source": [
    "STOCH = STOCH_b4\n",
    "\n",
    "STOCH_GS = STOCH[0]\n",
    "STOCH_IBM = STOCH[1]\n",
    "STOCH_TRV = STOCH[2]\n",
    "STOCH_VZ = STOCH[3]\n",
    "STOCH_CSCO = STOCH[4]\n",
    "\n",
    "STOCH_GS = STOCH_GS.reset_index(drop=False)\n",
    "STOCH_IBM = STOCH_IBM.reset_index(drop=False)\n",
    "STOCH_TRV = STOCH_TRV.reset_index(drop=False)\n",
    "STOCH_VZ = STOCH_VZ.reset_index(drop=False)\n",
    "STOCH_CSCO = STOCH_CSCO.reset_index(drop=False)\n",
    "\n",
    "STOCH_GS.to_sql(name = f'{Measure}_GS', con = engine,\n",
    "        if_exists = 'replace', chunksize = 75)\n",
    "STOCH_IBM.to_sql(name = f'{Measure}_IBM', con = engine,\n",
    "        if_exists = 'replace', chunksize = 75)\n",
    "STOCH_TRV.to_sql(name = f'{Measure}_TRV', con = engine,\n",
    "        if_exists = 'replace', chunksize = 75)\n",
    "STOCH_VZ.to_sql(name = f'{Measure}_VZ', con = engine,\n",
    "        if_exists = 'replace', chunksize = 75)\n",
    "STOCH_CSCO.to_sql(name = f'{Measure}_CSCO', con = engine,\n",
    "        if_exists = 'replace', chunksize = 75)"
   ]
  },
  {
   "cell_type": "code",
   "execution_count": 20,
   "metadata": {},
   "outputs": [],
   "source": [
    "#b5 = ['DIS', 'UNH', 'XOM', 'MRK', 'BA']\n",
    "def getData():    \n",
    "    response = requests.get(callUrl)\n",
    "    data = response.json()\n",
    "    for key in data[f'Technical Analysis: {Measure}']:\n",
    "        data[f'Technical Analysis: {Measure}'][key].update({'Symbol' :f\"{ticker}\"})\n",
    "    output_df.append(data[f'Technical Analysis: {Measure}'])\n",
    "\n",
    "Measure = \"STOCH\"\n",
    "output = \"full\"\n",
    "MainUrl = \"https://www.alphavantage.co/query?\"\n",
    "interval = \"daily\"\n",
    "series_type = \"close\"\n",
    "callUrl = (f\"{MainUrl}function={Measure}&symbol={ticker}&interval={interval}\") + (f\"&time_period={time_period}&series_type={series_type}&apikey={API_KEY}\")\n",
    "time_period = \"20\"\n",
    "output_df = []\n",
    "for ticker in b5:\n",
    "    getData()\n",
    "\n",
    "STOCH_b5 = []\n",
    "for x in range(0,5):\n",
    "    output_df[x] = pd.DataFrame.from_dict(output_df[x], orient='index')\n",
    "    STOCH_b5.append(output_df[x])"
   ]
  },
  {
   "cell_type": "code",
   "execution_count": 24,
   "metadata": {},
   "outputs": [],
   "source": [
    "STOCH = STOCH_b5\n",
    "\n",
    "STOCH_DIS = STOCH[0]\n",
    "STOCH_UNH = STOCH[1]\n",
    "STOCH_XOM = STOCH[2]\n",
    "STOCH_MRK = STOCH[3]\n",
    "STOCH_BA = STOCH[4]\n",
    "\n",
    "STOCH_DIS = STOCH_DIS.reset_index(drop=False)\n",
    "STOCH_UNH = STOCH_UNH.reset_index(drop=False)\n",
    "STOCH_XOM = STOCH_XOM.reset_index(drop=False)\n",
    "STOCH_MRK = STOCH_MRK.reset_index(drop=False)\n",
    "STOCH_BA = STOCH_BA.reset_index(drop=False)\n",
    "\n",
    "STOCH_DIS.to_sql(name = f'{Measure}_DIS', con = engine,\n",
    "        if_exists = 'replace', chunksize = 75)\n",
    "STOCH_UNH.to_sql(name = f'{Measure}_UNH', con = engine,\n",
    "        if_exists = 'replace', chunksize = 75)\n",
    "STOCH_XOM.to_sql(name = f'{Measure}_XOM', con = engine,\n",
    "        if_exists = 'replace', chunksize = 75)\n",
    "STOCH_MRK.to_sql(name = f'{Measure}_MRK', con = engine,\n",
    "        if_exists = 'replace', chunksize = 75)\n",
    "STOCH_BA.to_sql(name = f'{Measure}_BA', con = engine,\n",
    "        if_exists = 'replace', chunksize = 75)"
   ]
  },
  {
   "cell_type": "code",
   "execution_count": null,
   "metadata": {},
   "outputs": [],
   "source": [
    "# b6 = ['INTC', 'DWDP', 'CAT', 'PFE', 'WBA']\n",
    "def getData():    \n",
    "    response = requests.get(callUrl)\n",
    "    data = response.json()\n",
    "    for key in data[f'Technical Analysis: {Measure}']:\n",
    "        data[f'Technical Analysis: {Measure}'][key].update({'Symbol' :f\"{ticker}\"})\n",
    "    output_df.append(data[f'Technical Analysis: {Measure}'])\n",
    "\n",
    "Measure = \"STOCH\"\n",
    "output = \"full\"\n",
    "MainUrl = \"https://www.alphavantage.co/query?\"\n",
    "interval = \"daily\"\n",
    "series_type = \"close\"\n",
    "callUrl = (f\"{MainUrl}function={Measure}&symbol={ticker}&interval={interval}\") + (f\"&time_period={time_period}&series_type={series_type}&apikey={API_KEY}\")\n",
    "time_period = \"20\"\n",
    "output_df = []\n",
    "for ticker in b6:\n",
    "    getData()\n",
    "\n",
    "STOCH_b6 = []\n",
    "for x in range(0,5):\n",
    "    output_df[x] = pd.DataFrame.from_dict(output_df[x], orient='index')\n",
    "    STOCH_b6.append(output_df[x])"
   ]
  },
  {
   "cell_type": "code",
   "execution_count": 25,
   "metadata": {},
   "outputs": [],
   "source": [
    "STOCH = STOCH_b6\n",
    "\n",
    "STOCH_INTC = STOCH[0]\n",
    "STOCH_DWDP = STOCH[1]\n",
    "STOCH_CAT = STOCH[2]\n",
    "STOCH_PFE = STOCH[3]\n",
    "STOCH_WBA = STOCH[4]\n",
    "\n",
    "STOCH_INTC = STOCH_INTC.reset_index(drop=False)\n",
    "STOCH_DWDP = STOCH_DWDP.reset_index(drop=False)\n",
    "STOCH_CAT = STOCH_CAT.reset_index(drop=False)\n",
    "STOCH_PFE = STOCH_PFE.reset_index(drop=False)\n",
    "STOCH_WBA = STOCH_WBA.reset_index(drop=False)\n",
    "\n",
    "STOCH_INTC.to_sql(name = f'{Measure}_INTC', con = engine,\n",
    "        if_exists = 'replace', chunksize = 75)\n",
    "STOCH_DWDP.to_sql(name = f'{Measure}_DWDP', con = engine,\n",
    "        if_exists = 'replace', chunksize = 75)\n",
    "STOCH_CAT.to_sql(name = f'{Measure}_CAT', con = engine,\n",
    "        if_exists = 'replace', chunksize = 75)\n",
    "STOCH_PFE.to_sql(name = f'{Measure}_PFE', con = engine,\n",
    "        if_exists = 'replace', chunksize = 75)\n",
    "STOCH_WBA.to_sql(name = f'{Measure}_WBA', con = engine,\n",
    "        if_exists = 'replace', chunksize = 75)"
   ]
  },
  {
   "cell_type": "markdown",
   "metadata": {},
   "source": [
    "## Fourth Batch"
   ]
  },
  {
   "cell_type": "markdown",
   "metadata": {},
   "source": [
    "## Fourth Batch"
   ]
  },
  {
   "cell_type": "markdown",
   "metadata": {},
   "source": [
    "## Fifth Batch"
   ]
  },
  {
   "cell_type": "markdown",
   "metadata": {},
   "source": [
    "## Fifth Batch"
   ]
  },
  {
   "cell_type": "code",
   "execution_count": null,
   "metadata": {},
   "outputs": [],
   "source": [
    "#b2\n",
    "STOCH_MSFT = STOCH[0]\n",
    "STOCH_WMT = STOCH[1]\n",
    "STOCH_V = STOCH[2]\n",
    "STOCH_AXP = STOCH[3]\n",
    "STOCH_PG = STOCH[4]"
   ]
  },
  {
   "cell_type": "code",
   "execution_count": null,
   "metadata": {},
   "outputs": [],
   "source": [
    "#b3\n",
    "STOCH_MSFT = STOCH[0]\n",
    "STOCH_WMT = STOCH[1]\n",
    "STOCH_V = STOCH[2]\n",
    "STOCH_AXP = STOCH[3]\n",
    "STOCH_PG = STOCH[4]"
   ]
  },
  {
   "cell_type": "code",
   "execution_count": null,
   "metadata": {},
   "outputs": [],
   "source": [
    "#b4\n",
    "STOCH_MSFT = STOCH[0]\n",
    "STOCH_WMT = STOCH[1]\n",
    "STOCH_V = STOCH[2]\n",
    "STOCH_AXP = STOCH[3]\n",
    "STOCH_PG = STOCH[4]"
   ]
  },
  {
   "cell_type": "code",
   "execution_count": null,
   "metadata": {},
   "outputs": [],
   "source": [
    "#b5\n",
    "STOCH_MSFT = STOCH[0]\n",
    "STOCH_WMT = STOCH[1]\n",
    "STOCH_V = STOCH[2]\n",
    "STOCH_AXP = STOCH[3]\n",
    "STOCH_PG = STOCH[4]"
   ]
  },
  {
   "cell_type": "code",
   "execution_count": null,
   "metadata": {},
   "outputs": [],
   "source": [
    "#b6\n",
    "STOCH_MSFT = STOCH[0]\n",
    "STOCH_WMT = STOCH[1]\n",
    "STOCH_V = STOCH[2]\n",
    "STOCH_AXP = STOCH[3]\n",
    "STOCH_PG = STOCH[4]"
   ]
  },
  {
   "cell_type": "code",
   "execution_count": null,
   "metadata": {},
   "outputs": [],
   "source": [
    "Measure = \"BBANDS\"\n",
    "output = \"full\"\n",
    "MainUrl = \"https://www.alphavantage.co/query?\"\n",
    "interval = \"daily\"\n",
    "series_type = \"close\"\n",
    "time_period = \"20\"\n",
    "BBANDS = []\n",
    "\n",
    "for ticker in b1:\n",
    "    response = requests.get(\n",
    "        f\"{MainUrl}function={Measure}&symbol={ticker}&interval={interval}&time_period={time_period}&series_type={series_type}&nbdevup=3&nbdevdn=3&apikey={API_KEY}\")\n",
    "    data = response.json()\n",
    "    BBANDS.append(data)\n",
    "       \n",
    "BBANDS"
   ]
  },
  {
   "cell_type": "code",
   "execution_count": null,
   "metadata": {},
   "outputs": [],
   "source": [
    "Measure = \"EMA\"\n",
    "output = \"full\"\n",
    "MainUrl = \"https://www.alphavantage.co/query?\"\n",
    "interval = \"daily\"\n",
    "series_type = \"close\"\n",
    "time_period = \"20\"\n",
    "EMA = []\n",
    "\n",
    "for ticker in b1:\n",
    "    response = requests.get(\n",
    "        f\"{MainUrl}function={Measure}&symbol={ticker}&interval={interval}&time_period={time_period}&series_type={series_type}&apikey={API_KEY}\")\n",
    "    data = response.json()\n",
    "    EMA.append(data)\n",
    "       \n",
    "EMA"
   ]
  },
  {
   "cell_type": "code",
   "execution_count": null,
   "metadata": {},
   "outputs": [],
   "source": [
    "Measure = \"ADX\"\n",
    "output = \"full\"\n",
    "MainUrl = \"https://www.alphavantage.co/query?\"\n",
    "interval = \"daily\"\n",
    "time_period = \"20\"\n",
    "ADX = []\n",
    "\n",
    "for ticker in b1:\n",
    "    response = requests.get(\n",
    "        f\"{MainUrl}function={Measure}&symbol={ticker}&interval={interval}&time_period={time_period}&apikey={API_KEY}\")\n",
    "    data = response.json()\n",
    "    ADX.append(data)\n",
    "     \n",
    "ADX"
   ]
  },
  {
   "cell_type": "code",
   "execution_count": null,
   "metadata": {},
   "outputs": [],
   "source": [
    "Measure = \"CCI\"\n",
    "output = \"full\"\n",
    "MainUrl = \"https://www.alphavantage.co/query?\"\n",
    "interval = \"daily\"\n",
    "time_period = \"20\"\n",
    "CCI = []\n",
    "\n",
    "for ticker in b1:\n",
    "    response = requests.get(\n",
    "        f\"{MainUrl}function={Measure}&symbol={ticker}&interval={interval}&time_period={time_period}&apikey={API_KEY}\")\n",
    "    data = response.json()\n",
    "    CCI.append(data)\n",
    "     \n",
    "CCI"
   ]
  },
  {
   "cell_type": "code",
   "execution_count": null,
   "metadata": {},
   "outputs": [],
   "source": [
    "#sql_add_STOCH = con.execute()"
   ]
  },
  {
   "cell_type": "code",
   "execution_count": null,
   "metadata": {},
   "outputs": [],
   "source": [
    "cursor.execute(\"USE stock_data\")\n",
    "daily_adj.to_sql(\n",
    "    name = 'daily_adj', conn = engine,\n",
    "    if_exists = 'replace', chunksize = 75)\n",
    "with engine.connect() as con:\n",
    "    con.execute('ALTER TABLE `daily_adj` ADD PRIMARY KEY (`index`);')"
   ]
  },
  {
   "cell_type": "code",
   "execution_count": null,
   "metadata": {},
   "outputs": [],
   "source": [
    "cursor.execute(\"USE stock_data\")\n",
    "STOCH.to_sql(\n",
    "    name = 'STOCH', conn = engine,\n",
    "    if_exists = 'replace', chunksize = 75)\n",
    "with engine.connect() as con:\n",
    "    con.execute('ALTER TABLE `STOCH` ADD PRIMARY KEY (`index`);')"
   ]
  },
  {
   "cell_type": "code",
   "execution_count": null,
   "metadata": {},
   "outputs": [],
   "source": [
    "engine.execute(\"USE stock_data\")\n",
    "STOCH.to_sql(\n",
    "    name = 'STOCH', con = engine,\n",
    "    if_exists = 'replace', chunksize = 75)\n",
    "with engine.connect() as con:\n",
    "    con.execute('ALTER TABLE `STOCH` ADD PRIMARY KEY (`index`);')"
   ]
  },
  {
   "cell_type": "code",
   "execution_count": null,
   "metadata": {},
   "outputs": [],
   "source": [
    "engine.execute(\"USE stock_data\")\n",
    "BBANDS.to_sql(\n",
    "    name = 'BBANDS', con = engine,\n",
    "    if_exists = 'replace', chunksize = 75)\n",
    "with engine.connect() as con:\n",
    "    con.execute('ALTER TABLE `BBANDS` ADD PRIMARY KEY (`index`);')"
   ]
  },
  {
   "cell_type": "code",
   "execution_count": null,
   "metadata": {},
   "outputs": [],
   "source": [
    "engine.execute(\"USE stock_data\")\n",
    "STOCH.to_sql(\n",
    "    name = 'STOCH', con = engine,\n",
    "    if_exists = 'replace', chunksize = 75)\n",
    "with engine.connect() as con:\n",
    "    con.execute('ALTER TABLE `STOCH` ADD PRIMARY KEY (`index`);')"
   ]
  }
 ],
 "metadata": {
  "kernelspec": {
   "display_name": "Python 3",
   "language": "python",
   "name": "python3"
  },
  "language_info": {
   "codemirror_mode": {
    "name": "ipython",
    "version": 3
   },
   "file_extension": ".py",
   "mimetype": "text/x-python",
   "name": "python",
   "nbconvert_exporter": "python",
   "pygments_lexer": "ipython3",
   "version": "3.6.7"
  }
 },
 "nbformat": 4,
 "nbformat_minor": 2
}
