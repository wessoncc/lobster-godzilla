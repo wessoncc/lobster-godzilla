{
 "cells": [
  {
   "cell_type": "markdown",
   "metadata": {},
   "source": [
    "## Dependencies"
   ]
  },
  {
   "cell_type": "markdown",
   "metadata": {},
   "source": [
    "## Dependencies"
   ]
  },
  {
   "cell_type": "code",
   "execution_count": 1,
   "metadata": {},
   "outputs": [],
   "source": [
    "import os\n",
    "import time\n",
    "import pandas as pd\n",
    "import json\n",
    "import requests\n",
    "from Alpha_key import API_KEY\n",
    "from sql_conn import password\n",
    "from sqlalchemy import create_engine\n",
    "import pymysql\n",
    "pymysql.install_as_MySQLdb()\n",
    "from sqlalchemy import create_engine, Column, Integer, String, Float, Date\n",
    "from sqlalchemy.ext.declarative import declarative_base\n",
    "Base = declarative_base()"
   ]
  },
  {
   "cell_type": "markdown",
   "metadata": {},
   "source": [
    "## SQL Stuff"
   ]
  },
  {
   "cell_type": "code",
   "execution_count": 2,
   "metadata": {},
   "outputs": [],
   "source": [
    "# host=\"secondawsdb.caa0qcwnjnci.us-east-2.rds.amazonaws.com\"\n",
    "# port=3307\n",
    "# dbname=\"stock_data\"\n",
    "# user=\"root\"\n",
    "# password=f\"{password}\""
   ]
  },
  {
   "cell_type": "code",
   "execution_count": 2,
   "metadata": {},
   "outputs": [],
   "source": [
    "host=\"localhost\"\n",
    "port=3306\n",
    "dbname=\"stock_data\"\n",
    "user=\"root\"\n",
    "password=f\"{password}\""
   ]
  },
  {
   "cell_type": "code",
   "execution_count": 3,
   "metadata": {},
   "outputs": [],
   "source": [
    "engine = create_engine(f\"mysql://root:{password}@{host}:{port}/stock_data\")"
   ]
  },
  {
   "cell_type": "code",
   "execution_count": 4,
   "metadata": {},
   "outputs": [],
   "source": [
    "Base.metadata.create_all(engine)"
   ]
  },
  {
   "cell_type": "code",
   "execution_count": 5,
   "metadata": {},
   "outputs": [],
   "source": [
    "from sqlalchemy.orm import Session\n",
    "session = Session(engine)"
   ]
  },
  {
   "cell_type": "code",
   "execution_count": 6,
   "metadata": {},
   "outputs": [
    {
     "data": {
      "text/plain": [
       "immutabledict({})"
      ]
     },
     "execution_count": 6,
     "metadata": {},
     "output_type": "execute_result"
    }
   ],
   "source": [
    "Base.metadata.tables"
   ]
  },
  {
   "cell_type": "markdown",
   "metadata": {},
   "source": [
    "## Create batches"
   ]
  },
  {
   "cell_type": "code",
   "execution_count": 7,
   "metadata": {},
   "outputs": [],
   "source": [
    "b1 = ['MSFT', 'WMT', 'V', 'AXP', 'PG']\n",
    "b2 = ['CVX', 'JNJ', 'HD', 'KO', 'NKE']\n",
    "b3 = ['JPM', 'MCD', 'UTX', 'MMM', 'AAPL']\n",
    "b4 = ['GS', 'IBM', 'TRV', 'VZ', 'CSCO']\n",
    "b5 = ['DIS', 'UNH', 'XOM', 'MRK', 'BA']\n",
    "b6 = ['INTC', 'DWDP', 'CAT', 'PFE', 'WBA']\n",
    "\n",
    "DJIA = [b1, b2, b3, b4, b5, b6]"
   ]
  },
  {
   "cell_type": "code",
   "execution_count": 8,
   "metadata": {},
   "outputs": [],
   "source": [
    "DJIA = ['MSFT', 'WMT', 'V', 'AXP', 'PG',\n",
    "        'CVX', 'JNJ', 'HD', 'KO', 'NKE',\n",
    "        'JPM', 'MCD', 'UTX', 'MMM', 'AAPL',\n",
    "        'GS', 'IBM', 'TRV', 'VZ', 'CSCO',\n",
    "        'DIS', 'UNH', 'XOM', 'MRK', 'BA',\n",
    "        'INTC', 'DWDP', 'CAT', 'PFE', 'WBA']"
   ]
  },
  {
   "cell_type": "code",
   "execution_count": 29,
   "metadata": {},
   "outputs": [],
   "source": [
    "DJIA = ['MSFT', 'WMT', 'V', 'AXP', 'PG']"
   ]
  },
  {
   "cell_type": "code",
   "execution_count": null,
   "metadata": {},
   "outputs": [],
   "source": []
  },
  {
   "cell_type": "code",
   "execution_count": null,
   "metadata": {},
   "outputs": [],
   "source": [
    "Measure = \"STOCH\"\n",
    "output = \"full\"\n",
    "MainUrl = \"https://www.alphavantage.co/query?\"\n",
    "interval = \"daily\"\n",
    "series_type = \"close\"\n",
    "callUrl = (f\"{MainUrl}function={Measure}&symbol={ticker}&interval={interval}\") + (f\"&series_type={series_type}&apikey={API_KEY}\")\n",
    "STOCH = []\n",
    "batchNumber = b1\n",
    "\n",
    "for ticker in batchNumber :\n",
    "    response = requests.get(callUrl)\n",
    "    data = response.json()\n",
    "    for key in data[f'Technical Analysis: {Measure}']:\n",
    "        data[f'Technical Analysis: {Measure}'][key].update({'Symbol' :f\"{ticker}\"})\n",
    "    STOCH.append(data[f'Technical Analysis: {Measure}'])\n",
    "    \n",
    "# STOCH_b1 = []\n",
    "# for x in range(0,5):\n",
    "#     STOCH[x] = pd.DataFrame.from_dict(STOCH[x], orient='index')\n",
    "#     STOCH_b1.append(STOCH[x])"
   ]
  },
  {
   "cell_type": "code",
   "execution_count": null,
   "metadata": {},
   "outputs": [],
   "source": [
    "len(STOCH)"
   ]
  },
  {
   "cell_type": "code",
   "execution_count": null,
   "metadata": {},
   "outputs": [],
   "source": [
    "#b1\n",
    "STOCH_MSFT = STOCH[0]; STOCH_WMT = STOCH[1]; STOCH_V = STOCH[2]; STOCH_AXP = STOCH[3]; STOCH_PG = STOCH[4]"
   ]
  },
  {
   "cell_type": "code",
   "execution_count": null,
   "metadata": {},
   "outputs": [],
   "source": [
    "#b1\n",
    "STOCH_MSFT = STOCH_MSFT.reset_index(drop=False)\n",
    "STOCH_WMT = STOCH_WMT.reset_index(drop=False)\n",
    "STOCH_V = STOCH_V.reset_index(drop=False)\n",
    "STOCH_AXP = STOCH_AXP.reset_index(drop=False)\n",
    "STOCH_PG = STOCH_PG.reset_index(drop=False)"
   ]
  },
  {
   "cell_type": "code",
   "execution_count": 1,
   "metadata": {},
   "outputs": [
    {
     "ename": "NameError",
     "evalue": "name 'STOCH_PG' is not defined",
     "output_type": "error",
     "traceback": [
      "\u001b[1;31m---------------------------------------------------------------------------\u001b[0m",
      "\u001b[1;31mNameError\u001b[0m                                 Traceback (most recent call last)",
      "\u001b[1;32m<ipython-input-1-6e33be5db5d2>\u001b[0m in \u001b[0;36m<module>\u001b[1;34m()\u001b[0m\n\u001b[1;32m----> 1\u001b[1;33m \u001b[0mSTOCH_PG\u001b[0m\u001b[1;33m\u001b[0m\u001b[0m\n\u001b[0m",
      "\u001b[1;31mNameError\u001b[0m: name 'STOCH_PG' is not defined"
     ]
    }
   ],
   "source": [
    "STOCH_PG"
   ]
  },
  {
   "cell_type": "code",
   "execution_count": null,
   "metadata": {},
   "outputs": [],
   "source": [
    "#b1\n",
    "STOCH_MSFT.to_sql(name = f'{Measure}_MSFT', con = engine,\n",
    "        if_exists = 'replace', chunksize = 75)\n",
    "STOCH_WMT.to_sql(name = f'{Measure}_WMT', con = engine,\n",
    "        if_exists = 'replace', chunksize = 75)\n",
    "STOCH_V.to_sql(name = f'{Measure}_V', con = engine,\n",
    "        if_exists = 'replace', chunksize = 75)\n",
    "STOCH_AXP.to_sql(name = f'{Measure}_AXP', con = engine,\n",
    "        if_exists = 'replace', chunksize = 75)\n",
    "STOCH_PG.to_sql(name = f'{Measure}_PG', con = engine,\n",
    "        if_exists = 'replace', chunksize = 75)"
   ]
  },
  {
   "cell_type": "code",
   "execution_count": 62,
   "metadata": {},
   "outputs": [],
   "source": [
    "b1 = ['MSFT', 'WMT', 'V', 'AXP', 'PG']\n",
    "b2 = ['CVX', 'JNJ', 'HD', 'KO', 'NKE']\n",
    "b3 = ['JPM', 'MCD', 'UTX', 'MMM', 'AAPL']\n",
    "b4 = ['GS', 'IBM', 'TRV', 'VZ', 'CSCO']\n",
    "b5 = ['DIS', 'UNH', 'XOM', 'MRK', 'BA']\n",
    "b6 = ['INTC', 'DWDP', 'CAT', 'PFE', 'WBA']\n",
    "\n",
    "DJIA = [b1, b2, b3, b4, b5, b6]"
   ]
  },
  {
   "cell_type": "markdown",
   "metadata": {},
   "source": [
    "## Define Function"
   ]
  },
  {
   "cell_type": "code",
   "execution_count": 63,
   "metadata": {},
   "outputs": [],
   "source": [
    "def getData():\n",
    "    #output_df = []\n",
    "    response = requests.get(f\"{MainUrl}function={Measure}&symbol={ticker}&interval={interval}&time_period={time_period}&series_type={series_type}&apikey={API_KEY}\")\n",
    "    data = response.json()\n",
    "    for key in data[f'Technical Analysis: {Measure}']:\n",
    "        data[f'Technical Analysis: {Measure}'][key].update({'Symbol' :f\"{ticker}\"})\n",
    "    output_dict = (data[f'Technical Analysis: {Measure}'])\n",
    "    output_df = pd.DataFrame.from_dict(output_dict, orient='index')\n",
    "    \n",
    "    output_df = output_df.reset_index(drop=False).rename(columns = {\"index\": \"date_key\"})\n",
    "\n",
    "    output_df.to_sql(name = f'{Measure.lower()}_{ticker.lower()}', con = engine,\n",
    "        if_exists = 'replace', chunksize = 75)\n",
    "#     sql_1 = (\n",
    "#         f'SELECT * FROM stock_data.{ticker.lower()} '\n",
    "#         f'INNER JOIN stock_data.{Measure.lower()}_{ticker.lower()} ON '\n",
    "#         f'stock_data.{ticker.lower()}.Date=stock_data.{Measure.lower()}_{ticker.lower()}.date_key;')\n",
    "#     sql_2 = (f'ALTER TABLE {ticker.lower()} DROP date_key, DROP Symbol;')\n",
    "#     print(sql_1, sql_2)\n",
    "#     engine.execute(sql_1)\n",
    "#     engine.execute(sql_2)"
   ]
  },
  {
   "cell_type": "markdown",
   "metadata": {},
   "source": [
    "## First Batch"
   ]
  },
  {
   "cell_type": "code",
   "execution_count": 64,
   "metadata": {},
   "outputs": [
    {
     "name": "stdout",
     "output_type": "stream",
     "text": [
      "SELECT * FROM stock_data.msft INNER JOIN stock_data.rsi_msft ON stock_data.msft.Date=stock_data.rsi_msft.date_key ALTER TABLE msft DROP date_key, DROP Symbol\n"
     ]
    },
    {
     "ename": "InternalError",
     "evalue": "(pymysql.err.InternalError) (1091, \"Can't DROP 'date_key'; check that column/key exists\") [SQL: 'ALTER TABLE msft DROP date_key, DROP Symbol'] (Background on this error at: http://sqlalche.me/e/2j85)",
     "output_type": "error",
     "traceback": [
      "\u001b[1;31m---------------------------------------------------------------------------\u001b[0m",
      "\u001b[1;31mInternalError\u001b[0m                             Traceback (most recent call last)",
      "\u001b[1;32m~\\AppData\\Local\\Continuum\\anaconda3\\lib\\site-packages\\sqlalchemy\\engine\\base.py\u001b[0m in \u001b[0;36m_execute_context\u001b[1;34m(self, dialect, constructor, statement, parameters, *args)\u001b[0m\n\u001b[0;32m   1192\u001b[0m                         \u001b[0mparameters\u001b[0m\u001b[1;33m,\u001b[0m\u001b[1;33m\u001b[0m\u001b[0m\n\u001b[1;32m-> 1193\u001b[1;33m                         context)\n\u001b[0m\u001b[0;32m   1194\u001b[0m         \u001b[1;32mexcept\u001b[0m \u001b[0mBaseException\u001b[0m \u001b[1;32mas\u001b[0m \u001b[0me\u001b[0m\u001b[1;33m:\u001b[0m\u001b[1;33m\u001b[0m\u001b[0m\n",
      "\u001b[1;32m~\\AppData\\Local\\Continuum\\anaconda3\\lib\\site-packages\\sqlalchemy\\engine\\default.py\u001b[0m in \u001b[0;36mdo_execute\u001b[1;34m(self, cursor, statement, parameters, context)\u001b[0m\n\u001b[0;32m    508\u001b[0m     \u001b[1;32mdef\u001b[0m \u001b[0mdo_execute\u001b[0m\u001b[1;33m(\u001b[0m\u001b[0mself\u001b[0m\u001b[1;33m,\u001b[0m \u001b[0mcursor\u001b[0m\u001b[1;33m,\u001b[0m \u001b[0mstatement\u001b[0m\u001b[1;33m,\u001b[0m \u001b[0mparameters\u001b[0m\u001b[1;33m,\u001b[0m \u001b[0mcontext\u001b[0m\u001b[1;33m=\u001b[0m\u001b[1;32mNone\u001b[0m\u001b[1;33m)\u001b[0m\u001b[1;33m:\u001b[0m\u001b[1;33m\u001b[0m\u001b[0m\n\u001b[1;32m--> 509\u001b[1;33m         \u001b[0mcursor\u001b[0m\u001b[1;33m.\u001b[0m\u001b[0mexecute\u001b[0m\u001b[1;33m(\u001b[0m\u001b[0mstatement\u001b[0m\u001b[1;33m,\u001b[0m \u001b[0mparameters\u001b[0m\u001b[1;33m)\u001b[0m\u001b[1;33m\u001b[0m\u001b[0m\n\u001b[0m\u001b[0;32m    510\u001b[0m \u001b[1;33m\u001b[0m\u001b[0m\n",
      "\u001b[1;32m~\\AppData\\Local\\Continuum\\anaconda3\\lib\\site-packages\\pymysql\\cursors.py\u001b[0m in \u001b[0;36mexecute\u001b[1;34m(self, query, args)\u001b[0m\n\u001b[0;32m    169\u001b[0m \u001b[1;33m\u001b[0m\u001b[0m\n\u001b[1;32m--> 170\u001b[1;33m         \u001b[0mresult\u001b[0m \u001b[1;33m=\u001b[0m \u001b[0mself\u001b[0m\u001b[1;33m.\u001b[0m\u001b[0m_query\u001b[0m\u001b[1;33m(\u001b[0m\u001b[0mquery\u001b[0m\u001b[1;33m)\u001b[0m\u001b[1;33m\u001b[0m\u001b[0m\n\u001b[0m\u001b[0;32m    171\u001b[0m         \u001b[0mself\u001b[0m\u001b[1;33m.\u001b[0m\u001b[0m_executed\u001b[0m \u001b[1;33m=\u001b[0m \u001b[0mquery\u001b[0m\u001b[1;33m\u001b[0m\u001b[0m\n",
      "\u001b[1;32m~\\AppData\\Local\\Continuum\\anaconda3\\lib\\site-packages\\pymysql\\cursors.py\u001b[0m in \u001b[0;36m_query\u001b[1;34m(self, q)\u001b[0m\n\u001b[0;32m    327\u001b[0m         \u001b[0mself\u001b[0m\u001b[1;33m.\u001b[0m\u001b[0m_clear_result\u001b[0m\u001b[1;33m(\u001b[0m\u001b[1;33m)\u001b[0m\u001b[1;33m\u001b[0m\u001b[0m\n\u001b[1;32m--> 328\u001b[1;33m         \u001b[0mconn\u001b[0m\u001b[1;33m.\u001b[0m\u001b[0mquery\u001b[0m\u001b[1;33m(\u001b[0m\u001b[0mq\u001b[0m\u001b[1;33m)\u001b[0m\u001b[1;33m\u001b[0m\u001b[0m\n\u001b[0m\u001b[0;32m    329\u001b[0m         \u001b[0mself\u001b[0m\u001b[1;33m.\u001b[0m\u001b[0m_do_get_result\u001b[0m\u001b[1;33m(\u001b[0m\u001b[1;33m)\u001b[0m\u001b[1;33m\u001b[0m\u001b[0m\n",
      "\u001b[1;32m~\\AppData\\Local\\Continuum\\anaconda3\\lib\\site-packages\\pymysql\\connections.py\u001b[0m in \u001b[0;36mquery\u001b[1;34m(self, sql, unbuffered)\u001b[0m\n\u001b[0;32m    516\u001b[0m         \u001b[0mself\u001b[0m\u001b[1;33m.\u001b[0m\u001b[0m_execute_command\u001b[0m\u001b[1;33m(\u001b[0m\u001b[0mCOMMAND\u001b[0m\u001b[1;33m.\u001b[0m\u001b[0mCOM_QUERY\u001b[0m\u001b[1;33m,\u001b[0m \u001b[0msql\u001b[0m\u001b[1;33m)\u001b[0m\u001b[1;33m\u001b[0m\u001b[0m\n\u001b[1;32m--> 517\u001b[1;33m         \u001b[0mself\u001b[0m\u001b[1;33m.\u001b[0m\u001b[0m_affected_rows\u001b[0m \u001b[1;33m=\u001b[0m \u001b[0mself\u001b[0m\u001b[1;33m.\u001b[0m\u001b[0m_read_query_result\u001b[0m\u001b[1;33m(\u001b[0m\u001b[0munbuffered\u001b[0m\u001b[1;33m=\u001b[0m\u001b[0munbuffered\u001b[0m\u001b[1;33m)\u001b[0m\u001b[1;33m\u001b[0m\u001b[0m\n\u001b[0m\u001b[0;32m    518\u001b[0m         \u001b[1;32mreturn\u001b[0m \u001b[0mself\u001b[0m\u001b[1;33m.\u001b[0m\u001b[0m_affected_rows\u001b[0m\u001b[1;33m\u001b[0m\u001b[0m\n",
      "\u001b[1;32m~\\AppData\\Local\\Continuum\\anaconda3\\lib\\site-packages\\pymysql\\connections.py\u001b[0m in \u001b[0;36m_read_query_result\u001b[1;34m(self, unbuffered)\u001b[0m\n\u001b[0;32m    731\u001b[0m             \u001b[0mresult\u001b[0m \u001b[1;33m=\u001b[0m \u001b[0mMySQLResult\u001b[0m\u001b[1;33m(\u001b[0m\u001b[0mself\u001b[0m\u001b[1;33m)\u001b[0m\u001b[1;33m\u001b[0m\u001b[0m\n\u001b[1;32m--> 732\u001b[1;33m             \u001b[0mresult\u001b[0m\u001b[1;33m.\u001b[0m\u001b[0mread\u001b[0m\u001b[1;33m(\u001b[0m\u001b[1;33m)\u001b[0m\u001b[1;33m\u001b[0m\u001b[0m\n\u001b[0m\u001b[0;32m    733\u001b[0m         \u001b[0mself\u001b[0m\u001b[1;33m.\u001b[0m\u001b[0m_result\u001b[0m \u001b[1;33m=\u001b[0m \u001b[0mresult\u001b[0m\u001b[1;33m\u001b[0m\u001b[0m\n",
      "\u001b[1;32m~\\AppData\\Local\\Continuum\\anaconda3\\lib\\site-packages\\pymysql\\connections.py\u001b[0m in \u001b[0;36mread\u001b[1;34m(self)\u001b[0m\n\u001b[0;32m   1074\u001b[0m         \u001b[1;32mtry\u001b[0m\u001b[1;33m:\u001b[0m\u001b[1;33m\u001b[0m\u001b[0m\n\u001b[1;32m-> 1075\u001b[1;33m             \u001b[0mfirst_packet\u001b[0m \u001b[1;33m=\u001b[0m \u001b[0mself\u001b[0m\u001b[1;33m.\u001b[0m\u001b[0mconnection\u001b[0m\u001b[1;33m.\u001b[0m\u001b[0m_read_packet\u001b[0m\u001b[1;33m(\u001b[0m\u001b[1;33m)\u001b[0m\u001b[1;33m\u001b[0m\u001b[0m\n\u001b[0m\u001b[0;32m   1076\u001b[0m \u001b[1;33m\u001b[0m\u001b[0m\n",
      "\u001b[1;32m~\\AppData\\Local\\Continuum\\anaconda3\\lib\\site-packages\\pymysql\\connections.py\u001b[0m in \u001b[0;36m_read_packet\u001b[1;34m(self, packet_type)\u001b[0m\n\u001b[0;32m    683\u001b[0m         \u001b[0mpacket\u001b[0m \u001b[1;33m=\u001b[0m \u001b[0mpacket_type\u001b[0m\u001b[1;33m(\u001b[0m\u001b[0mbuff\u001b[0m\u001b[1;33m,\u001b[0m \u001b[0mself\u001b[0m\u001b[1;33m.\u001b[0m\u001b[0mencoding\u001b[0m\u001b[1;33m)\u001b[0m\u001b[1;33m\u001b[0m\u001b[0m\n\u001b[1;32m--> 684\u001b[1;33m         \u001b[0mpacket\u001b[0m\u001b[1;33m.\u001b[0m\u001b[0mcheck_error\u001b[0m\u001b[1;33m(\u001b[0m\u001b[1;33m)\u001b[0m\u001b[1;33m\u001b[0m\u001b[0m\n\u001b[0m\u001b[0;32m    685\u001b[0m         \u001b[1;32mreturn\u001b[0m \u001b[0mpacket\u001b[0m\u001b[1;33m\u001b[0m\u001b[0m\n",
      "\u001b[1;32m~\\AppData\\Local\\Continuum\\anaconda3\\lib\\site-packages\\pymysql\\protocol.py\u001b[0m in \u001b[0;36mcheck_error\u001b[1;34m(self)\u001b[0m\n\u001b[0;32m    219\u001b[0m             \u001b[1;32mif\u001b[0m \u001b[0mDEBUG\u001b[0m\u001b[1;33m:\u001b[0m \u001b[0mprint\u001b[0m\u001b[1;33m(\u001b[0m\u001b[1;34m\"errno =\"\u001b[0m\u001b[1;33m,\u001b[0m \u001b[0merrno\u001b[0m\u001b[1;33m)\u001b[0m\u001b[1;33m\u001b[0m\u001b[0m\n\u001b[1;32m--> 220\u001b[1;33m             \u001b[0merr\u001b[0m\u001b[1;33m.\u001b[0m\u001b[0mraise_mysql_exception\u001b[0m\u001b[1;33m(\u001b[0m\u001b[0mself\u001b[0m\u001b[1;33m.\u001b[0m\u001b[0m_data\u001b[0m\u001b[1;33m)\u001b[0m\u001b[1;33m\u001b[0m\u001b[0m\n\u001b[0m\u001b[0;32m    221\u001b[0m \u001b[1;33m\u001b[0m\u001b[0m\n",
      "\u001b[1;32m~\\AppData\\Local\\Continuum\\anaconda3\\lib\\site-packages\\pymysql\\err.py\u001b[0m in \u001b[0;36mraise_mysql_exception\u001b[1;34m(data)\u001b[0m\n\u001b[0;32m    108\u001b[0m     \u001b[0merrorclass\u001b[0m \u001b[1;33m=\u001b[0m \u001b[0merror_map\u001b[0m\u001b[1;33m.\u001b[0m\u001b[0mget\u001b[0m\u001b[1;33m(\u001b[0m\u001b[0merrno\u001b[0m\u001b[1;33m,\u001b[0m \u001b[0mInternalError\u001b[0m\u001b[1;33m)\u001b[0m\u001b[1;33m\u001b[0m\u001b[0m\n\u001b[1;32m--> 109\u001b[1;33m     \u001b[1;32mraise\u001b[0m \u001b[0merrorclass\u001b[0m\u001b[1;33m(\u001b[0m\u001b[0merrno\u001b[0m\u001b[1;33m,\u001b[0m \u001b[0merrval\u001b[0m\u001b[1;33m)\u001b[0m\u001b[1;33m\u001b[0m\u001b[0m\n\u001b[0m",
      "\u001b[1;31mInternalError\u001b[0m: (1091, \"Can't DROP 'date_key'; check that column/key exists\")",
      "\nThe above exception was the direct cause of the following exception:\n",
      "\u001b[1;31mInternalError\u001b[0m                             Traceback (most recent call last)",
      "\u001b[1;32m<ipython-input-64-dbcf17607a2b>\u001b[0m in \u001b[0;36m<module>\u001b[1;34m()\u001b[0m\n\u001b[0;32m     11\u001b[0m \u001b[1;33m\u001b[0m\u001b[0m\n\u001b[0;32m     12\u001b[0m \u001b[1;32mfor\u001b[0m \u001b[0mticker\u001b[0m \u001b[1;32min\u001b[0m \u001b[0mb1\u001b[0m\u001b[1;33m:\u001b[0m\u001b[1;33m\u001b[0m\u001b[0m\n\u001b[1;32m---> 13\u001b[1;33m     \u001b[0mgetData\u001b[0m\u001b[1;33m(\u001b[0m\u001b[1;33m)\u001b[0m\u001b[1;33m\u001b[0m\u001b[0m\n\u001b[0m\u001b[0;32m     14\u001b[0m \u001b[1;33m\u001b[0m\u001b[0m\n\u001b[0;32m     15\u001b[0m \u001b[1;31m#output_df = []\u001b[0m\u001b[1;33m\u001b[0m\u001b[1;33m\u001b[0m\u001b[0m\n",
      "\u001b[1;32m<ipython-input-63-81ecf6fc31c1>\u001b[0m in \u001b[0;36mgetData\u001b[1;34m()\u001b[0m\n\u001b[0;32m     19\u001b[0m     \u001b[0mprint\u001b[0m\u001b[1;33m(\u001b[0m\u001b[0msql_1\u001b[0m\u001b[1;33m,\u001b[0m \u001b[0msql_2\u001b[0m\u001b[1;33m)\u001b[0m\u001b[1;33m\u001b[0m\u001b[0m\n\u001b[0;32m     20\u001b[0m     \u001b[0mengine\u001b[0m\u001b[1;33m.\u001b[0m\u001b[0mexecute\u001b[0m\u001b[1;33m(\u001b[0m\u001b[0msql_1\u001b[0m\u001b[1;33m)\u001b[0m\u001b[1;33m\u001b[0m\u001b[0m\n\u001b[1;32m---> 21\u001b[1;33m     \u001b[0mengine\u001b[0m\u001b[1;33m.\u001b[0m\u001b[0mexecute\u001b[0m\u001b[1;33m(\u001b[0m\u001b[0msql_2\u001b[0m\u001b[1;33m)\u001b[0m\u001b[1;33m\u001b[0m\u001b[0m\n\u001b[0m",
      "\u001b[1;32m~\\AppData\\Local\\Continuum\\anaconda3\\lib\\site-packages\\sqlalchemy\\engine\\base.py\u001b[0m in \u001b[0;36mexecute\u001b[1;34m(self, statement, *multiparams, **params)\u001b[0m\n\u001b[0;32m   2073\u001b[0m \u001b[1;33m\u001b[0m\u001b[0m\n\u001b[0;32m   2074\u001b[0m         \u001b[0mconnection\u001b[0m \u001b[1;33m=\u001b[0m \u001b[0mself\u001b[0m\u001b[1;33m.\u001b[0m\u001b[0mcontextual_connect\u001b[0m\u001b[1;33m(\u001b[0m\u001b[0mclose_with_result\u001b[0m\u001b[1;33m=\u001b[0m\u001b[1;32mTrue\u001b[0m\u001b[1;33m)\u001b[0m\u001b[1;33m\u001b[0m\u001b[0m\n\u001b[1;32m-> 2075\u001b[1;33m         \u001b[1;32mreturn\u001b[0m \u001b[0mconnection\u001b[0m\u001b[1;33m.\u001b[0m\u001b[0mexecute\u001b[0m\u001b[1;33m(\u001b[0m\u001b[0mstatement\u001b[0m\u001b[1;33m,\u001b[0m \u001b[1;33m*\u001b[0m\u001b[0mmultiparams\u001b[0m\u001b[1;33m,\u001b[0m \u001b[1;33m**\u001b[0m\u001b[0mparams\u001b[0m\u001b[1;33m)\u001b[0m\u001b[1;33m\u001b[0m\u001b[0m\n\u001b[0m\u001b[0;32m   2076\u001b[0m \u001b[1;33m\u001b[0m\u001b[0m\n\u001b[0;32m   2077\u001b[0m     \u001b[1;32mdef\u001b[0m \u001b[0mscalar\u001b[0m\u001b[1;33m(\u001b[0m\u001b[0mself\u001b[0m\u001b[1;33m,\u001b[0m \u001b[0mstatement\u001b[0m\u001b[1;33m,\u001b[0m \u001b[1;33m*\u001b[0m\u001b[0mmultiparams\u001b[0m\u001b[1;33m,\u001b[0m \u001b[1;33m**\u001b[0m\u001b[0mparams\u001b[0m\u001b[1;33m)\u001b[0m\u001b[1;33m:\u001b[0m\u001b[1;33m\u001b[0m\u001b[0m\n",
      "\u001b[1;32m~\\AppData\\Local\\Continuum\\anaconda3\\lib\\site-packages\\sqlalchemy\\engine\\base.py\u001b[0m in \u001b[0;36mexecute\u001b[1;34m(self, object, *multiparams, **params)\u001b[0m\n\u001b[0;32m    940\u001b[0m         \"\"\"\n\u001b[0;32m    941\u001b[0m         \u001b[1;32mif\u001b[0m \u001b[0misinstance\u001b[0m\u001b[1;33m(\u001b[0m\u001b[0mobject\u001b[0m\u001b[1;33m,\u001b[0m \u001b[0mutil\u001b[0m\u001b[1;33m.\u001b[0m\u001b[0mstring_types\u001b[0m\u001b[1;33m[\u001b[0m\u001b[1;36m0\u001b[0m\u001b[1;33m]\u001b[0m\u001b[1;33m)\u001b[0m\u001b[1;33m:\u001b[0m\u001b[1;33m\u001b[0m\u001b[0m\n\u001b[1;32m--> 942\u001b[1;33m             \u001b[1;32mreturn\u001b[0m \u001b[0mself\u001b[0m\u001b[1;33m.\u001b[0m\u001b[0m_execute_text\u001b[0m\u001b[1;33m(\u001b[0m\u001b[0mobject\u001b[0m\u001b[1;33m,\u001b[0m \u001b[0mmultiparams\u001b[0m\u001b[1;33m,\u001b[0m \u001b[0mparams\u001b[0m\u001b[1;33m)\u001b[0m\u001b[1;33m\u001b[0m\u001b[0m\n\u001b[0m\u001b[0;32m    943\u001b[0m         \u001b[1;32mtry\u001b[0m\u001b[1;33m:\u001b[0m\u001b[1;33m\u001b[0m\u001b[0m\n\u001b[0;32m    944\u001b[0m             \u001b[0mmeth\u001b[0m \u001b[1;33m=\u001b[0m \u001b[0mobject\u001b[0m\u001b[1;33m.\u001b[0m\u001b[0m_execute_on_connection\u001b[0m\u001b[1;33m\u001b[0m\u001b[0m\n",
      "\u001b[1;32m~\\AppData\\Local\\Continuum\\anaconda3\\lib\\site-packages\\sqlalchemy\\engine\\base.py\u001b[0m in \u001b[0;36m_execute_text\u001b[1;34m(self, statement, multiparams, params)\u001b[0m\n\u001b[0;32m   1102\u001b[0m             \u001b[0mstatement\u001b[0m\u001b[1;33m,\u001b[0m\u001b[1;33m\u001b[0m\u001b[0m\n\u001b[0;32m   1103\u001b[0m             \u001b[0mparameters\u001b[0m\u001b[1;33m,\u001b[0m\u001b[1;33m\u001b[0m\u001b[0m\n\u001b[1;32m-> 1104\u001b[1;33m             \u001b[0mstatement\u001b[0m\u001b[1;33m,\u001b[0m \u001b[0mparameters\u001b[0m\u001b[1;33m\u001b[0m\u001b[0m\n\u001b[0m\u001b[0;32m   1105\u001b[0m         )\n\u001b[0;32m   1106\u001b[0m         \u001b[1;32mif\u001b[0m \u001b[0mself\u001b[0m\u001b[1;33m.\u001b[0m\u001b[0m_has_events\u001b[0m \u001b[1;32mor\u001b[0m \u001b[0mself\u001b[0m\u001b[1;33m.\u001b[0m\u001b[0mengine\u001b[0m\u001b[1;33m.\u001b[0m\u001b[0m_has_events\u001b[0m\u001b[1;33m:\u001b[0m\u001b[1;33m\u001b[0m\u001b[0m\n",
      "\u001b[1;32m~\\AppData\\Local\\Continuum\\anaconda3\\lib\\site-packages\\sqlalchemy\\engine\\base.py\u001b[0m in \u001b[0;36m_execute_context\u001b[1;34m(self, dialect, constructor, statement, parameters, *args)\u001b[0m\n\u001b[0;32m   1198\u001b[0m                 \u001b[0mparameters\u001b[0m\u001b[1;33m,\u001b[0m\u001b[1;33m\u001b[0m\u001b[0m\n\u001b[0;32m   1199\u001b[0m                 \u001b[0mcursor\u001b[0m\u001b[1;33m,\u001b[0m\u001b[1;33m\u001b[0m\u001b[0m\n\u001b[1;32m-> 1200\u001b[1;33m                 context)\n\u001b[0m\u001b[0;32m   1201\u001b[0m \u001b[1;33m\u001b[0m\u001b[0m\n\u001b[0;32m   1202\u001b[0m         \u001b[1;32mif\u001b[0m \u001b[0mself\u001b[0m\u001b[1;33m.\u001b[0m\u001b[0m_has_events\u001b[0m \u001b[1;32mor\u001b[0m \u001b[0mself\u001b[0m\u001b[1;33m.\u001b[0m\u001b[0mengine\u001b[0m\u001b[1;33m.\u001b[0m\u001b[0m_has_events\u001b[0m\u001b[1;33m:\u001b[0m\u001b[1;33m\u001b[0m\u001b[0m\n",
      "\u001b[1;32m~\\AppData\\Local\\Continuum\\anaconda3\\lib\\site-packages\\sqlalchemy\\engine\\base.py\u001b[0m in \u001b[0;36m_handle_dbapi_exception\u001b[1;34m(self, e, statement, parameters, cursor, context)\u001b[0m\n\u001b[0;32m   1411\u001b[0m                 util.raise_from_cause(\n\u001b[0;32m   1412\u001b[0m                     \u001b[0msqlalchemy_exception\u001b[0m\u001b[1;33m,\u001b[0m\u001b[1;33m\u001b[0m\u001b[0m\n\u001b[1;32m-> 1413\u001b[1;33m                     \u001b[0mexc_info\u001b[0m\u001b[1;33m\u001b[0m\u001b[0m\n\u001b[0m\u001b[0;32m   1414\u001b[0m                 )\n\u001b[0;32m   1415\u001b[0m             \u001b[1;32melse\u001b[0m\u001b[1;33m:\u001b[0m\u001b[1;33m\u001b[0m\u001b[0m\n",
      "\u001b[1;32m~\\AppData\\Local\\Continuum\\anaconda3\\lib\\site-packages\\sqlalchemy\\util\\compat.py\u001b[0m in \u001b[0;36mraise_from_cause\u001b[1;34m(exception, exc_info)\u001b[0m\n\u001b[0;32m    263\u001b[0m     \u001b[0mexc_type\u001b[0m\u001b[1;33m,\u001b[0m \u001b[0mexc_value\u001b[0m\u001b[1;33m,\u001b[0m \u001b[0mexc_tb\u001b[0m \u001b[1;33m=\u001b[0m \u001b[0mexc_info\u001b[0m\u001b[1;33m\u001b[0m\u001b[0m\n\u001b[0;32m    264\u001b[0m     \u001b[0mcause\u001b[0m \u001b[1;33m=\u001b[0m \u001b[0mexc_value\u001b[0m \u001b[1;32mif\u001b[0m \u001b[0mexc_value\u001b[0m \u001b[1;32mis\u001b[0m \u001b[1;32mnot\u001b[0m \u001b[0mexception\u001b[0m \u001b[1;32melse\u001b[0m \u001b[1;32mNone\u001b[0m\u001b[1;33m\u001b[0m\u001b[0m\n\u001b[1;32m--> 265\u001b[1;33m     \u001b[0mreraise\u001b[0m\u001b[1;33m(\u001b[0m\u001b[0mtype\u001b[0m\u001b[1;33m(\u001b[0m\u001b[0mexception\u001b[0m\u001b[1;33m)\u001b[0m\u001b[1;33m,\u001b[0m \u001b[0mexception\u001b[0m\u001b[1;33m,\u001b[0m \u001b[0mtb\u001b[0m\u001b[1;33m=\u001b[0m\u001b[0mexc_tb\u001b[0m\u001b[1;33m,\u001b[0m \u001b[0mcause\u001b[0m\u001b[1;33m=\u001b[0m\u001b[0mcause\u001b[0m\u001b[1;33m)\u001b[0m\u001b[1;33m\u001b[0m\u001b[0m\n\u001b[0m\u001b[0;32m    266\u001b[0m \u001b[1;33m\u001b[0m\u001b[0m\n\u001b[0;32m    267\u001b[0m \u001b[1;32mif\u001b[0m \u001b[0mpy3k\u001b[0m\u001b[1;33m:\u001b[0m\u001b[1;33m\u001b[0m\u001b[0m\n",
      "\u001b[1;32m~\\AppData\\Local\\Continuum\\anaconda3\\lib\\site-packages\\sqlalchemy\\util\\compat.py\u001b[0m in \u001b[0;36mreraise\u001b[1;34m(tp, value, tb, cause)\u001b[0m\n\u001b[0;32m    246\u001b[0m             \u001b[0mvalue\u001b[0m\u001b[1;33m.\u001b[0m\u001b[0m__cause__\u001b[0m \u001b[1;33m=\u001b[0m \u001b[0mcause\u001b[0m\u001b[1;33m\u001b[0m\u001b[0m\n\u001b[0;32m    247\u001b[0m         \u001b[1;32mif\u001b[0m \u001b[0mvalue\u001b[0m\u001b[1;33m.\u001b[0m\u001b[0m__traceback__\u001b[0m \u001b[1;32mis\u001b[0m \u001b[1;32mnot\u001b[0m \u001b[0mtb\u001b[0m\u001b[1;33m:\u001b[0m\u001b[1;33m\u001b[0m\u001b[0m\n\u001b[1;32m--> 248\u001b[1;33m             \u001b[1;32mraise\u001b[0m \u001b[0mvalue\u001b[0m\u001b[1;33m.\u001b[0m\u001b[0mwith_traceback\u001b[0m\u001b[1;33m(\u001b[0m\u001b[0mtb\u001b[0m\u001b[1;33m)\u001b[0m\u001b[1;33m\u001b[0m\u001b[0m\n\u001b[0m\u001b[0;32m    249\u001b[0m         \u001b[1;32mraise\u001b[0m \u001b[0mvalue\u001b[0m\u001b[1;33m\u001b[0m\u001b[0m\n\u001b[0;32m    250\u001b[0m \u001b[1;33m\u001b[0m\u001b[0m\n",
      "\u001b[1;32m~\\AppData\\Local\\Continuum\\anaconda3\\lib\\site-packages\\sqlalchemy\\engine\\base.py\u001b[0m in \u001b[0;36m_execute_context\u001b[1;34m(self, dialect, constructor, statement, parameters, *args)\u001b[0m\n\u001b[0;32m   1191\u001b[0m                         \u001b[0mstatement\u001b[0m\u001b[1;33m,\u001b[0m\u001b[1;33m\u001b[0m\u001b[0m\n\u001b[0;32m   1192\u001b[0m                         \u001b[0mparameters\u001b[0m\u001b[1;33m,\u001b[0m\u001b[1;33m\u001b[0m\u001b[0m\n\u001b[1;32m-> 1193\u001b[1;33m                         context)\n\u001b[0m\u001b[0;32m   1194\u001b[0m         \u001b[1;32mexcept\u001b[0m \u001b[0mBaseException\u001b[0m \u001b[1;32mas\u001b[0m \u001b[0me\u001b[0m\u001b[1;33m:\u001b[0m\u001b[1;33m\u001b[0m\u001b[0m\n\u001b[0;32m   1195\u001b[0m             self._handle_dbapi_exception(\n",
      "\u001b[1;32m~\\AppData\\Local\\Continuum\\anaconda3\\lib\\site-packages\\sqlalchemy\\engine\\default.py\u001b[0m in \u001b[0;36mdo_execute\u001b[1;34m(self, cursor, statement, parameters, context)\u001b[0m\n\u001b[0;32m    507\u001b[0m \u001b[1;33m\u001b[0m\u001b[0m\n\u001b[0;32m    508\u001b[0m     \u001b[1;32mdef\u001b[0m \u001b[0mdo_execute\u001b[0m\u001b[1;33m(\u001b[0m\u001b[0mself\u001b[0m\u001b[1;33m,\u001b[0m \u001b[0mcursor\u001b[0m\u001b[1;33m,\u001b[0m \u001b[0mstatement\u001b[0m\u001b[1;33m,\u001b[0m \u001b[0mparameters\u001b[0m\u001b[1;33m,\u001b[0m \u001b[0mcontext\u001b[0m\u001b[1;33m=\u001b[0m\u001b[1;32mNone\u001b[0m\u001b[1;33m)\u001b[0m\u001b[1;33m:\u001b[0m\u001b[1;33m\u001b[0m\u001b[0m\n\u001b[1;32m--> 509\u001b[1;33m         \u001b[0mcursor\u001b[0m\u001b[1;33m.\u001b[0m\u001b[0mexecute\u001b[0m\u001b[1;33m(\u001b[0m\u001b[0mstatement\u001b[0m\u001b[1;33m,\u001b[0m \u001b[0mparameters\u001b[0m\u001b[1;33m)\u001b[0m\u001b[1;33m\u001b[0m\u001b[0m\n\u001b[0m\u001b[0;32m    510\u001b[0m \u001b[1;33m\u001b[0m\u001b[0m\n\u001b[0;32m    511\u001b[0m     \u001b[1;32mdef\u001b[0m \u001b[0mdo_execute_no_params\u001b[0m\u001b[1;33m(\u001b[0m\u001b[0mself\u001b[0m\u001b[1;33m,\u001b[0m \u001b[0mcursor\u001b[0m\u001b[1;33m,\u001b[0m \u001b[0mstatement\u001b[0m\u001b[1;33m,\u001b[0m \u001b[0mcontext\u001b[0m\u001b[1;33m=\u001b[0m\u001b[1;32mNone\u001b[0m\u001b[1;33m)\u001b[0m\u001b[1;33m:\u001b[0m\u001b[1;33m\u001b[0m\u001b[0m\n",
      "\u001b[1;32m~\\AppData\\Local\\Continuum\\anaconda3\\lib\\site-packages\\pymysql\\cursors.py\u001b[0m in \u001b[0;36mexecute\u001b[1;34m(self, query, args)\u001b[0m\n\u001b[0;32m    168\u001b[0m         \u001b[0mquery\u001b[0m \u001b[1;33m=\u001b[0m \u001b[0mself\u001b[0m\u001b[1;33m.\u001b[0m\u001b[0mmogrify\u001b[0m\u001b[1;33m(\u001b[0m\u001b[0mquery\u001b[0m\u001b[1;33m,\u001b[0m \u001b[0margs\u001b[0m\u001b[1;33m)\u001b[0m\u001b[1;33m\u001b[0m\u001b[0m\n\u001b[0;32m    169\u001b[0m \u001b[1;33m\u001b[0m\u001b[0m\n\u001b[1;32m--> 170\u001b[1;33m         \u001b[0mresult\u001b[0m \u001b[1;33m=\u001b[0m \u001b[0mself\u001b[0m\u001b[1;33m.\u001b[0m\u001b[0m_query\u001b[0m\u001b[1;33m(\u001b[0m\u001b[0mquery\u001b[0m\u001b[1;33m)\u001b[0m\u001b[1;33m\u001b[0m\u001b[0m\n\u001b[0m\u001b[0;32m    171\u001b[0m         \u001b[0mself\u001b[0m\u001b[1;33m.\u001b[0m\u001b[0m_executed\u001b[0m \u001b[1;33m=\u001b[0m \u001b[0mquery\u001b[0m\u001b[1;33m\u001b[0m\u001b[0m\n\u001b[0;32m    172\u001b[0m         \u001b[1;32mreturn\u001b[0m \u001b[0mresult\u001b[0m\u001b[1;33m\u001b[0m\u001b[0m\n",
      "\u001b[1;32m~\\AppData\\Local\\Continuum\\anaconda3\\lib\\site-packages\\pymysql\\cursors.py\u001b[0m in \u001b[0;36m_query\u001b[1;34m(self, q)\u001b[0m\n\u001b[0;32m    326\u001b[0m         \u001b[0mself\u001b[0m\u001b[1;33m.\u001b[0m\u001b[0m_last_executed\u001b[0m \u001b[1;33m=\u001b[0m \u001b[0mq\u001b[0m\u001b[1;33m\u001b[0m\u001b[0m\n\u001b[0;32m    327\u001b[0m         \u001b[0mself\u001b[0m\u001b[1;33m.\u001b[0m\u001b[0m_clear_result\u001b[0m\u001b[1;33m(\u001b[0m\u001b[1;33m)\u001b[0m\u001b[1;33m\u001b[0m\u001b[0m\n\u001b[1;32m--> 328\u001b[1;33m         \u001b[0mconn\u001b[0m\u001b[1;33m.\u001b[0m\u001b[0mquery\u001b[0m\u001b[1;33m(\u001b[0m\u001b[0mq\u001b[0m\u001b[1;33m)\u001b[0m\u001b[1;33m\u001b[0m\u001b[0m\n\u001b[0m\u001b[0;32m    329\u001b[0m         \u001b[0mself\u001b[0m\u001b[1;33m.\u001b[0m\u001b[0m_do_get_result\u001b[0m\u001b[1;33m(\u001b[0m\u001b[1;33m)\u001b[0m\u001b[1;33m\u001b[0m\u001b[0m\n\u001b[0;32m    330\u001b[0m         \u001b[1;32mreturn\u001b[0m \u001b[0mself\u001b[0m\u001b[1;33m.\u001b[0m\u001b[0mrowcount\u001b[0m\u001b[1;33m\u001b[0m\u001b[0m\n",
      "\u001b[1;32m~\\AppData\\Local\\Continuum\\anaconda3\\lib\\site-packages\\pymysql\\connections.py\u001b[0m in \u001b[0;36mquery\u001b[1;34m(self, sql, unbuffered)\u001b[0m\n\u001b[0;32m    515\u001b[0m                 \u001b[0msql\u001b[0m \u001b[1;33m=\u001b[0m \u001b[0msql\u001b[0m\u001b[1;33m.\u001b[0m\u001b[0mencode\u001b[0m\u001b[1;33m(\u001b[0m\u001b[0mself\u001b[0m\u001b[1;33m.\u001b[0m\u001b[0mencoding\u001b[0m\u001b[1;33m,\u001b[0m \u001b[1;34m'surrogateescape'\u001b[0m\u001b[1;33m)\u001b[0m\u001b[1;33m\u001b[0m\u001b[0m\n\u001b[0;32m    516\u001b[0m         \u001b[0mself\u001b[0m\u001b[1;33m.\u001b[0m\u001b[0m_execute_command\u001b[0m\u001b[1;33m(\u001b[0m\u001b[0mCOMMAND\u001b[0m\u001b[1;33m.\u001b[0m\u001b[0mCOM_QUERY\u001b[0m\u001b[1;33m,\u001b[0m \u001b[0msql\u001b[0m\u001b[1;33m)\u001b[0m\u001b[1;33m\u001b[0m\u001b[0m\n\u001b[1;32m--> 517\u001b[1;33m         \u001b[0mself\u001b[0m\u001b[1;33m.\u001b[0m\u001b[0m_affected_rows\u001b[0m \u001b[1;33m=\u001b[0m \u001b[0mself\u001b[0m\u001b[1;33m.\u001b[0m\u001b[0m_read_query_result\u001b[0m\u001b[1;33m(\u001b[0m\u001b[0munbuffered\u001b[0m\u001b[1;33m=\u001b[0m\u001b[0munbuffered\u001b[0m\u001b[1;33m)\u001b[0m\u001b[1;33m\u001b[0m\u001b[0m\n\u001b[0m\u001b[0;32m    518\u001b[0m         \u001b[1;32mreturn\u001b[0m \u001b[0mself\u001b[0m\u001b[1;33m.\u001b[0m\u001b[0m_affected_rows\u001b[0m\u001b[1;33m\u001b[0m\u001b[0m\n\u001b[0;32m    519\u001b[0m \u001b[1;33m\u001b[0m\u001b[0m\n",
      "\u001b[1;32m~\\AppData\\Local\\Continuum\\anaconda3\\lib\\site-packages\\pymysql\\connections.py\u001b[0m in \u001b[0;36m_read_query_result\u001b[1;34m(self, unbuffered)\u001b[0m\n\u001b[0;32m    730\u001b[0m         \u001b[1;32melse\u001b[0m\u001b[1;33m:\u001b[0m\u001b[1;33m\u001b[0m\u001b[0m\n\u001b[0;32m    731\u001b[0m             \u001b[0mresult\u001b[0m \u001b[1;33m=\u001b[0m \u001b[0mMySQLResult\u001b[0m\u001b[1;33m(\u001b[0m\u001b[0mself\u001b[0m\u001b[1;33m)\u001b[0m\u001b[1;33m\u001b[0m\u001b[0m\n\u001b[1;32m--> 732\u001b[1;33m             \u001b[0mresult\u001b[0m\u001b[1;33m.\u001b[0m\u001b[0mread\u001b[0m\u001b[1;33m(\u001b[0m\u001b[1;33m)\u001b[0m\u001b[1;33m\u001b[0m\u001b[0m\n\u001b[0m\u001b[0;32m    733\u001b[0m         \u001b[0mself\u001b[0m\u001b[1;33m.\u001b[0m\u001b[0m_result\u001b[0m \u001b[1;33m=\u001b[0m \u001b[0mresult\u001b[0m\u001b[1;33m\u001b[0m\u001b[0m\n\u001b[0;32m    734\u001b[0m         \u001b[1;32mif\u001b[0m \u001b[0mresult\u001b[0m\u001b[1;33m.\u001b[0m\u001b[0mserver_status\u001b[0m \u001b[1;32mis\u001b[0m \u001b[1;32mnot\u001b[0m \u001b[1;32mNone\u001b[0m\u001b[1;33m:\u001b[0m\u001b[1;33m\u001b[0m\u001b[0m\n",
      "\u001b[1;32m~\\AppData\\Local\\Continuum\\anaconda3\\lib\\site-packages\\pymysql\\connections.py\u001b[0m in \u001b[0;36mread\u001b[1;34m(self)\u001b[0m\n\u001b[0;32m   1073\u001b[0m     \u001b[1;32mdef\u001b[0m \u001b[0mread\u001b[0m\u001b[1;33m(\u001b[0m\u001b[0mself\u001b[0m\u001b[1;33m)\u001b[0m\u001b[1;33m:\u001b[0m\u001b[1;33m\u001b[0m\u001b[0m\n\u001b[0;32m   1074\u001b[0m         \u001b[1;32mtry\u001b[0m\u001b[1;33m:\u001b[0m\u001b[1;33m\u001b[0m\u001b[0m\n\u001b[1;32m-> 1075\u001b[1;33m             \u001b[0mfirst_packet\u001b[0m \u001b[1;33m=\u001b[0m \u001b[0mself\u001b[0m\u001b[1;33m.\u001b[0m\u001b[0mconnection\u001b[0m\u001b[1;33m.\u001b[0m\u001b[0m_read_packet\u001b[0m\u001b[1;33m(\u001b[0m\u001b[1;33m)\u001b[0m\u001b[1;33m\u001b[0m\u001b[0m\n\u001b[0m\u001b[0;32m   1076\u001b[0m \u001b[1;33m\u001b[0m\u001b[0m\n\u001b[0;32m   1077\u001b[0m             \u001b[1;32mif\u001b[0m \u001b[0mfirst_packet\u001b[0m\u001b[1;33m.\u001b[0m\u001b[0mis_ok_packet\u001b[0m\u001b[1;33m(\u001b[0m\u001b[1;33m)\u001b[0m\u001b[1;33m:\u001b[0m\u001b[1;33m\u001b[0m\u001b[0m\n",
      "\u001b[1;32m~\\AppData\\Local\\Continuum\\anaconda3\\lib\\site-packages\\pymysql\\connections.py\u001b[0m in \u001b[0;36m_read_packet\u001b[1;34m(self, packet_type)\u001b[0m\n\u001b[0;32m    682\u001b[0m \u001b[1;33m\u001b[0m\u001b[0m\n\u001b[0;32m    683\u001b[0m         \u001b[0mpacket\u001b[0m \u001b[1;33m=\u001b[0m \u001b[0mpacket_type\u001b[0m\u001b[1;33m(\u001b[0m\u001b[0mbuff\u001b[0m\u001b[1;33m,\u001b[0m \u001b[0mself\u001b[0m\u001b[1;33m.\u001b[0m\u001b[0mencoding\u001b[0m\u001b[1;33m)\u001b[0m\u001b[1;33m\u001b[0m\u001b[0m\n\u001b[1;32m--> 684\u001b[1;33m         \u001b[0mpacket\u001b[0m\u001b[1;33m.\u001b[0m\u001b[0mcheck_error\u001b[0m\u001b[1;33m(\u001b[0m\u001b[1;33m)\u001b[0m\u001b[1;33m\u001b[0m\u001b[0m\n\u001b[0m\u001b[0;32m    685\u001b[0m         \u001b[1;32mreturn\u001b[0m \u001b[0mpacket\u001b[0m\u001b[1;33m\u001b[0m\u001b[0m\n\u001b[0;32m    686\u001b[0m \u001b[1;33m\u001b[0m\u001b[0m\n",
      "\u001b[1;32m~\\AppData\\Local\\Continuum\\anaconda3\\lib\\site-packages\\pymysql\\protocol.py\u001b[0m in \u001b[0;36mcheck_error\u001b[1;34m(self)\u001b[0m\n\u001b[0;32m    218\u001b[0m             \u001b[0merrno\u001b[0m \u001b[1;33m=\u001b[0m \u001b[0mself\u001b[0m\u001b[1;33m.\u001b[0m\u001b[0mread_uint16\u001b[0m\u001b[1;33m(\u001b[0m\u001b[1;33m)\u001b[0m\u001b[1;33m\u001b[0m\u001b[0m\n\u001b[0;32m    219\u001b[0m             \u001b[1;32mif\u001b[0m \u001b[0mDEBUG\u001b[0m\u001b[1;33m:\u001b[0m \u001b[0mprint\u001b[0m\u001b[1;33m(\u001b[0m\u001b[1;34m\"errno =\"\u001b[0m\u001b[1;33m,\u001b[0m \u001b[0merrno\u001b[0m\u001b[1;33m)\u001b[0m\u001b[1;33m\u001b[0m\u001b[0m\n\u001b[1;32m--> 220\u001b[1;33m             \u001b[0merr\u001b[0m\u001b[1;33m.\u001b[0m\u001b[0mraise_mysql_exception\u001b[0m\u001b[1;33m(\u001b[0m\u001b[0mself\u001b[0m\u001b[1;33m.\u001b[0m\u001b[0m_data\u001b[0m\u001b[1;33m)\u001b[0m\u001b[1;33m\u001b[0m\u001b[0m\n\u001b[0m\u001b[0;32m    221\u001b[0m \u001b[1;33m\u001b[0m\u001b[0m\n\u001b[0;32m    222\u001b[0m     \u001b[1;32mdef\u001b[0m \u001b[0mdump\u001b[0m\u001b[1;33m(\u001b[0m\u001b[0mself\u001b[0m\u001b[1;33m)\u001b[0m\u001b[1;33m:\u001b[0m\u001b[1;33m\u001b[0m\u001b[0m\n",
      "\u001b[1;32m~\\AppData\\Local\\Continuum\\anaconda3\\lib\\site-packages\\pymysql\\err.py\u001b[0m in \u001b[0;36mraise_mysql_exception\u001b[1;34m(data)\u001b[0m\n\u001b[0;32m    107\u001b[0m         \u001b[0merrval\u001b[0m \u001b[1;33m=\u001b[0m \u001b[0mdata\u001b[0m\u001b[1;33m[\u001b[0m\u001b[1;36m3\u001b[0m\u001b[1;33m:\u001b[0m\u001b[1;33m]\u001b[0m\u001b[1;33m.\u001b[0m\u001b[0mdecode\u001b[0m\u001b[1;33m(\u001b[0m\u001b[1;34m'utf-8'\u001b[0m\u001b[1;33m,\u001b[0m \u001b[1;34m'replace'\u001b[0m\u001b[1;33m)\u001b[0m\u001b[1;33m\u001b[0m\u001b[0m\n\u001b[0;32m    108\u001b[0m     \u001b[0merrorclass\u001b[0m \u001b[1;33m=\u001b[0m \u001b[0merror_map\u001b[0m\u001b[1;33m.\u001b[0m\u001b[0mget\u001b[0m\u001b[1;33m(\u001b[0m\u001b[0merrno\u001b[0m\u001b[1;33m,\u001b[0m \u001b[0mInternalError\u001b[0m\u001b[1;33m)\u001b[0m\u001b[1;33m\u001b[0m\u001b[0m\n\u001b[1;32m--> 109\u001b[1;33m     \u001b[1;32mraise\u001b[0m \u001b[0merrorclass\u001b[0m\u001b[1;33m(\u001b[0m\u001b[0merrno\u001b[0m\u001b[1;33m,\u001b[0m \u001b[0merrval\u001b[0m\u001b[1;33m)\u001b[0m\u001b[1;33m\u001b[0m\u001b[0m\n\u001b[0m",
      "\u001b[1;31mInternalError\u001b[0m: (pymysql.err.InternalError) (1091, \"Can't DROP 'date_key'; check that column/key exists\") [SQL: 'ALTER TABLE msft DROP date_key, DROP Symbol'] (Background on this error at: http://sqlalche.me/e/2j85)"
     ]
    }
   ],
   "source": [
    "#b1\n",
    "Measure = \"RSI\"\n",
    "output = \"full\"\n",
    "MainUrl = \"https://www.alphavantage.co/query?\"\n",
    "interval = \"daily\"\n",
    "series_type = \"close\"\n",
    "#callUrl = (f\"{MainUrl}function={Measure}&symbol={ticker}&interval={interval}\") + (f\"&time_period={time_period}&series_type={series_type}&apikey={API_KEY}\")\n",
    "time_period = \"20\"\n",
    "#output1_df = []\n",
    "\n",
    "\n",
    "for ticker in b1:\n",
    "    getData()\n",
    "\n",
    "#output_df = []\n",
    "# RSI_b1 = []\n",
    "# for x in range(0,5):\n",
    "#     output_df[x] = pd.DataFrame.from_dict(output_df[x], orient='index')\n",
    "#     RSI_b1.append(output_df[x])"
   ]
  },
  {
   "cell_type": "code",
   "execution_count": 35,
   "metadata": {},
   "outputs": [],
   "source": [
    "#b1\n",
    "RSI = RSI_b1\n",
    "RSI_MSFT = RSI[0]; RSI_WMT = RSI[1]; RSI_V = RSI[2]; RSI_AXP = RSI[3]; RSI_PG = RSI[4]; \n",
    "\n",
    "#b1\n",
    "RSI_MSFT = RSI_MSFT.reset_index(drop=False)\n",
    "RSI_WMT = RSI_WMT.reset_index(drop=False)\n",
    "RSI_V = RSI_V.reset_index(drop=False)\n",
    "RSI_AXP = RSI_AXP.reset_index(drop=False)\n",
    "RSI_PG = RSI_PG.reset_index(drop=False)"
   ]
  },
  {
   "cell_type": "code",
   "execution_count": 36,
   "metadata": {},
   "outputs": [
    {
     "name": "stderr",
     "output_type": "stream",
     "text": [
      "C:\\Users\\cwesson\\AppData\\Local\\Continuum\\anaconda3\\lib\\site-packages\\pandas\\io\\sql.py:1144: UserWarning: The provided table name 'RSI_WMT' is not found exactly as such in the database after writing the table, possibly due to case sensitivity issues. Consider using lower case table names.\n",
      "  warnings.warn(msg, UserWarning)\n"
     ]
    }
   ],
   "source": [
    "#b1\n",
    "RSI_WMT.to_sql(name = f'{Measure}_{ticker}', con = engine,\n",
    "        if_exists = 'replace', chunksize = 75)\n",
    "RSI_WMT.to_sql(name = f'{Measure}_WMT', con = engine,\n",
    "        if_exists = 'replace', chunksize = 75)\n",
    "RSI_V.to_sql(name = f'{Measure}_V', con = engine,\n",
    "        if_exists = 'replace', chunksize = 75)\n",
    "RSI_AXP.to_sql(name = f'{Measure}_AXP', con = engine,\n",
    "        if_exists = 'replace', chunksize = 75)\n",
    "RSI_PG.to_sql(name = f'{Measure}_PG', con = engine,\n",
    "        if_exists = 'replace', chunksize = 75)"
   ]
  },
  {
   "cell_type": "code",
   "execution_count": 38,
   "metadata": {},
   "outputs": [
    {
     "data": {
      "text/plain": [
       "<sqlalchemy.engine.result.ResultProxy at 0x18be1b5ef28>"
      ]
     },
     "execution_count": 38,
     "metadata": {},
     "output_type": "execute_result"
    }
   ],
   "source": [
    "# SQL command to create a table in the database \n",
    "sql_command = \"\"\"SELECT * FROM stock_data.wmt LEFT JOIN stock_data.rsi_wmt ON wmt.Date=rsi_wmt.index\"\"\" \n",
    "# staff_number INTEGER PRIMARY KEY,  \n",
    "# fname VARCHAR(20),  \n",
    "# lname VARCHAR(30),  \n",
    "# gender CHAR(1),  \n",
    "# joining DATE);\"\"\"\n",
    "engine.execute(sql_command)"
   ]
  },
  {
   "cell_type": "code",
   "execution_count": 36,
   "metadata": {},
   "outputs": [
    {
     "data": {
      "text/plain": [
       "<sqlalchemy.engine.result.ResultProxy at 0x1686d09bda0>"
      ]
     },
     "execution_count": 36,
     "metadata": {},
     "output_type": "execute_result"
    }
   ],
   "source": [
    "engine.execute(sql_command)"
   ]
  },
  {
   "cell_type": "code",
   "execution_count": 21,
   "metadata": {},
   "outputs": [],
   "source": []
  },
  {
   "cell_type": "code",
   "execution_count": null,
   "metadata": {},
   "outputs": [],
   "source": []
  },
  {
   "cell_type": "markdown",
   "metadata": {},
   "source": [
    "## Second Batch"
   ]
  },
  {
   "cell_type": "code",
   "execution_count": 32,
   "metadata": {},
   "outputs": [],
   "source": [
    "#b2\n",
    "Measure = \"RSI\"\n",
    "output = \"full\"\n",
    "MainUrl = \"https://www.alphavantage.co/query?\"\n",
    "interval = \"daily\"\n",
    "series_type = \"close\"\n",
    "#callUrl = (f\"{MainUrl}function={Measure}&symbol={ticker}&interval={interval}\") + (f\"&time_period={time_period}&series_type={series_type}&apikey={API_KEY}\")\n",
    "time_period = \"20\"\n",
    "output_df = []\n",
    "\n",
    "\n",
    "for ticker in b2:\n",
    "    getData()\n",
    "\n",
    "RSI_b2 = []\n",
    "for x in range(0,5):\n",
    "    output_df[x] = pd.DataFrame.from_dict(output_df[x], orient='index')\n",
    "    RSI_b2.append(output_df[x])"
   ]
  },
  {
   "cell_type": "code",
   "execution_count": 33,
   "metadata": {},
   "outputs": [
    {
     "name": "stderr",
     "output_type": "stream",
     "text": [
      "C:\\Users\\cwesson\\AppData\\Local\\Continuum\\anaconda3\\lib\\site-packages\\pandas\\io\\sql.py:1144: UserWarning: The provided table name 'RSI_CVX' is not found exactly as such in the database after writing the table, possibly due to case sensitivity issues. Consider using lower case table names.\n",
      "  warnings.warn(msg, UserWarning)\n",
      "C:\\Users\\cwesson\\AppData\\Local\\Continuum\\anaconda3\\lib\\site-packages\\pandas\\io\\sql.py:1144: UserWarning: The provided table name 'RSI_JNJ' is not found exactly as such in the database after writing the table, possibly due to case sensitivity issues. Consider using lower case table names.\n",
      "  warnings.warn(msg, UserWarning)\n",
      "C:\\Users\\cwesson\\AppData\\Local\\Continuum\\anaconda3\\lib\\site-packages\\pandas\\io\\sql.py:1144: UserWarning: The provided table name 'RSI_HD' is not found exactly as such in the database after writing the table, possibly due to case sensitivity issues. Consider using lower case table names.\n",
      "  warnings.warn(msg, UserWarning)\n",
      "C:\\Users\\cwesson\\AppData\\Local\\Continuum\\anaconda3\\lib\\site-packages\\pandas\\io\\sql.py:1144: UserWarning: The provided table name 'RSI_KO' is not found exactly as such in the database after writing the table, possibly due to case sensitivity issues. Consider using lower case table names.\n",
      "  warnings.warn(msg, UserWarning)\n",
      "C:\\Users\\cwesson\\AppData\\Local\\Continuum\\anaconda3\\lib\\site-packages\\pandas\\io\\sql.py:1144: UserWarning: The provided table name 'RSI_NKE' is not found exactly as such in the database after writing the table, possibly due to case sensitivity issues. Consider using lower case table names.\n",
      "  warnings.warn(msg, UserWarning)\n"
     ]
    }
   ],
   "source": [
    "RSI = RSI_b2\n",
    "\n",
    "RSI_CVX = RSI[0]\n",
    "RSI_JNJ = RSI[1]\n",
    "RSI_HD = RSI[2]\n",
    "RSI_KO = RSI[3]\n",
    "RSI_NKE = RSI[4]\n",
    "\n",
    "RSI_CVX = RSI_CVX.reset_index(drop=False)\n",
    "RSI_JNJ = RSI_JNJ.reset_index(drop=False)\n",
    "RSI_HD = RSI_HD.reset_index(drop=False)\n",
    "RSI_KO = RSI_KO.reset_index(drop=False)\n",
    "RSI_NKE = RSI_NKE.reset_index(drop=False)\n",
    "\n",
    "RSI_CVX.to_sql(name = f'{Measure}_CVX', con = engine,\n",
    "        if_exists = 'replace', chunksize = 75)\n",
    "RSI_JNJ.to_sql(name = f'{Measure}_JNJ', con = engine,\n",
    "        if_exists = 'replace', chunksize = 75)\n",
    "RSI_HD.to_sql(name = f'{Measure}_HD', con = engine,\n",
    "        if_exists = 'replace', chunksize = 75)\n",
    "RSI_KO.to_sql(name = f'{Measure}_KO', con = engine,\n",
    "        if_exists = 'replace', chunksize = 75)\n",
    "RSI_NKE.to_sql(name = f'{Measure}_NKE', con = engine,\n",
    "        if_exists = 'replace', chunksize = 75)"
   ]
  },
  {
   "cell_type": "markdown",
   "metadata": {},
   "source": [
    "## Third Batch"
   ]
  },
  {
   "cell_type": "code",
   "execution_count": 44,
   "metadata": {},
   "outputs": [],
   "source": [
    "#b3\n",
    "Measure = \"RSI\"\n",
    "output = \"full\"\n",
    "MainUrl = \"https://www.alphavantage.co/query?\"\n",
    "interval = \"daily\"\n",
    "series_type = \"close\"\n",
    "#callUrl = (f\"{MainUrl}function={Measure}&symbol={ticker}&interval={interval}\") + (f\"&time_period={time_period}&series_type={series_type}&apikey={API_KEY}\")\n",
    "time_period = \"20\"\n",
    "output_df = []\n",
    "\n",
    "\n",
    "for ticker in b3:\n",
    "    getData()\n",
    "\n",
    "RSI_b3 = []\n",
    "for x in range(0,5):\n",
    "    output_df[x] = pd.DataFrame.from_dict(output_df[x], orient='index')\n",
    "    RSI_b3.append(output_df[x])"
   ]
  },
  {
   "cell_type": "code",
   "execution_count": 45,
   "metadata": {},
   "outputs": [],
   "source": [
    "RSI = RSI_b3\n",
    "\n",
    "RSI_JPM = RSI[0]\n",
    "RSI_MCD = RSI[1]\n",
    "RSI_UTX = RSI[2]\n",
    "RSI_MMM = RSI[3]\n",
    "RSI_AAPL = RSI[4]\n",
    "\n",
    "RSI_JPM = RSI_JPM.reset_index(drop=False)\n",
    "RSI_MCD = RSI_MCD.reset_index(drop=False)\n",
    "RSI_UTX = RSI_UTX.reset_index(drop=False)\n",
    "RSI_MMM = RSI_MMM.reset_index(drop=False)\n",
    "RSI_AAPL = RSI_AAPL.reset_index(drop=False)\n",
    "\n",
    "RSI_JPM.to_sql(name = f'{Measure}_JPM', con = engine,\n",
    "        if_exists = 'replace', chunksize = 75)\n",
    "RSI_MCD.to_sql(name = f'{Measure}_MCD', con = engine,\n",
    "        if_exists = 'replace', chunksize = 75)\n",
    "RSI_UTX.to_sql(name = f'{Measure}_UTX', con = engine,\n",
    "        if_exists = 'replace', chunksize = 75)\n",
    "RSI_MMM.to_sql(name = f'{Measure}_MMM', con = engine,\n",
    "        if_exists = 'replace', chunksize = 75)\n",
    "RSI_AAPL.to_sql(name = f'{Measure}_AAPL', con = engine,\n",
    "        if_exists = 'replace', chunksize = 75)"
   ]
  },
  {
   "cell_type": "markdown",
   "metadata": {},
   "source": [
    "## Fourth Batch"
   ]
  },
  {
   "cell_type": "code",
   "execution_count": 14,
   "metadata": {},
   "outputs": [],
   "source": [
    "#b4 = ['GS', 'IBM', 'TRV', 'VZ', 'CSCO']\n",
    "def getData():    \n",
    "    response = requests.get(callUrl)\n",
    "    data = response.json()\n",
    "    for key in data[f'Technical Analysis: {Measure}']:\n",
    "        data[f'Technical Analysis: {Measure}'][key].update({'Symbol' :f\"{ticker}\"})\n",
    "    output_df.append(data[f'Technical Analysis: {Measure}'])\n",
    "\n",
    "Measure = \"RSI\"\n",
    "output = \"full\"\n",
    "MainUrl = \"https://www.alphavantage.co/query?\"\n",
    "interval = \"daily\"\n",
    "series_type = \"close\"\n",
    "callUrl = (f\"{MainUrl}function={Measure}&symbol={ticker}&interval={interval}\") + (f\"&time_period={time_period}&series_type={series_type}&apikey={API_KEY}\")\n",
    "time_period = \"20\"\n",
    "output_df = []\n",
    "for ticker in b4:\n",
    "    getData()\n",
    "\n",
    "RSI_b4 = []\n",
    "for x in range(0,5):\n",
    "    output_df[x] = pd.DataFrame.from_dict(output_df[x], orient='index')\n",
    "    RSI_b4.append(output_df[x])"
   ]
  },
  {
   "cell_type": "code",
   "execution_count": 15,
   "metadata": {},
   "outputs": [],
   "source": [
    "RSI = RSI_b4\n",
    "\n",
    "RSI_GS = RSI[0]\n",
    "RSI_IBM = RSI[1]\n",
    "RSI_TRV = RSI[2]\n",
    "RSI_VZ = RSI[3]\n",
    "RSI_CSCO = RSI[4]\n",
    "\n",
    "RSI_GS = RSI_GS.reset_index(drop=False)\n",
    "RSI_IBM = RSI_IBM.reset_index(drop=False)\n",
    "RSI_TRV = RSI_TRV.reset_index(drop=False)\n",
    "RSI_VZ = RSI_VZ.reset_index(drop=False)\n",
    "RSI_CSCO = RSI_CSCO.reset_index(drop=False)\n",
    "\n",
    "RSI_GS.to_sql(name = f'{Measure}_GS', con = engine,\n",
    "        if_exists = 'replace', chunksize = 75)\n",
    "RSI_IBM.to_sql(name = f'{Measure}_IBM', con = engine,\n",
    "        if_exists = 'replace', chunksize = 75)\n",
    "RSI_TRV.to_sql(name = f'{Measure}_TRV', con = engine,\n",
    "        if_exists = 'replace', chunksize = 75)\n",
    "RSI_VZ.to_sql(name = f'{Measure}_VZ', con = engine,\n",
    "        if_exists = 'replace', chunksize = 75)\n",
    "RSI_CSCO.to_sql(name = f'{Measure}_CSCO', con = engine,\n",
    "        if_exists = 'replace', chunksize = 75)"
   ]
  },
  {
   "cell_type": "markdown",
   "metadata": {},
   "source": [
    "## Fifth Batch"
   ]
  },
  {
   "cell_type": "code",
   "execution_count": 16,
   "metadata": {},
   "outputs": [],
   "source": [
    "#b5 = ['DIS', 'UNH', 'XOM', 'MRK', 'BA']\n",
    "def getData():    \n",
    "    response = requests.get(callUrl)\n",
    "    data = response.json()\n",
    "    for key in data[f'Technical Analysis: {Measure}']:\n",
    "        data[f'Technical Analysis: {Measure}'][key].update({'Symbol' :f\"{ticker}\"})\n",
    "    output_df.append(data[f'Technical Analysis: {Measure}'])\n",
    "\n",
    "Measure = \"RSI\"\n",
    "output = \"full\"\n",
    "MainUrl = \"https://www.alphavantage.co/query?\"\n",
    "interval = \"daily\"\n",
    "series_type = \"close\"\n",
    "callUrl = (f\"{MainUrl}function={Measure}&symbol={ticker}&interval={interval}\") + (f\"&time_period={time_period}&series_type={series_type}&apikey={API_KEY}\")\n",
    "time_period = \"20\"\n",
    "output_df = []\n",
    "for ticker in b5:\n",
    "    getData()\n",
    "\n",
    "RSI_b5 = []\n",
    "for x in range(0,5):\n",
    "    output_df[x] = pd.DataFrame.from_dict(output_df[x], orient='index')\n",
    "    RSI_b5.append(output_df[x])"
   ]
  },
  {
   "cell_type": "code",
   "execution_count": 17,
   "metadata": {},
   "outputs": [],
   "source": [
    "RSI = RSI_b5\n",
    "\n",
    "RSI_DIS = RSI[0]\n",
    "RSI_UNH = RSI[1]\n",
    "RSI_XOM = RSI[2]\n",
    "RSI_MRK = RSI[3]\n",
    "RSI_BA = RSI[4]\n",
    "\n",
    "RSI_DIS = RSI_DIS.reset_index(drop=False)\n",
    "RSI_UNH = RSI_UNH.reset_index(drop=False)\n",
    "RSI_XOM = RSI_XOM.reset_index(drop=False)\n",
    "RSI_MRK = RSI_MRK.reset_index(drop=False)\n",
    "RSI_BA = RSI_BA.reset_index(drop=False)\n",
    "\n",
    "RSI_DIS.to_sql(name = f'{Measure}_DIS', con = engine,\n",
    "        if_exists = 'replace', chunksize = 75)\n",
    "RSI_UNH.to_sql(name = f'{Measure}_UNH', con = engine,\n",
    "        if_exists = 'replace', chunksize = 75)\n",
    "RSI_XOM.to_sql(name = f'{Measure}_XOM', con = engine,\n",
    "        if_exists = 'replace', chunksize = 75)\n",
    "RSI_MRK.to_sql(name = f'{Measure}_MRK', con = engine,\n",
    "        if_exists = 'replace', chunksize = 75)\n",
    "RSI_BA.to_sql(name = f'{Measure}_BA', con = engine,\n",
    "        if_exists = 'replace', chunksize = 75)"
   ]
  },
  {
   "cell_type": "markdown",
   "metadata": {},
   "source": [
    "## Sixth Batch"
   ]
  },
  {
   "cell_type": "code",
   "execution_count": 18,
   "metadata": {},
   "outputs": [],
   "source": [
    "# b6 = ['INTC', 'DWDP', 'CAT', 'PFE', 'WBA']\n",
    "def getData():    \n",
    "    response = requests.get(callUrl)\n",
    "    data = response.json()\n",
    "    for key in data[f'Technical Analysis: {Measure}']:\n",
    "        data[f'Technical Analysis: {Measure}'][key].update({'Symbol' :f\"{ticker}\"})\n",
    "    output_df.append(data[f'Technical Analysis: {Measure}'])\n",
    "\n",
    "Measure = \"RSI\"\n",
    "output = \"full\"\n",
    "MainUrl = \"https://www.alphavantage.co/query?\"\n",
    "interval = \"daily\"\n",
    "series_type = \"close\"\n",
    "callUrl = (f\"{MainUrl}function={Measure}&symbol={ticker}&interval={interval}\") + (f\"&time_period={time_period}&series_type={series_type}&apikey={API_KEY}\")\n",
    "time_period = \"20\"\n",
    "output_df = []\n",
    "for ticker in b6:\n",
    "    getData()\n",
    "\n",
    "RSI_b6 = []\n",
    "for x in range(0,5):\n",
    "    output_df[x] = pd.DataFrame.from_dict(output_df[x], orient='index')\n",
    "    RSI_b6.append(output_df[x])"
   ]
  },
  {
   "cell_type": "code",
   "execution_count": 19,
   "metadata": {},
   "outputs": [],
   "source": [
    "RSI = RSI_b6\n",
    "\n",
    "RSI_INTC = RSI[0]\n",
    "RSI_DWDP = RSI[1]\n",
    "RSI_CAT = RSI[2]\n",
    "RSI_PFE = RSI[3]\n",
    "RSI_WBA = RSI[4]\n",
    "\n",
    "RSI_INTC = RSI_INTC.reset_index(drop=False)\n",
    "RSI_DWDP = RSI_DWDP.reset_index(drop=False)\n",
    "RSI_CAT = RSI_CAT.reset_index(drop=False)\n",
    "RSI_PFE = RSI_PFE.reset_index(drop=False)\n",
    "RSI_WBA = RSI_WBA.reset_index(drop=False)\n",
    "\n",
    "RSI_INTC.to_sql(name = f'{Measure}_INTC', con = engine,\n",
    "        if_exists = 'replace', chunksize = 75)\n",
    "RSI_DWDP.to_sql(name = f'{Measure}_DWDP', con = engine,\n",
    "        if_exists = 'replace', chunksize = 75)\n",
    "RSI_CAT.to_sql(name = f'{Measure}_CAT', con = engine,\n",
    "        if_exists = 'replace', chunksize = 75)\n",
    "RSI_PFE.to_sql(name = f'{Measure}_PFE', con = engine,\n",
    "        if_exists = 'replace', chunksize = 75)\n",
    "RSI_WBA.to_sql(name = f'{Measure}_WBA', con = engine,\n",
    "        if_exists = 'replace', chunksize = 75)"
   ]
  },
  {
   "cell_type": "code",
   "execution_count": 35,
   "metadata": {},
   "outputs": [],
   "source": [
    "# SQL command to create a table in the database \n",
    "sql_command = \"\"\"CREATE TABLE emp (  \n",
    "staff_number INTEGER PRIMARY KEY,  \n",
    "fname VARCHAR(20),  \n",
    "lname VARCHAR(30),  \n",
    "gender CHAR(1),  \n",
    "joining DATE);\"\"\""
   ]
  },
  {
   "cell_type": "code",
   "execution_count": 36,
   "metadata": {},
   "outputs": [
    {
     "data": {
      "text/plain": [
       "<sqlalchemy.engine.result.ResultProxy at 0x1686d09bda0>"
      ]
     },
     "execution_count": 36,
     "metadata": {},
     "output_type": "execute_result"
    }
   ],
   "source": [
    "engine.execute(sql_command)"
   ]
  },
  {
   "cell_type": "code",
   "execution_count": null,
   "metadata": {},
   "outputs": [],
   "source": []
  },
  {
   "cell_type": "code",
   "execution_count": null,
   "metadata": {},
   "outputs": [],
   "source": []
  },
  {
   "cell_type": "code",
   "execution_count": null,
   "metadata": {},
   "outputs": [],
   "source": [
    "#b2\n",
    "RSI_MSFT = RSI[0]\n",
    "RSI_WMT = RSI[1]\n",
    "RSI_V = RSI[2]\n",
    "RSI_AXP = RSI[3]\n",
    "RSI_PG = RSI[4]"
   ]
  },
  {
   "cell_type": "code",
   "execution_count": null,
   "metadata": {},
   "outputs": [],
   "source": [
    "#b3\n",
    "RSI_MSFT = RSI[0]\n",
    "RSI_WMT = RSI[1]\n",
    "RSI_V = RSI[2]\n",
    "RSI_AXP = RSI[3]\n",
    "RSI_PG = RSI[4]"
   ]
  },
  {
   "cell_type": "code",
   "execution_count": null,
   "metadata": {},
   "outputs": [],
   "source": [
    "#b4\n",
    "RSI_MSFT = RSI[0]\n",
    "RSI_WMT = RSI[1]\n",
    "RSI_V = RSI[2]\n",
    "RSI_AXP = RSI[3]\n",
    "RSI_PG = RSI[4]"
   ]
  },
  {
   "cell_type": "code",
   "execution_count": null,
   "metadata": {},
   "outputs": [],
   "source": [
    "#b5\n",
    "RSI_MSFT = RSI[0]\n",
    "RSI_WMT = RSI[1]\n",
    "RSI_V = RSI[2]\n",
    "RSI_AXP = RSI[3]\n",
    "RSI_PG = RSI[4]"
   ]
  },
  {
   "cell_type": "code",
   "execution_count": null,
   "metadata": {},
   "outputs": [],
   "source": [
    "#b6\n",
    "RSI_MSFT = RSI[0]\n",
    "RSI_WMT = RSI[1]\n",
    "RSI_V = RSI[2]\n",
    "RSI_AXP = RSI[3]\n",
    "RSI_PG = RSI[4]"
   ]
  },
  {
   "cell_type": "code",
   "execution_count": null,
   "metadata": {},
   "outputs": [],
   "source": [
    "Measure = \"BBANDS\"\n",
    "output = \"full\"\n",
    "MainUrl = \"https://www.alphavantage.co/query?\"\n",
    "interval = \"daily\"\n",
    "series_type = \"close\"\n",
    "time_period = \"20\"\n",
    "BBANDS = []\n",
    "\n",
    "for ticker in b1:\n",
    "    response = requests.get(\n",
    "        f\"{MainUrl}function={Measure}&symbol={ticker}&interval={interval}&time_period={time_period}&series_type={series_type}&nbdevup=3&nbdevdn=3&apikey={API_KEY}\")\n",
    "    data = response.json()\n",
    "    BBANDS.append(data)\n",
    "       \n",
    "BBANDS"
   ]
  },
  {
   "cell_type": "code",
   "execution_count": null,
   "metadata": {},
   "outputs": [],
   "source": [
    "Measure = \"EMA\"\n",
    "output = \"full\"\n",
    "MainUrl = \"https://www.alphavantage.co/query?\"\n",
    "interval = \"daily\"\n",
    "series_type = \"close\"\n",
    "time_period = \"20\"\n",
    "EMA = []\n",
    "\n",
    "for ticker in b1:\n",
    "    response = requests.get(\n",
    "        f\"{MainUrl}function={Measure}&symbol={ticker}&interval={interval}&time_period={time_period}&series_type={series_type}&apikey={API_KEY}\")\n",
    "    data = response.json()\n",
    "    EMA.append(data)\n",
    "       \n",
    "EMA"
   ]
  },
  {
   "cell_type": "code",
   "execution_count": null,
   "metadata": {},
   "outputs": [],
   "source": [
    "Measure = \"ADX\"\n",
    "output = \"full\"\n",
    "MainUrl = \"https://www.alphavantage.co/query?\"\n",
    "interval = \"daily\"\n",
    "time_period = \"20\"\n",
    "ADX = []\n",
    "\n",
    "for ticker in b1:\n",
    "    response = requests.get(\n",
    "        f\"{MainUrl}function={Measure}&symbol={ticker}&interval={interval}&time_period={time_period}&apikey={API_KEY}\")\n",
    "    data = response.json()\n",
    "    ADX.append(data)\n",
    "     \n",
    "ADX"
   ]
  },
  {
   "cell_type": "code",
   "execution_count": null,
   "metadata": {},
   "outputs": [],
   "source": [
    "Measure = \"CCI\"\n",
    "output = \"full\"\n",
    "MainUrl = \"https://www.alphavantage.co/query?\"\n",
    "interval = \"daily\"\n",
    "time_period = \"20\"\n",
    "CCI = []\n",
    "\n",
    "for ticker in b1:\n",
    "    response = requests.get(\n",
    "        f\"{MainUrl}function={Measure}&symbol={ticker}&interval={interval}&time_period={time_period}&apikey={API_KEY}\")\n",
    "    data = response.json()\n",
    "    CCI.append(data)\n",
    "     \n",
    "CCI"
   ]
  },
  {
   "cell_type": "code",
   "execution_count": null,
   "metadata": {},
   "outputs": [],
   "source": [
    "#sql_add_RSI = con.execute()"
   ]
  },
  {
   "cell_type": "code",
   "execution_count": null,
   "metadata": {},
   "outputs": [],
   "source": [
    "cursor.execute(\"USE stock_data\")\n",
    "daily_adj.to_sql(\n",
    "    name = 'daily_adj', conn = engine,\n",
    "    if_exists = 'replace', chunksize = 75)\n",
    "with engine.connect() as con:\n",
    "    con.execute('ALTER TABLE `daily_adj` ADD PRIMARY KEY (`index`);')"
   ]
  },
  {
   "cell_type": "code",
   "execution_count": null,
   "metadata": {},
   "outputs": [],
   "source": [
    "cursor.execute(\"USE stock_data\")\n",
    "RSI.to_sql(\n",
    "    name = 'RSI', conn = engine,\n",
    "    if_exists = 'replace', chunksize = 75)\n",
    "with engine.connect() as con:\n",
    "    con.execute('ALTER TABLE `RSI` ADD PRIMARY KEY (`index`);')"
   ]
  },
  {
   "cell_type": "code",
   "execution_count": null,
   "metadata": {},
   "outputs": [],
   "source": [
    "engine.execute(\"USE stock_data\")\n",
    "RSI.to_sql(\n",
    "    name = 'RSI', con = engine,\n",
    "    if_exists = 'replace', chunksize = 75)\n",
    "with engine.connect() as con:\n",
    "    con.execute('ALTER TABLE `RSI` ADD PRIMARY KEY (`index`);')"
   ]
  },
  {
   "cell_type": "code",
   "execution_count": null,
   "metadata": {},
   "outputs": [],
   "source": [
    "engine.execute(\"USE stock_data\")\n",
    "BBANDS.to_sql(\n",
    "    name = 'BBANDS', con = engine,\n",
    "    if_exists = 'replace', chunksize = 75)\n",
    "with engine.connect() as con:\n",
    "    con.execute('ALTER TABLE `BBANDS` ADD PRIMARY KEY (`index`);')"
   ]
  },
  {
   "cell_type": "code",
   "execution_count": null,
   "metadata": {},
   "outputs": [],
   "source": [
    "engine.execute(\"USE stock_data\")\n",
    "RSI.to_sql(\n",
    "    name = 'RSI', con = engine,\n",
    "    if_exists = 'replace', chunksize = 75)\n",
    "with engine.connect() as con:\n",
    "    con.execute('ALTER TABLE `RSI` ADD PRIMARY KEY (`index`);')"
   ]
  }
 ],
 "metadata": {
  "kernelspec": {
   "display_name": "Python 3",
   "language": "python",
   "name": "python3"
  },
  "language_info": {
   "codemirror_mode": {
    "name": "ipython",
    "version": 3
   },
   "file_extension": ".py",
   "mimetype": "text/x-python",
   "name": "python",
   "nbconvert_exporter": "python",
   "pygments_lexer": "ipython3",
   "version": "3.7.0"
  }
 },
 "nbformat": 4,
 "nbformat_minor": 2
}
