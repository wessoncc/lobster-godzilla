{
 "cells": [
  {
   "cell_type": "markdown",
   "metadata": {},
   "source": [
    "## Dependencies"
   ]
  },
  {
   "cell_type": "markdown",
   "metadata": {},
   "source": [
    "## Dependencies"
   ]
  },
  {
   "cell_type": "code",
   "execution_count": null,
   "metadata": {},
   "outputs": [],
   "source": [
    "import os\n",
    "import time\n",
    "import pandas as pd\n",
    "import json\n",
    "import requests\n",
    "from Alpha_key import API_KEY\n",
    "from sql_conn import password\n",
    "from sqlalchemy import create_engine\n",
    "import pymysql\n",
    "pymysql.install_as_MySQLdb()\n",
    "from sqlalchemy import create_engine, Column, Integer, String, Float, Date\n",
    "from sqlalchemy.ext.declarative import declarative_base\n",
    "Base = declarative_base()"
   ]
  },
  {
   "cell_type": "markdown",
   "metadata": {},
   "source": [
    "## SQL Stuff"
   ]
  },
  {
   "cell_type": "markdown",
   "metadata": {},
   "source": [
    "## SQL Stuff"
   ]
  },
  {
   "cell_type": "code",
   "execution_count": null,
   "metadata": {},
   "outputs": [],
   "source": [
    "host=\"secondawsdb.caa0qcwnjnci.us-east-2.rds.amazonaws.com\"\n",
    "port=3307\n",
    "dbname=\"stock_data\"\n",
    "user=\"root\"\n",
    "password=f\"{password}\""
   ]
  },
  {
   "cell_type": "code",
   "execution_count": null,
   "metadata": {},
   "outputs": [],
   "source": [
    "engine = create_engine(f\"mysql://root:{password}@{host}:{port}/stock_data\")"
   ]
  },
  {
   "cell_type": "code",
   "execution_count": null,
   "metadata": {},
   "outputs": [],
   "source": [
    "Base.metadata.create_all(engine)"
   ]
  },
  {
   "cell_type": "code",
   "execution_count": null,
   "metadata": {},
   "outputs": [],
   "source": [
    "from sqlalchemy.orm import Session\n",
    "session = Session(engine)"
   ]
  },
  {
   "cell_type": "code",
   "execution_count": null,
   "metadata": {},
   "outputs": [],
   "source": [
    "Base.metadata.tables"
   ]
  },
  {
   "cell_type": "markdown",
   "metadata": {},
   "source": [
    "## Create batches"
   ]
  },
  {
   "cell_type": "code",
   "execution_count": null,
   "metadata": {},
   "outputs": [],
   "source": [
    "b1 = ['MSFT', 'WMT', 'V', 'AXP', 'PG']\n",
    "b2 = ['CVX', 'JNJ', 'HD', 'KO', 'NKE']\n",
    "b3 = ['JPM', 'MCD', 'UTX', 'MMM', 'AAPL']\n",
    "b4 = ['GS', 'IBM', 'TRV', 'VZ', 'CSCO']\n",
    "b5 = ['DIS', 'UNH', 'XOM', 'MRK', 'BA']\n",
    "b6 = ['INTC', 'DWDP', 'CAT', 'PFE', 'WBA']\n",
    "\n",
    "DJIA = [b1, b2, b3, b4, b5, b6]"
   ]
  },
  {
   "cell_type": "code",
   "execution_count": null,
   "metadata": {},
   "outputs": [],
   "source": [
    "DJIA = ['MSFT', 'WMT', 'V', 'AXP', 'PG',\n",
    "        'CVX', 'JNJ', 'HD', 'KO', 'NKE',\n",
    "        'JPM', 'MCD', 'UTX', 'MMM', 'AAPL',\n",
    "        'GS', 'IBM', 'TRV', 'VZ', 'CSCO',\n",
    "        'DIS', 'UNH', 'XOM', 'MRK', 'BA',\n",
    "        'INTC', 'DWDP', 'CAT', 'PFE', 'WBA']"
   ]
  },
  {
   "cell_type": "code",
   "execution_count": null,
   "metadata": {},
   "outputs": [],
   "source": [
    "DJIA = ['MSFT', 'WMT', 'V', 'AXP', 'PG']"
   ]
  },
  {
   "cell_type": "code",
   "execution_count": null,
   "metadata": {},
   "outputs": [],
   "source": [
    "len(output_df)"
   ]
  },
  {
   "cell_type": "code",
   "execution_count": null,
   "metadata": {},
   "outputs": [],
   "source": []
  },
  {
   "cell_type": "code",
   "execution_count": null,
   "metadata": {},
   "outputs": [],
   "source": [
    "Measure = \"STOCH\"\n",
    "output = \"full\"\n",
    "MainUrl = \"https://www.alphavantage.co/query?\"\n",
    "interval = \"daily\"\n",
    "series_type = \"close\"\n",
    "callUrl = (f\"{MainUrl}function={Measure}&symbol={ticker}&interval={interval}\") + (f\"&series_type={series_type}&apikey={API_KEY}\")\n",
    "STOCH = []\n",
    "batchNumber = b1\n",
    "\n",
    "for ticker in batchNumber :\n",
    "    response = requests.get(callUrl)\n",
    "    data = response.json()\n",
    "    for key in data[f'Technical Analysis: {Measure}']:\n",
    "        data[f'Technical Analysis: {Measure}'][key].update({'Symbol' :f\"{ticker}\"})\n",
    "    STOCH.append(data[f'Technical Analysis: {Measure}'])\n",
    "    \n",
    "# STOCH_b1 = []\n",
    "# for x in range(0,5):\n",
    "#     STOCH[x] = pd.DataFrame.from_dict(STOCH[x], orient='index')\n",
    "#     STOCH_b1.append(STOCH[x])"
   ]
  },
  {
   "cell_type": "code",
   "execution_count": null,
   "metadata": {},
   "outputs": [],
   "source": [
    "len(STOCH)"
   ]
  },
  {
   "cell_type": "code",
   "execution_count": null,
   "metadata": {},
   "outputs": [],
   "source": [
    "#b1\n",
    "STOCH_MSFT = STOCH[0]; STOCH_WMT = STOCH[1]; STOCH_V = STOCH[2]; STOCH_AXP = STOCH[3]; STOCH_PG = STOCH[4]"
   ]
  },
  {
   "cell_type": "code",
   "execution_count": null,
   "metadata": {},
   "outputs": [],
   "source": [
    "#b1\n",
    "STOCH_MSFT = STOCH_MSFT.reset_index(drop=False)\n",
    "STOCH_WMT = STOCH_WMT.reset_index(drop=False)\n",
    "STOCH_V = STOCH_V.reset_index(drop=False)\n",
    "STOCH_AXP = STOCH_AXP.reset_index(drop=False)\n",
    "STOCH_PG = STOCH_PG.reset_index(drop=False)"
   ]
  },
  {
   "cell_type": "code",
   "execution_count": null,
   "metadata": {},
   "outputs": [],
   "source": [
    "#b1\n",
    "STOCH_MSFT.to_sql(name = f'{Measure}_MSFT', con = engine,\n",
    "        if_exists = 'replace', chunksize = 75)\n",
    "STOCH_WMT.to_sql(name = f'{Measure}_WMT', con = engine,\n",
    "        if_exists = 'replace', chunksize = 75)\n",
    "STOCH_V.to_sql(name = f'{Measure}_V', con = engine,\n",
    "        if_exists = 'replace', chunksize = 75)\n",
    "STOCH_AXP.to_sql(name = f'{Measure}_AXP', con = engine,\n",
    "        if_exists = 'replace', chunksize = 75)\n",
    "STOCH_PG.to_sql(name = f'{Measure}_PG', con = engine,\n",
    "        if_exists = 'replace', chunksize = 75)"
   ]
  },
  {
   "cell_type": "code",
   "execution_count": null,
   "metadata": {},
   "outputs": [],
   "source": [
    "Measure = \"RSI\"\n",
    "output = \"full\"\n",
    "MainUrl = \"https://www.alphavantage.co/query?\"\n",
    "interval = \"daily\"\n",
    "series_type = \"close\"\n",
    "callUrl = (f\"{MainUrl}function={Measure}&symbol={ticker}&interval={interval}\") + (f\"&time_period={time_period}&series_type={series_type}&apikey={API_KEY}\")\n",
    "time_period = \"20\"\n",
    "RSI = []\n",
    "batchNumber = b1\n",
    "\n",
    "for ticker in batchNumber :\n",
    "    response = requests.get(callUrl)\n",
    "    data = response.json()\n",
    "    for key in data[f'Technical Analysis: {Measure}']:\n",
    "        data[f'Technical Analysis: {Measure}'][key].update({'Symbol' :f\"{ticker}\"})\n",
    "    RSI.append(data[f'Technical Analysis: {Measure}'])\n",
    "    \n",
    "RSI_b1 = []\n",
    "for x in range(0,5):\n",
    "    RSI[x] = pd.DataFrame.from_dict(RSI[x], orient='index')\n",
    "    RSI_b1.append(RSI[x])"
   ]
  },
  {
   "cell_type": "code",
   "execution_count": null,
   "metadata": {},
   "outputs": [],
   "source": [
    "#b1\n",
    "RSI_MSFT = RSI[0]; RSI_WMT = RSI[1]; RSI_V = RSI[2]; RSI_AXP = RSI[3]; RSI_PG = RSI[4]; "
   ]
  },
  {
   "cell_type": "code",
   "execution_count": null,
   "metadata": {},
   "outputs": [],
   "source": [
    "#b1\n",
    "RSI_MSFT = RSI_MSFT.reset_index(drop=False)\n",
    "RSI_WMT = RSI_WMT.reset_index(drop=False)\n",
    "RSI_V = RSI_V.reset_index(drop=False)\n",
    "RSI_AXP = RSI_AXP.reset_index(drop=False)\n",
    "RSI_PG = RSI_PG.reset_index(drop=False)"
   ]
  },
  {
   "cell_type": "code",
   "execution_count": null,
   "metadata": {},
   "outputs": [],
   "source": [
    "RSI#b1\n",
    "RSI_MSFT.to_sql(name = f'{Measure}_MSFT', con = engine,\n",
    "        if_exists = 'replace', chunksize = 75)\n",
    "RSI_WMT.to_sql(name = f'{Measure}_WMT', con = engine,\n",
    "        if_exists = 'replace', chunksize = 75)\n",
    "RSI_V.to_sql(name = f'{Measure}_V', con = engine,\n",
    "        if_exists = 'replace', chunksize = 75)\n",
    "RSI_AXP.to_sql(name = f'{Measure}_AXP', con = engine,\n",
    "        if_exists = 'replace', chunksize = 75)\n",
    "RSI_PG.to_sql(name = f'{Measure}_PG', con = engine,\n",
    "        if_exists = 'replace', chunksize = 75)"
   ]
  },
  {
   "cell_type": "markdown",
   "metadata": {},
   "source": [
    "## Second Batch"
   ]
  },
  {
   "cell_type": "markdown",
   "metadata": {},
   "source": [
    "## Second Batch"
   ]
  },
  {
   "cell_type": "code",
   "execution_count": null,
   "metadata": {},
   "outputs": [],
   "source": [
    "Measure = \"RSI\"\n",
    "output = \"full\"\n",
    "MainUrl = \"https://www.alphavantage.co/query?\"\n",
    "interval = \"daily\"\n",
    "series_type = \"close\"\n",
    "callUrl = (f\"{MainUrl}function={Measure}&symbol={ticker}&interval={interval}\") + (f\"&time_period={time_period}&series_type={series_type}&apikey={API_KEY}\")\n",
    "time_period = \"20\"\n",
    "RSI = []\n",
    "batchNumber = b2\n",
    "\n",
    "for ticker in batchNumber :\n",
    "    response = requests.get(callUrl)\n",
    "    data = response.json()\n",
    "    for key in data[f'Technical Analysis: {Measure}']:\n",
    "        data[f'Technical Analysis: {Measure}'][key].update({'Symbol' :f\"{ticker}\"})\n",
    "    RSI.append(data[f'Technical Analysis: {Measure}'])\n",
    "    \n",
    "RSI_b2 = []\n",
    "for x in range(0,5):\n",
    "    RSI[x] = pd.DataFrame.from_dict(RSI[x], orient='index')\n",
    "    RSI_b2.append(RSI[x])"
   ]
  },
  {
   "cell_type": "markdown",
   "metadata": {},
   "source": [
    "## Create batches"
   ]
  },
  {
   "cell_type": "code",
   "execution_count": null,
   "metadata": {},
   "outputs": [],
   "source": [
    "Measure = \"RSI\"\n",
    "output = \"full\"\n",
    "MainUrl = \"https://www.alphavantage.co/query?\"\n",
    "interval = \"daily\"\n",
    "series_type = \"close\"\n",
    "callUrl = (f\"{MainUrl}function={Measure}&symbol={ticker}&interval={interval}\") + (f\"&time_period={time_period}&series_type={series_type}&apikey={API_KEY}\")\n",
    "time_period = \"20\"\n",
    "\n",
    "def stock_pull():\n",
    "    response = requests.get(callUrl)\n",
    "    data = response.json()\n",
    "    for key in data[f'Technical Analysis: {Measure}']:\n",
    "        data[f'Technical Analysis: {Measure}'][key].update({'Symbol' :f\"{ticker}\"})\n",
    "    MACD.append(data[f'Technical Analysis: {Measure}'])"
   ]
  },
  {
   "cell_type": "code",
   "execution_count": null,
   "metadata": {},
   "outputs": [],
   "source": [
    "#b1\n",
    "RSI_CVX = RSI[0]\n",
    "RSI_JNJ = RSI[1]\n",
    "RSI_HD = RSI[2]\n",
    "RSI_KO = RSI[3]\n",
    "RSI_NKE = RSI[4]"
   ]
  },
  {
   "cell_type": "code",
   "execution_count": null,
   "metadata": {},
   "outputs": [],
   "source": [
    "#b1\n",
    "RSI_CVX = RSI_CVX.reset_index(drop=False)\n",
    "RSI_JNJ = RSI_JNJ.reset_index(drop=False)\n",
    "RSI_HD = RSI_HD.reset_index(drop=False)\n",
    "RSI_KO = RSI_KO.reset_index(drop=False)\n",
    "RSI_NKE = RSI_NKE.reset_index(drop=False)"
   ]
  },
  {
   "cell_type": "code",
   "execution_count": null,
   "metadata": {},
   "outputs": [],
   "source": [
    "#b1\n",
    "RSI_CVX.to_sql(name = f'{Measure}_CVX', con = engine,\n",
    "        if_exists = 'replace', chunksize = 75)\n",
    "RSI_JNJ.to_sql(name = f'{Measure}_JNJ', con = engine,\n",
    "        if_exists = 'replace', chunksize = 75)\n",
    "RSI_HD.to_sql(name = f'{Measure}_HD', con = engine,\n",
    "        if_exists = 'replace', chunksize = 75)\n",
    "RSI_KO.to_sqRSIl(name = f'{Measure}_KO', con = engine,\n",
    "        if_exists = 'replace', chunksize = 75)\n",
    "RSI_NKE.to_sql(name = f'{Measure}_NKE', con = engine,\n",
    "        if_exists = 'replace', chunksize = 75)"
   ]
  },
  {
   "cell_type": "markdown",
   "metadata": {},
   "source": [
    "## Third Batch"
   ]
  },
  {
   "cell_type": "markdown",
   "metadata": {},
   "source": [
    "## Third Batch"
   ]
  },
  {
   "cell_type": "code",
   "execution_count": 73,
   "metadata": {},
   "outputs": [],
   "source": [
    "b1 = ['MSFT', 'WMT', 'V', 'AXP', 'PG']\n",
    "b2 = ['CVX', 'JNJ', 'HD', 'KO', 'NKE']\n",
    "b3 = ['JPM', 'MCD', 'UTX', 'MMM', 'AAPL']\n",
    "b4 = ['GS', 'IBM', 'TRV', 'VZ', 'CSCO']\n",
    "b5 = ['DIS', 'UNH', 'XOM', 'MRK', 'BA']\n",
    "b6 = ['INTC', 'DWDP', 'CAT', 'PFE', 'WBA']\n",
    "\n",
    "DJIA = [b1, b2, b3, b4, b5, b6]"
   ]
  },
  {
   "cell_type": "code",
   "execution_count": 89,
   "metadata": {},
   "outputs": [],
   "source": [
    "#b3 = ['JPM', 'MCD', 'UTX', 'MMM', 'AAPL']\n",
    "def getData():    \n",
    "    response = requests.get(callUrl)\n",
    "    data = response.json()\n",
    "    for key in data[f'Technical Analysis: {Measure}']:\n",
    "        data[f'Technical Analysis: {Measure}'][key].update({'Symbol' :f\"{ticker}\"})\n",
    "    output_df.append(data[f'Technical Analysis: {Measure}'])\n",
    "\n",
    "Measure = \"MACD\"\n",
    "output = \"full\"\n",
    "MainUrl = \"https://www.alphavantage.co/query?\"\n",
    "interval = \"daily\"\n",
    "series_type = \"close\"\n",
    "callUrl = (f\"{MainUrl}function={Measure}&symbol={ticker}&interval={interval}\") + (f\"&series_type={series_type}&apikey={API_KEY}\")\n",
    "output_df = []\n",
    "for ticker in b3:\n",
    "    getData()\n",
    "\n",
    "MACD_b3 = []\n",
    "for x in range(0,5):\n",
    "    output_df[x] = pd.DataFrame.from_dict(output_df[x], orient='index')\n",
    "    MACD_b3.append(output_df[x])"
   ]
  },
  {
   "cell_type": "code",
   "execution_count": 90,
   "metadata": {},
   "outputs": [],
   "source": [
    "MACD = MACD_b3\n",
    "\n",
    "MACD_JPM = MACD[0]\n",
    "MACD_MCD = MACD[1]\n",
    "MACD_UTX = MACD[2]\n",
    "MACD_MMM = MACD[3]\n",
    "MACD_AAPL = MACD[4]\n",
    "\n",
    "MACD_JPM = MACD_JPM.reset_index(drop=False)\n",
    "MACD_MCD = MACD_MCD.reset_index(drop=False)\n",
    "MACD_UTX = MACD_UTX.reset_index(drop=False)\n",
    "MACD_MMM = MACD_MMM.reset_index(drop=False)\n",
    "MACD_AAPL = MACD_AAPL.reset_index(drop=False)\n",
    "\n",
    "MACD_JPM.to_sql(name = f'{Measure}_JPM', con = engine,\n",
    "        if_exists = 'replace', chunksize = 75)\n",
    "MACD_MCD.to_sql(name = f'{Measure}_MCD', con = engine,\n",
    "        if_exists = 'replace', chunksize = 75)\n",
    "MACD_UTX.to_sql(name = f'{Measure}_UTX', con = engine,\n",
    "        if_exists = 'replace', chunksize = 75)\n",
    "MACD_MMM.to_sql(name = f'{Measure}_MMM', con = engine,\n",
    "        if_exists = 'replace', chunksize = 75)\n",
    "MACD_AAPL.to_sql(name = f'{Measure}_AAPL', con = engine,\n",
    "        if_exists = 'replace', chunksize = 75)"
   ]
  },
  {
   "cell_type": "code",
   "execution_count": 91,
   "metadata": {},
   "outputs": [],
   "source": [
    "#b4 = ['GS', 'IBM', 'TRV', 'VZ', 'CSCO']\n",
    "def getData():    \n",
    "    response = requests.get(callUrl)\n",
    "    data = response.json()\n",
    "    for key in data[f'Technical Analysis: {Measure}']:\n",
    "        data[f'Technical Analysis: {Measure}'][key].update({'Symbol' :f\"{ticker}\"})\n",
    "    output_df.append(data[f'Technical Analysis: {Measure}'])\n",
    "\n",
    "Measure = \"MACD\"\n",
    "output = \"full\"\n",
    "MainUrl = \"https://www.alphavantage.co/query?\"\n",
    "interval = \"daily\"\n",
    "series_type = \"close\"\n",
    "callUrl = (f\"{MainUrl}function={Measure}&symbol={ticker}&interval={interval}\") + (f\"&series_type={series_type}&apikey={API_KEY}\")\n",
    "output_df = []\n",
    "for ticker in b4:\n",
    "    getData()\n",
    "\n",
    "MACD_b4 = []\n",
    "for x in range(0,5):\n",
    "    output_df[x] = pd.DataFrame.from_dict(output_df[x], orient='index')\n",
    "    MACD_b4.append(output_df[x])"
   ]
  },
  {
   "cell_type": "code",
   "execution_count": 92,
   "metadata": {},
   "outputs": [],
   "source": [
    "MACD = MACD_b4\n",
    "\n",
    "MACD_GS = MACD[0]\n",
    "MACD_IBM = MACD[1]\n",
    "MACD_TRV = MACD[2]\n",
    "MACD_VZ = MACD[3]\n",
    "MACD_CSCO = MACD[4]\n",
    "\n",
    "MACD_GS = MACD_GS.reset_index(drop=False)\n",
    "MACD_IBM = MACD_IBM.reset_index(drop=False)\n",
    "MACD_TRV = MACD_TRV.reset_index(drop=False)\n",
    "MACD_VZ = MACD_VZ.reset_index(drop=False)\n",
    "MACD_CSCO = MACD_CSCO.reset_index(drop=False)\n",
    "\n",
    "MACD_GS.to_sql(name = f'{Measure}_GS', con = engine,\n",
    "        if_exists = 'replace', chunksize = 75)\n",
    "MACD_IBM.to_sql(name = f'{Measure}_IBM', con = engine,\n",
    "        if_exists = 'replace', chunksize = 75)\n",
    "MACD_TRV.to_sql(name = f'{Measure}_TRV', con = engine,\n",
    "        if_exists = 'replace', chunksize = 75)\n",
    "MACD_VZ.to_sql(name = f'{Measure}_VZ', con = engine,\n",
    "        if_exists = 'replace', chunksize = 75)\n",
    "MACD_CSCO.to_sql(name = f'{Measure}_CSCO', con = engine,\n",
    "        if_exists = 'replace', chunksize = 75)"
   ]
  },
  {
   "cell_type": "code",
   "execution_count": 93,
   "metadata": {},
   "outputs": [],
   "source": [
    "#b5 = ['DIS', 'UNH', 'XOM', 'MRK', 'BA']\n",
    "def getData():    \n",
    "    response = requests.get(callUrl)\n",
    "    data = response.json()\n",
    "    for key in data[f'Technical Analysis: {Measure}']:\n",
    "        data[f'Technical Analysis: {Measure}'][key].update({'Symbol' :f\"{ticker}\"})\n",
    "    output_df.append(data[f'Technical Analysis: {Measure}'])\n",
    "\n",
    "Measure = \"MACD\"\n",
    "output = \"full\"\n",
    "MainUrl = \"https://www.alphavantage.co/query?\"\n",
    "interval = \"daily\"\n",
    "series_type = \"close\"\n",
    "callUrl = (f\"{MainUrl}function={Measure}&symbol={ticker}&interval={interval}\") + (f\"&series_type={series_type}&apikey={API_KEY}\")\n",
    "output_df = []\n",
    "for ticker in b5:\n",
    "    getData()\n",
    "\n",
    "MACD_b5 = []\n",
    "for x in range(0,5):\n",
    "    output_df[x] = pd.DataFrame.from_dict(output_df[x], orient='index')\n",
    "    MACD_b5.append(output_df[x])"
   ]
  },
  {
   "cell_type": "code",
   "execution_count": 94,
   "metadata": {},
   "outputs": [],
   "source": [
    "MACD = MACD_b5\n",
    "\n",
    "MACD_DIS = MACD[0]\n",
    "MACD_UNH = MACD[1]\n",
    "MACD_XOM = MACD[2]\n",
    "MACD_MRK = MACD[3]\n",
    "MACD_BA = MACD[4]\n",
    "\n",
    "MACD_DIS = MACD_DIS.reset_index(drop=False)\n",
    "MACD_UNH = MACD_UNH.reset_index(drop=False)\n",
    "MACD_XOM = MACD_XOM.reset_index(drop=False)\n",
    "MACD_MRK = MACD_MRK.reset_index(drop=False)\n",
    "MACD_BA = MACD_BA.reset_index(drop=False)\n",
    "\n",
    "MACD_DIS.to_sql(name = f'{Measure}_DIS', con = engine,\n",
    "        if_exists = 'replace', chunksize = 75)\n",
    "MACD_UNH.to_sql(name = f'{Measure}_UNH', con = engine,\n",
    "        if_exists = 'replace', chunksize = 75)\n",
    "MACD_XOM.to_sql(name = f'{Measure}_XOM', con = engine,\n",
    "        if_exists = 'replace', chunksize = 75)\n",
    "MACD_MRK.to_sql(name = f'{Measure}_MRK', con = engine,\n",
    "        if_exists = 'replace', chunksize = 75)\n",
    "MACD_BA.to_sql(name = f'{Measure}_BA', con = engine,\n",
    "        if_exists = 'replace', chunksize = 75)"
   ]
  },
  {
   "cell_type": "code",
   "execution_count": 95,
   "metadata": {},
   "outputs": [],
   "source": [
    "# b6 = ['INTC', 'DWDP', 'CAT', 'PFE', 'WBA']\n",
    "def getData():    \n",
    "    response = requests.get(callUrl)\n",
    "    data = response.json()\n",
    "    for key in data[f'Technical Analysis: {Measure}']:\n",
    "        data[f'Technical Analysis: {Measure}'][key].update({'Symbol' :f\"{ticker}\"})\n",
    "    output_df.append(data[f'Technical Analysis: {Measure}'])\n",
    "\n",
    "Measure = \"MACD\"\n",
    "output = \"full\"\n",
    "MainUrl = \"https://www.alphavantage.co/query?\"\n",
    "interval = \"daily\"\n",
    "series_type = \"close\"\n",
    "callUrl = (f\"{MainUrl}function={Measure}&symbol={ticker}&interval={interval}\") + (f\"&series_type={series_type}&apikey={API_KEY}\")\n",
    "output_df = []\n",
    "for ticker in b6:\n",
    "    getData()\n",
    "\n",
    "MACD_b6 = []\n",
    "for x in range(0,5):\n",
    "    output_df[x] = pd.DataFrame.from_dict(output_df[x], orient='index')\n",
    "    MACD_b6.append(output_df[x])"
   ]
  },
  {
   "cell_type": "code",
   "execution_count": 96,
   "metadata": {},
   "outputs": [],
   "source": [
    "MACD = MACD_b6\n",
    "\n",
    "MACD_INTC = MACD[0]\n",
    "MACD_DWDP = MACD[1]\n",
    "MACD_CAT = MACD[2]\n",
    "MACD_PFE = MACD[3]\n",
    "MACD_WBA = MACD[4]\n",
    "\n",
    "MACD_INTC = MACD_INTC.reset_index(drop=False)\n",
    "MACD_DWDP = MACD_DWDP.reset_index(drop=False)\n",
    "MACD_CAT = MACD_CAT.reset_index(drop=False)\n",
    "MACD_PFE = MACD_PFE.reset_index(drop=False)\n",
    "MACD_WBA = MACD_WBA.reset_index(drop=False)\n",
    "\n",
    "MACD_INTC.to_sql(name = f'{Measure}_INTC', con = engine,\n",
    "        if_exists = 'replace', chunksize = 75)\n",
    "MACD_DWDP.to_sql(name = f'{Measure}_DWDP', con = engine,\n",
    "        if_exists = 'replace', chunksize = 75)\n",
    "MACD_CAT.to_sql(name = f'{Measure}_CAT', con = engine,\n",
    "        if_exists = 'replace', chunksize = 75)\n",
    "MACD_PFE.to_sql(name = f'{Measure}_PFE', con = engine,\n",
    "        if_exists = 'replace', chunksize = 75)\n",
    "MACD_WBA.to_sql(name = f'{Measure}_WBA', con = engine,\n",
    "        if_exists = 'replace', chunksize = 75)"
   ]
  },
  {
   "cell_type": "markdown",
   "metadata": {},
   "source": [
    "## Fourth Batch"
   ]
  },
  {
   "cell_type": "markdown",
   "metadata": {},
   "source": [
    "## Fourth Batch"
   ]
  },
  {
   "cell_type": "markdown",
   "metadata": {},
   "source": [
    "## Fifth Batch"
   ]
  },
  {
   "cell_type": "markdown",
   "metadata": {},
   "source": [
    "## Fifth Batch"
   ]
  },
  {
   "cell_type": "code",
   "execution_count": null,
   "metadata": {},
   "outputs": [],
   "source": [
    "#b2\n",
    "RSI_MSFT = RSI[0]\n",
    "RSI_WMT = RSI[1]\n",
    "RSI_V = RSI[2]\n",
    "RSI_AXP = RSI[3]\n",
    "RSI_PG = RSI[4]"
   ]
  },
  {
   "cell_type": "code",
   "execution_count": null,
   "metadata": {},
   "outputs": [],
   "source": [
    "#b3\n",
    "RSI_MSFT = RSI[0]\n",
    "RSI_WMT = RSI[1]\n",
    "RSI_V = RSI[2]\n",
    "RSI_AXP = RSI[3]\n",
    "RSI_PG = RSI[4]"
   ]
  },
  {
   "cell_type": "code",
   "execution_count": null,
   "metadata": {},
   "outputs": [],
   "source": [
    "#b4\n",
    "RSI_MSFT = RSI[0]\n",
    "RSI_WMT = RSI[1]\n",
    "RSI_V = RSI[2]\n",
    "RSI_AXP = RSI[3]\n",
    "RSI_PG = RSI[4]"
   ]
  },
  {
   "cell_type": "code",
   "execution_count": null,
   "metadata": {},
   "outputs": [],
   "source": [
    "#b5\n",
    "RSI_MSFT = RSI[0]\n",
    "RSI_WMT = RSI[1]\n",
    "RSI_V = RSI[2]\n",
    "RSI_AXP = RSI[3]\n",
    "RSI_PG = RSI[4]"
   ]
  },
  {
   "cell_type": "code",
   "execution_count": null,
   "metadata": {},
   "outputs": [],
   "source": [
    "#b6\n",
    "RSI_MSFT = RSI[0]\n",
    "RSI_WMT = RSI[1]\n",
    "RSI_V = RSI[2]\n",
    "RSI_AXP = RSI[3]\n",
    "RSI_PG = RSI[4]"
   ]
  },
  {
   "cell_type": "code",
   "execution_count": null,
   "metadata": {},
   "outputs": [],
   "source": [
    "Measure = \"BBANDS\"\n",
    "output = \"full\"\n",
    "MainUrl = \"https://www.alphavantage.co/query?\"\n",
    "interval = \"daily\"\n",
    "series_type = \"close\"\n",
    "time_period = \"20\"\n",
    "BBANDS = []\n",
    "\n",
    "for ticker in b1:\n",
    "    response = requests.get(\n",
    "        f\"{MainUrl}function={Measure}&symbol={ticker}&interval={interval}&time_period={time_period}&series_type={series_type}&nbdevup=3&nbdevdn=3&apikey={API_KEY}\")\n",
    "    data = response.json()\n",
    "    BBANDS.append(data)\n",
    "       \n",
    "BBANDS"
   ]
  },
  {
   "cell_type": "code",
   "execution_count": null,
   "metadata": {},
   "outputs": [],
   "source": [
    "Measure = \"EMA\"\n",
    "output = \"full\"\n",
    "MainUrl = \"https://www.alphavantage.co/query?\"\n",
    "interval = \"daily\"\n",
    "series_type = \"close\"\n",
    "time_period = \"20\"\n",
    "EMA = []\n",
    "\n",
    "for ticker in b1:\n",
    "    response = requests.get(\n",
    "        f\"{MainUrl}function={Measure}&symbol={ticker}&interval={interval}&time_period={time_period}&series_type={series_type}&apikey={API_KEY}\")\n",
    "    data = response.json()\n",
    "    EMA.append(data)\n",
    "       \n",
    "EMA"
   ]
  },
  {
   "cell_type": "code",
   "execution_count": null,
   "metadata": {},
   "outputs": [],
   "source": [
    "Measure = \"ADX\"\n",
    "output = \"full\"\n",
    "MainUrl = \"https://www.alphavantage.co/query?\"\n",
    "interval = \"daily\"\n",
    "time_period = \"20\"\n",
    "ADX = []\n",
    "\n",
    "for ticker in b1:\n",
    "    response = requests.get(\n",
    "        f\"{MainUrl}function={Measure}&symbol={ticker}&interval={interval}&time_period={time_period}&apikey={API_KEY}\")\n",
    "    data = response.json()\n",
    "    ADX.append(data)\n",
    "     \n",
    "ADX"
   ]
  },
  {
   "cell_type": "code",
   "execution_count": null,
   "metadata": {},
   "outputs": [],
   "source": [
    "Measure = \"CCI\"\n",
    "output = \"full\"\n",
    "MainUrl = \"https://www.alphavantage.co/query?\"\n",
    "interval = \"daily\"\n",
    "time_period = \"20\"\n",
    "CCI = []\n",
    "\n",
    "for ticker in b1:\n",
    "    response = requests.get(\n",
    "        f\"{MainUrl}function={Measure}&symbol={ticker}&interval={interval}&time_period={time_period}&apikey={API_KEY}\")\n",
    "    data = response.json()\n",
    "    CCI.append(data)\n",
    "     \n",
    "CCI"
   ]
  },
  {
   "cell_type": "code",
   "execution_count": null,
   "metadata": {},
   "outputs": [],
   "source": [
    "#sql_add_MACD = con.execute()"
   ]
  },
  {
   "cell_type": "code",
   "execution_count": null,
   "metadata": {},
   "outputs": [],
   "source": [
    "cursor.execute(\"USE stock_data\")\n",
    "daily_adj.to_sql(\n",
    "    name = 'daily_adj', conn = engine,\n",
    "    if_exists = 'replace', chunksize = 75)\n",
    "with engine.connect() as con:\n",
    "    con.execute('ALTER TABLE `daily_adj` ADD PRIMARY KEY (`index`);')"
   ]
  },
  {
   "cell_type": "code",
   "execution_count": null,
   "metadata": {},
   "outputs": [],
   "source": [
    "cursor.execute(\"USE stock_data\")\n",
    "MACD.to_sql(\n",
    "    name = 'MACD', conn = engine,\n",
    "    if_exists = 'replace', chunksize = 75)\n",
    "with engine.connect() as con:\n",
    "    con.execute('ALTER TABLE `MACD` ADD PRIMARY KEY (`index`);')"
   ]
  },
  {
   "cell_type": "code",
   "execution_count": null,
   "metadata": {},
   "outputs": [],
   "source": [
    "engine.execute(\"USE stock_data\")\n",
    "RSI.to_sql(\n",
    "    name = 'RSI', con = engine,\n",
    "    if_exists = 'replace', chunksize = 75)\n",
    "with engine.connect() as con:\n",
    "    con.execute('ALTER TABLE `RSI` ADD PRIMARY KEY (`index`);')"
   ]
  },
  {
   "cell_type": "code",
   "execution_count": null,
   "metadata": {},
   "outputs": [],
   "source": [
    "engine.execute(\"USE stock_data\")\n",
    "BBANDS.to_sql(\n",
    "    name = 'BBANDS', con = engine,\n",
    "    if_exists = 'replace', chunksize = 75)\n",
    "with engine.connect() as con:\n",
    "    con.execute('ALTER TABLE `BBANDS` ADD PRIMARY KEY (`index`);')"
   ]
  },
  {
   "cell_type": "code",
   "execution_count": null,
   "metadata": {},
   "outputs": [],
   "source": [
    "engine.execute(\"USE stock_data\")\n",
    "MACD.to_sql(\n",
    "    name = 'MACD', con = engine,\n",
    "    if_exists = 'replace', chunksize = 75)\n",
    "with engine.connect() as con:\n",
    "    con.execute('ALTER TABLE `MACD` ADD PRIMARY KEY (`index`);')"
   ]
  }
 ],
 "metadata": {
  "kernelspec": {
   "display_name": "Python 3",
   "language": "python",
   "name": "python3"
  },
  "language_info": {
   "codemirror_mode": {
    "name": "ipython",
    "version": 3
   },
   "file_extension": ".py",
   "mimetype": "text/x-python",
   "name": "python",
   "nbconvert_exporter": "python",
   "pygments_lexer": "ipython3",
   "version": "3.6.7"
  }
 },
 "nbformat": 4,
 "nbformat_minor": 2
}
