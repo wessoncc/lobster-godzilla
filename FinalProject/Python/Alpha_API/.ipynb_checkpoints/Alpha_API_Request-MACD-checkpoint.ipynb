{
 "cells": [
  {
   "cell_type": "markdown",
   "metadata": {},
   "source": [
    "## Dependencies"
   ]
  },
  {
   "cell_type": "markdown",
   "metadata": {},
   "source": [
    "## Dependencies"
   ]
  },
  {
   "cell_type": "code",
   "execution_count": 2,
   "metadata": {},
   "outputs": [],
   "source": [
    "import os\n",
    "import time\n",
    "import pandas as pd\n",
    "import json\n",
    "import requests\n",
    "from Alpha_key import API_KEY\n",
    "from sql_conn import password\n",
    "from sqlalchemy import create_engine\n",
    "import pymysql\n",
    "pymysql.install_as_MySQLdb()\n",
    "from sqlalchemy import create_engine, Column, Integer, String, Float, Date\n",
    "from sqlalchemy.ext.declarative import declarative_base\n",
    "Base = declarative_base()"
   ]
  },
  {
   "cell_type": "markdown",
   "metadata": {},
   "source": [
    "## SQL Stuff"
   ]
  },
  {
   "cell_type": "markdown",
   "metadata": {},
   "source": [
    "## SQL Stuff"
   ]
  },
  {
   "cell_type": "code",
   "execution_count": 3,
   "metadata": {},
   "outputs": [],
   "source": [
    "host=\"secondawsdb.caa0qcwnjnci.us-east-2.rds.amazonaws.com\"\n",
    "port=3307\n",
    "dbname=\"stock_data\"\n",
    "user=\"root\"\n",
    "password=f\"{password}\""
   ]
  },
  {
   "cell_type": "code",
   "execution_count": 4,
   "metadata": {},
   "outputs": [],
   "source": [
    "engine = create_engine(f\"mysql://root:{password}@{host}:{port}/stock_data\")"
   ]
  },
  {
   "cell_type": "code",
   "execution_count": 5,
   "metadata": {},
   "outputs": [],
   "source": [
    "Base.metadata.create_all(engine)"
   ]
  },
  {
   "cell_type": "code",
   "execution_count": 6,
   "metadata": {},
   "outputs": [],
   "source": [
    "from sqlalchemy.orm import Session\n",
    "session = Session(engine)"
   ]
  },
  {
   "cell_type": "code",
   "execution_count": 240,
   "metadata": {},
   "outputs": [
    {
     "data": {
      "text/plain": [
       "immutabledict({})"
      ]
     },
     "execution_count": 240,
     "metadata": {},
     "output_type": "execute_result"
    }
   ],
   "source": [
    "Base.metadata.tables"
   ]
  },
  {
   "cell_type": "markdown",
   "metadata": {},
   "source": [
    "## Create batches"
   ]
  },
  {
   "cell_type": "markdown",
   "metadata": {},
   "source": [
    "## Create batches"
   ]
  },
  {
   "cell_type": "code",
   "execution_count": 9,
   "metadata": {},
   "outputs": [],
   "source": [
    "b1 = ['MSFT', 'WMT', 'V', 'AXP', 'PG']\n",
    "b2 = ['CVX', 'JNJ', 'HD', 'KO', 'NKE']\n",
    "b3 = ['JPM', 'MCD', 'UTX', 'MMM', 'AAPL']\n",
    "b4 = ['GS', 'IBM', 'TRV', 'VZ', 'CSCO']\n",
    "b5 = ['DIS', 'UNH', 'XOM', 'MRK', 'BA']\n",
    "b6 = ['INTC', 'DWDP', 'CAT', 'PFE', 'WBA']\n",
    "\n",
    "DJIA = [b1, b2, b3, b4, b5, b6]"
   ]
  },
  {
   "cell_type": "code",
   "execution_count": 249,
   "metadata": {},
   "outputs": [],
   "source": [
    "DJIA = ['MSFT', 'WMT', 'V', 'AXP', 'PG',\n",
    "        'CVX', 'JNJ', 'HD', 'KO', 'NKE',\n",
    "        'JPM', 'MCD', 'UTX', 'MMM', 'AAPL',\n",
    "        'GS', 'IBM', 'TRV', 'VZ', 'CSCO',\n",
    "        'DIS', 'UNH', 'XOM', 'MRK', 'BA',\n",
    "        'INTC', 'DWDP', 'CAT', 'PFE', 'WBA']"
   ]
  },
  {
   "cell_type": "code",
   "execution_count": 180,
   "metadata": {},
   "outputs": [],
   "source": [
    "DJIA = ['MSFT', 'WMT', 'V', 'AXP', 'PG']"
   ]
  },
  {
   "cell_type": "markdown",
   "metadata": {},
   "source": [
    "## First Batch"
   ]
  },
  {
   "cell_type": "raw",
   "metadata": {},
   "source": [
    "b1 = ['MSFT', 'WMT', 'V', 'AXP', 'PG']"
   ]
  },
  {
   "cell_type": "markdown",
   "metadata": {},
   "source": [
    "### MACD"
   ]
  },
  {
   "cell_type": "raw",
   "metadata": {},
   "source": [
    "#Measure = ['MACD','STOCH', 'RSI', 'BBANDS', 'CCI', 'ADX']\n"
   ]
  },
  {
   "cell_type": "code",
   "execution_count": 256,
   "metadata": {},
   "outputs": [],
   "source": [
    "Measure = \"MACD\"\n",
    "output = \"full\"\n",
    "MainUrl = \"https://www.alphavantage.co/query?\"\n",
    "interval = \"daily\"\n",
    "series_type = \"close\"\n",
    "callUrl = (f\"{MainUrl}function={Measure}&symbol={ticker}&interval={interval}\") + (f\"&series_type={series_type}&apikey={API_KEY}\")\n",
    "MACD = []\n",
    "\n",
    "def stock_pull():\n",
    "    response = requests.get(callUrl)\n",
    "    data = response.json()\n",
    "    for key in data[f'Technical Analysis: {Measure}']:\n",
    "        data[f'Technical Analysis: {Measure}'][key].update({'Symbol' :f\"{ticker}\"})\n",
    "    MACD.append(data[f'Technical Analysis: {Measure}'])\n",
    "    \n"
   ]
  },
  {
   "cell_type": "code",
   "execution_count": 251,
   "metadata": {},
   "outputs": [],
   "source": [
    "stock_pull()"
   ]
  },
  {
   "cell_type": "code",
   "execution_count": 247,
   "metadata": {},
   "outputs": [],
   "source": [
    "def print_ts(message):\n",
    "    print(\"[%s] %s\"%(time.strftime(\"%Y-%m-%d %H:%M:%S\", time.localtime()), message))\n",
    "\n",
    "def run(interval, command):\n",
    "    print_ts(\"-\"*50)\n",
    "    print_ts(\"Command %s\"%command)\n",
    "    print_ts(\"Starting every %s seconds.\"%interval)\n",
    "    print_ts(\"-\"*50)\n",
    "    while True:\n",
    "        try:\n",
    "            # sleep for the remaining seconds of interval\n",
    "            time_remaining = interval-time.time()%interval\n",
    "            print_ts(\"Sleeping until %s (%s seconds)...\"%((time.ctime(time.time()+time_remaining)), time_remaining))\n",
    "            time.sleep(time_remaining)\n",
    "            print_ts(\"Starting command.\")\n",
    "            \n",
    "            \n",
    "            # execute the command\n",
    "            status = os.system(stock_pull())\n",
    "            print_ts(\"-\"*50)\n",
    "            print_ts(\"Command status = %s.\"%status)\n",
    "        except Exception:\n",
    "            print(Exception)\n",
    "if __name__==\"__main__\":\n",
    "    interval = 30\n",
    "    command = stock_pull()\n",
    "    run(interval, command)\n"
   ]
  },
  {
   "cell_type": "code",
   "execution_count": 173,
   "metadata": {
    "scrolled": true
   },
   "outputs": [
    {
     "data": {
      "text/plain": [
       "[           MACD_Signal MACD_Hist    MACD Symbol\n",
       " 1998-02-20      0.3122    0.4141  0.7263   MSFT\n",
       " 1998-02-23      0.4023    0.3604  0.7627   MSFT\n",
       " 1998-02-24      0.4664    0.2563  0.7227   MSFT\n",
       " 1998-02-25      0.5177    0.2053  0.7230   MSFT\n",
       " 1998-02-26      0.5581    0.1616  0.7197   MSFT\n",
       " 1998-02-27      0.6103    0.2088  0.8191   MSFT\n",
       " 1998-03-02      0.6278    0.0700  0.6978   MSFT\n",
       " 1998-03-03      0.6172   -0.0424  0.5748   MSFT\n",
       " 1998-03-04      0.5862   -0.1239  0.4623   MSFT\n",
       " 1998-03-05      0.5198   -0.2657  0.2541   MSFT\n",
       " 1998-03-06      0.4804   -0.1578  0.3226   MSFT\n",
       " 1998-03-09      0.4846    0.0171  0.5018   MSFT\n",
       " 1998-03-10      0.5279    0.1731  0.7011   MSFT\n",
       " 1998-03-11      0.6002    0.2889  0.8891   MSFT\n",
       " 1998-03-12      0.6476    0.1897  0.8372   MSFT\n",
       " 1998-03-13      0.6475   -0.0001  0.6475   MSFT\n",
       " 1998-03-16      0.6123   -0.1409  0.4715   MSFT\n",
       " 1998-03-17      0.5764   -0.1437  0.4327   MSFT\n",
       " 1998-03-18      0.5596   -0.0673  0.4923   MSFT\n",
       " 1998-03-19      0.5633    0.0148  0.5781   MSFT\n",
       " 1998-03-20      0.5793    0.0642  0.6435   MSFT\n",
       " 1998-03-23      0.6169    0.1503  0.7672   MSFT\n",
       " 1998-03-24      0.6657    0.1952  0.8609   MSFT\n",
       " 1998-03-25      0.7004    0.1388  0.8392   MSFT\n",
       " 1998-03-26      0.7338    0.1338  0.8676   MSFT\n",
       " 1998-03-27      0.7332   -0.0024  0.7309   MSFT\n",
       " 1998-03-30      0.7296   -0.0145  0.7151   MSFT\n",
       " 1998-03-31      0.7067   -0.0918  0.6148   MSFT\n",
       " 1998-04-01      0.7219    0.0610  0.7829   MSFT\n",
       " 1998-04-02      0.7906    0.2747  1.0653   MSFT\n",
       " ...                ...       ...     ...    ...\n",
       " 2019-01-25      0.0488    0.3049  0.3538   MSFT\n",
       " 2019-01-28      0.1221    0.2930  0.4150   MSFT\n",
       " 2019-01-29      0.1896    0.2703  0.4599   MSFT\n",
       " 2019-01-30      0.2653    0.3027  0.5680   MSFT\n",
       " 2019-01-31      0.3726    0.4292  0.8018   MSFT\n",
       " 2019-02-01      0.5092    0.5464  1.0556   MSFT\n",
       " 2019-02-04      0.6648    0.6223  1.2870   MSFT\n",
       " 2019-02-05      0.8131    0.5935  1.4067   MSFT\n",
       " 2019-02-06      0.9550    0.5676  1.5226   MSFT\n",
       " 2019-02-07      1.0708    0.4631  1.5339   MSFT\n",
       " 2019-02-08      1.1708    0.4000  1.5708   MSFT\n",
       " 2019-02-11      1.2619    0.3645  1.6264   MSFT\n",
       " 2019-02-12      1.3556    0.3748  1.7304   MSFT\n",
       " 2019-02-13      1.4426    0.3480  1.7906   MSFT\n",
       " 2019-02-14      1.5051    0.2500  1.7552   MSFT\n",
       " 2019-02-15      1.5459    0.1631  1.7090   MSFT\n",
       " 2019-02-19      1.5915    0.1823  1.7738   MSFT\n",
       " 2019-02-20      1.6227    0.1249  1.7477   MSFT\n",
       " 2019-02-21      1.6476    0.0996  1.7472   MSFT\n",
       " 2019-02-22      1.6710    0.0934  1.7644   MSFT\n",
       " 2019-02-25      1.6775    0.0260  1.7035   MSFT\n",
       " 2019-02-26      1.6734   -0.0163  1.6572   MSFT\n",
       " 2019-02-27      1.6444   -0.1159  1.5286   MSFT\n",
       " 2019-02-28      1.5919   -0.2102  1.3817   MSFT\n",
       " 2019-03-01      1.5219   -0.2799  1.2421   MSFT\n",
       " 2019-03-04      1.4481   -0.2953  1.1528   MSFT\n",
       " 2019-03-05      1.3760   -0.2886  1.0873   MSFT\n",
       " 2019-03-06      1.3029   -0.2921  1.0109   MSFT\n",
       " 2019-03-07      1.2242   -0.3151  0.9091   MSFT\n",
       " 2019-03-08      1.1409   -0.3330  0.8079   MSFT\n",
       " \n",
       " [5296 rows x 4 columns],            MACD_Signal    MACD MACD_Hist Symbol\n",
       " 1998-02-20      0.3122  0.7263    0.4141    WMT\n",
       " 1998-02-23      0.4023  0.7627    0.3604    WMT\n",
       " 1998-02-24      0.4664  0.7227    0.2563    WMT\n",
       " 1998-02-25      0.5177  0.7230    0.2053    WMT\n",
       " 1998-02-26      0.5581  0.7197    0.1616    WMT\n",
       " 1998-02-27      0.6103  0.8191    0.2088    WMT\n",
       " 1998-03-02      0.6278  0.6978    0.0700    WMT\n",
       " 1998-03-03      0.6172  0.5748   -0.0424    WMT\n",
       " 1998-03-04      0.5862  0.4623   -0.1239    WMT\n",
       " 1998-03-05      0.5198  0.2541   -0.2657    WMT\n",
       " 1998-03-06      0.4804  0.3226   -0.1578    WMT\n",
       " 1998-03-09      0.4846  0.5018    0.0171    WMT\n",
       " 1998-03-10      0.5279  0.7011    0.1731    WMT\n",
       " 1998-03-11      0.6002  0.8891    0.2889    WMT\n",
       " 1998-03-12      0.6476  0.8372    0.1897    WMT\n",
       " 1998-03-13      0.6475  0.6475   -0.0001    WMT\n",
       " 1998-03-16      0.6123  0.4715   -0.1409    WMT\n",
       " 1998-03-17      0.5764  0.4327   -0.1437    WMT\n",
       " 1998-03-18      0.5596  0.4923   -0.0673    WMT\n",
       " 1998-03-19      0.5633  0.5781    0.0148    WMT\n",
       " 1998-03-20      0.5793  0.6435    0.0642    WMT\n",
       " 1998-03-23      0.6169  0.7672    0.1503    WMT\n",
       " 1998-03-24      0.6657  0.8609    0.1952    WMT\n",
       " 1998-03-25      0.7004  0.8392    0.1388    WMT\n",
       " 1998-03-26      0.7338  0.8676    0.1338    WMT\n",
       " 1998-03-27      0.7332  0.7309   -0.0024    WMT\n",
       " 1998-03-30      0.7296  0.7151   -0.0145    WMT\n",
       " 1998-03-31      0.7067  0.6148   -0.0918    WMT\n",
       " 1998-04-01      0.7219  0.7829    0.0610    WMT\n",
       " 1998-04-02      0.7906  1.0653    0.2747    WMT\n",
       " ...                ...     ...       ...    ...\n",
       " 2019-01-25      0.0488  0.3538    0.3049    WMT\n",
       " 2019-01-28      0.1221  0.4150    0.2930    WMT\n",
       " 2019-01-29      0.1896  0.4599    0.2703    WMT\n",
       " 2019-01-30      0.2653  0.5680    0.3027    WMT\n",
       " 2019-01-31      0.3726  0.8018    0.4292    WMT\n",
       " 2019-02-01      0.5092  1.0556    0.5464    WMT\n",
       " 2019-02-04      0.6648  1.2870    0.6223    WMT\n",
       " 2019-02-05      0.8131  1.4067    0.5935    WMT\n",
       " 2019-02-06      0.9550  1.5226    0.5676    WMT\n",
       " 2019-02-07      1.0708  1.5339    0.4631    WMT\n",
       " 2019-02-08      1.1708  1.5708    0.4000    WMT\n",
       " 2019-02-11      1.2619  1.6264    0.3645    WMT\n",
       " 2019-02-12      1.3556  1.7304    0.3748    WMT\n",
       " 2019-02-13      1.4426  1.7906    0.3480    WMT\n",
       " 2019-02-14      1.5051  1.7552    0.2500    WMT\n",
       " 2019-02-15      1.5459  1.7090    0.1631    WMT\n",
       " 2019-02-19      1.5915  1.7738    0.1823    WMT\n",
       " 2019-02-20      1.6227  1.7477    0.1249    WMT\n",
       " 2019-02-21      1.6476  1.7472    0.0996    WMT\n",
       " 2019-02-22      1.6710  1.7644    0.0934    WMT\n",
       " 2019-02-25      1.6775  1.7035    0.0260    WMT\n",
       " 2019-02-26      1.6734  1.6572   -0.0163    WMT\n",
       " 2019-02-27      1.6444  1.5286   -0.1159    WMT\n",
       " 2019-02-28      1.5919  1.3817   -0.2102    WMT\n",
       " 2019-03-01      1.5219  1.2421   -0.2799    WMT\n",
       " 2019-03-04      1.4481  1.1528   -0.2953    WMT\n",
       " 2019-03-05      1.3760  1.0873   -0.2886    WMT\n",
       " 2019-03-06      1.3029  1.0109   -0.2921    WMT\n",
       " 2019-03-07      1.2242  0.9091   -0.3151    WMT\n",
       " 2019-03-08      1.1409  0.8079   -0.3330    WMT\n",
       " \n",
       " [5296 rows x 4 columns],            MACD_Signal MACD_Hist    MACD Symbol\n",
       " 1998-02-20      0.3122    0.4141  0.7263      V\n",
       " 1998-02-23      0.4023    0.3604  0.7627      V\n",
       " 1998-02-24      0.4664    0.2563  0.7227      V\n",
       " 1998-02-25      0.5177    0.2053  0.7230      V\n",
       " 1998-02-26      0.5581    0.1616  0.7197      V\n",
       " 1998-02-27      0.6103    0.2088  0.8191      V\n",
       " 1998-03-02      0.6278    0.0700  0.6978      V\n",
       " 1998-03-03      0.6172   -0.0424  0.5748      V\n",
       " 1998-03-04      0.5862   -0.1239  0.4623      V\n",
       " 1998-03-05      0.5198   -0.2657  0.2541      V\n",
       " 1998-03-06      0.4804   -0.1578  0.3226      V\n",
       " 1998-03-09      0.4846    0.0171  0.5018      V\n",
       " 1998-03-10      0.5279    0.1731  0.7011      V\n",
       " 1998-03-11      0.6002    0.2889  0.8891      V\n",
       " 1998-03-12      0.6476    0.1897  0.8372      V\n",
       " 1998-03-13      0.6475   -0.0001  0.6475      V\n",
       " 1998-03-16      0.6123   -0.1409  0.4715      V\n",
       " 1998-03-17      0.5764   -0.1437  0.4327      V\n",
       " 1998-03-18      0.5596   -0.0673  0.4923      V\n",
       " 1998-03-19      0.5633    0.0148  0.5781      V\n",
       " 1998-03-20      0.5793    0.0642  0.6435      V\n",
       " 1998-03-23      0.6169    0.1503  0.7672      V\n",
       " 1998-03-24      0.6657    0.1952  0.8609      V\n",
       " 1998-03-25      0.7004    0.1388  0.8392      V\n",
       " 1998-03-26      0.7338    0.1338  0.8676      V\n",
       " 1998-03-27      0.7332   -0.0024  0.7309      V\n",
       " 1998-03-30      0.7296   -0.0145  0.7151      V\n",
       " 1998-03-31      0.7067   -0.0918  0.6148      V\n",
       " 1998-04-01      0.7219    0.0610  0.7829      V\n",
       " 1998-04-02      0.7906    0.2747  1.0653      V\n",
       " ...                ...       ...     ...    ...\n",
       " 2019-01-25      0.0488    0.3049  0.3538      V\n",
       " 2019-01-28      0.1221    0.2930  0.4150      V\n",
       " 2019-01-29      0.1896    0.2703  0.4599      V\n",
       " 2019-01-30      0.2653    0.3027  0.5680      V\n",
       " 2019-01-31      0.3726    0.4292  0.8018      V\n",
       " 2019-02-01      0.5092    0.5464  1.0556      V\n",
       " 2019-02-04      0.6648    0.6223  1.2870      V\n",
       " 2019-02-05      0.8131    0.5935  1.4067      V\n",
       " 2019-02-06      0.9550    0.5676  1.5226      V\n",
       " 2019-02-07      1.0708    0.4631  1.5339      V\n",
       " 2019-02-08      1.1708    0.4000  1.5708      V\n",
       " 2019-02-11      1.2619    0.3645  1.6264      V\n",
       " 2019-02-12      1.3556    0.3748  1.7304      V\n",
       " 2019-02-13      1.4426    0.3480  1.7906      V\n",
       " 2019-02-14      1.5051    0.2500  1.7552      V\n",
       " 2019-02-15      1.5459    0.1631  1.7090      V\n",
       " 2019-02-19      1.5915    0.1823  1.7738      V\n",
       " 2019-02-20      1.6227    0.1249  1.7477      V\n",
       " 2019-02-21      1.6476    0.0996  1.7472      V\n",
       " 2019-02-22      1.6710    0.0934  1.7644      V\n",
       " 2019-02-25      1.6775    0.0260  1.7035      V\n",
       " 2019-02-26      1.6734   -0.0163  1.6572      V\n",
       " 2019-02-27      1.6444   -0.1159  1.5286      V\n",
       " 2019-02-28      1.5919   -0.2102  1.3817      V\n",
       " 2019-03-01      1.5219   -0.2799  1.2421      V\n",
       " 2019-03-04      1.4481   -0.2953  1.1528      V\n",
       " 2019-03-05      1.3760   -0.2886  1.0873      V\n",
       " 2019-03-06      1.3029   -0.2921  1.0109      V\n",
       " 2019-03-07      1.2242   -0.3151  0.9091      V\n",
       " 2019-03-08      1.1409   -0.3330  0.8079      V\n",
       " \n",
       " [5296 rows x 4 columns],            MACD_Signal MACD_Hist    MACD Symbol\n",
       " 1998-02-20      0.3122    0.4141  0.7263    AXP\n",
       " 1998-02-23      0.4023    0.3604  0.7627    AXP\n",
       " 1998-02-24      0.4664    0.2563  0.7227    AXP\n",
       " 1998-02-25      0.5177    0.2053  0.7230    AXP\n",
       " 1998-02-26      0.5581    0.1616  0.7197    AXP\n",
       " 1998-02-27      0.6103    0.2088  0.8191    AXP\n",
       " 1998-03-02      0.6278    0.0700  0.6978    AXP\n",
       " 1998-03-03      0.6172   -0.0424  0.5748    AXP\n",
       " 1998-03-04      0.5862   -0.1239  0.4623    AXP\n",
       " 1998-03-05      0.5198   -0.2657  0.2541    AXP\n",
       " 1998-03-06      0.4804   -0.1578  0.3226    AXP\n",
       " 1998-03-09      0.4846    0.0171  0.5018    AXP\n",
       " 1998-03-10      0.5279    0.1731  0.7011    AXP\n",
       " 1998-03-11      0.6002    0.2889  0.8891    AXP\n",
       " 1998-03-12      0.6476    0.1897  0.8372    AXP\n",
       " 1998-03-13      0.6475   -0.0001  0.6475    AXP\n",
       " 1998-03-16      0.6123   -0.1409  0.4715    AXP\n",
       " 1998-03-17      0.5764   -0.1437  0.4327    AXP\n",
       " 1998-03-18      0.5596   -0.0673  0.4923    AXP\n",
       " 1998-03-19      0.5633    0.0148  0.5781    AXP\n",
       " 1998-03-20      0.5793    0.0642  0.6435    AXP\n",
       " 1998-03-23      0.6169    0.1503  0.7672    AXP\n",
       " 1998-03-24      0.6657    0.1952  0.8609    AXP\n",
       " 1998-03-25      0.7004    0.1388  0.8392    AXP\n",
       " 1998-03-26      0.7338    0.1338  0.8676    AXP\n",
       " 1998-03-27      0.7332   -0.0024  0.7309    AXP\n",
       " 1998-03-30      0.7296   -0.0145  0.7151    AXP\n",
       " 1998-03-31      0.7067   -0.0918  0.6148    AXP\n",
       " 1998-04-01      0.7219    0.0610  0.7829    AXP\n",
       " 1998-04-02      0.7906    0.2747  1.0653    AXP\n",
       " ...                ...       ...     ...    ...\n",
       " 2019-01-25      0.0488    0.3049  0.3538    AXP\n",
       " 2019-01-28      0.1221    0.2930  0.4150    AXP\n",
       " 2019-01-29      0.1896    0.2703  0.4599    AXP\n",
       " 2019-01-30      0.2653    0.3027  0.5680    AXP\n",
       " 2019-01-31      0.3726    0.4292  0.8018    AXP\n",
       " 2019-02-01      0.5092    0.5464  1.0556    AXP\n",
       " 2019-02-04      0.6648    0.6223  1.2870    AXP\n",
       " 2019-02-05      0.8131    0.5935  1.4067    AXP\n",
       " 2019-02-06      0.9550    0.5676  1.5226    AXP\n",
       " 2019-02-07      1.0708    0.4631  1.5339    AXP\n",
       " 2019-02-08      1.1708    0.4000  1.5708    AXP\n",
       " 2019-02-11      1.2619    0.3645  1.6264    AXP\n",
       " 2019-02-12      1.3556    0.3748  1.7304    AXP\n",
       " 2019-02-13      1.4426    0.3480  1.7906    AXP\n",
       " 2019-02-14      1.5051    0.2500  1.7552    AXP\n",
       " 2019-02-15      1.5459    0.1631  1.7090    AXP\n",
       " 2019-02-19      1.5915    0.1823  1.7738    AXP\n",
       " 2019-02-20      1.6227    0.1249  1.7477    AXP\n",
       " 2019-02-21      1.6476    0.0996  1.7472    AXP\n",
       " 2019-02-22      1.6710    0.0934  1.7644    AXP\n",
       " 2019-02-25      1.6775    0.0260  1.7035    AXP\n",
       " 2019-02-26      1.6734   -0.0163  1.6572    AXP\n",
       " 2019-02-27      1.6444   -0.1159  1.5286    AXP\n",
       " 2019-02-28      1.5919   -0.2102  1.3817    AXP\n",
       " 2019-03-01      1.5219   -0.2799  1.2421    AXP\n",
       " 2019-03-04      1.4481   -0.2953  1.1528    AXP\n",
       " 2019-03-05      1.3760   -0.2886  1.0873    AXP\n",
       " 2019-03-06      1.3029   -0.2921  1.0109    AXP\n",
       " 2019-03-07      1.2242   -0.3151  0.9091    AXP\n",
       " 2019-03-08      1.1409   -0.3330  0.8079    AXP\n",
       " \n",
       " [5296 rows x 4 columns],            MACD_Signal    MACD MACD_Hist Symbol\n",
       " 1998-02-20      0.3122  0.7263    0.4141     PG\n",
       " 1998-02-23      0.4023  0.7627    0.3604     PG\n",
       " 1998-02-24      0.4664  0.7227    0.2563     PG\n",
       " 1998-02-25      0.5177  0.7230    0.2053     PG\n",
       " 1998-02-26      0.5581  0.7197    0.1616     PG\n",
       " 1998-02-27      0.6103  0.8191    0.2088     PG\n",
       " 1998-03-02      0.6278  0.6978    0.0700     PG\n",
       " 1998-03-03      0.6172  0.5748   -0.0424     PG\n",
       " 1998-03-04      0.5862  0.4623   -0.1239     PG\n",
       " 1998-03-05      0.5198  0.2541   -0.2657     PG\n",
       " 1998-03-06      0.4804  0.3226   -0.1578     PG\n",
       " 1998-03-09      0.4846  0.5018    0.0171     PG\n",
       " 1998-03-10      0.5279  0.7011    0.1731     PG\n",
       " 1998-03-11      0.6002  0.8891    0.2889     PG\n",
       " 1998-03-12      0.6476  0.8372    0.1897     PG\n",
       " 1998-03-13      0.6475  0.6475   -0.0001     PG\n",
       " 1998-03-16      0.6123  0.4715   -0.1409     PG\n",
       " 1998-03-17      0.5764  0.4327   -0.1437     PG\n",
       " 1998-03-18      0.5596  0.4923   -0.0673     PG\n",
       " 1998-03-19      0.5633  0.5781    0.0148     PG\n",
       " 1998-03-20      0.5793  0.6435    0.0642     PG\n",
       " 1998-03-23      0.6169  0.7672    0.1503     PG\n",
       " 1998-03-24      0.6657  0.8609    0.1952     PG\n",
       " 1998-03-25      0.7004  0.8392    0.1388     PG\n",
       " 1998-03-26      0.7338  0.8676    0.1338     PG\n",
       " 1998-03-27      0.7332  0.7309   -0.0024     PG\n",
       " 1998-03-30      0.7296  0.7151   -0.0145     PG\n",
       " 1998-03-31      0.7067  0.6148   -0.0918     PG\n",
       " 1998-04-01      0.7219  0.7829    0.0610     PG\n",
       " 1998-04-02      0.7906  1.0653    0.2747     PG\n",
       " ...                ...     ...       ...    ...\n",
       " 2019-01-25      0.0488  0.3538    0.3049     PG\n",
       " 2019-01-28      0.1221  0.4150    0.2930     PG\n",
       " 2019-01-29      0.1896  0.4599    0.2703     PG\n",
       " 2019-01-30      0.2653  0.5680    0.3027     PG\n",
       " 2019-01-31      0.3726  0.8018    0.4292     PG\n",
       " 2019-02-01      0.5092  1.0556    0.5464     PG\n",
       " 2019-02-04      0.6648  1.2870    0.6223     PG\n",
       " 2019-02-05      0.8131  1.4067    0.5935     PG\n",
       " 2019-02-06      0.9550  1.5226    0.5676     PG\n",
       " 2019-02-07      1.0708  1.5339    0.4631     PG\n",
       " 2019-02-08      1.1708  1.5708    0.4000     PG\n",
       " 2019-02-11      1.2619  1.6264    0.3645     PG\n",
       " 2019-02-12      1.3556  1.7304    0.3748     PG\n",
       " 2019-02-13      1.4426  1.7906    0.3480     PG\n",
       " 2019-02-14      1.5051  1.7552    0.2500     PG\n",
       " 2019-02-15      1.5459  1.7090    0.1631     PG\n",
       " 2019-02-19      1.5915  1.7738    0.1823     PG\n",
       " 2019-02-20      1.6227  1.7477    0.1249     PG\n",
       " 2019-02-21      1.6476  1.7472    0.0996     PG\n",
       " 2019-02-22      1.6710  1.7644    0.0934     PG\n",
       " 2019-02-25      1.6775  1.7035    0.0260     PG\n",
       " 2019-02-26      1.6734  1.6572   -0.0163     PG\n",
       " 2019-02-27      1.6444  1.5286   -0.1159     PG\n",
       " 2019-02-28      1.5919  1.3817   -0.2102     PG\n",
       " 2019-03-01      1.5219  1.2421   -0.2799     PG\n",
       " 2019-03-04      1.4481  1.1528   -0.2953     PG\n",
       " 2019-03-05      1.3760  1.0873   -0.2886     PG\n",
       " 2019-03-06      1.3029  1.0109   -0.2921     PG\n",
       " 2019-03-07      1.2242  0.9091   -0.3151     PG\n",
       " 2019-03-08      1.1409  0.8079   -0.3330     PG\n",
       " \n",
       " [5296 rows x 4 columns]]"
      ]
     },
     "execution_count": 173,
     "metadata": {},
     "output_type": "execute_result"
    }
   ],
   "source": [
    "\n",
    "MACD_df"
   ]
  },
  {
   "cell_type": "code",
   "execution_count": 174,
   "metadata": {},
   "outputs": [
    {
     "data": {
      "text/plain": [
       "5"
      ]
     },
     "execution_count": 174,
     "metadata": {},
     "output_type": "execute_result"
    }
   ],
   "source": [
    "len(MACD_df)"
   ]
  },
  {
   "cell_type": "code",
   "execution_count": null,
   "metadata": {},
   "outputs": [],
   "source": [
    "Measure_arr = []\n",
    "    for x in range(0,5):\n",
    "            Measure_arr[x] = pd.DataFrame.from_dict(Measure_arr[x], orient='index')\n",
    "            Measure.append(Measure_arr[x]) "
   ]
  },
  {
   "cell_type": "code",
   "execution_count": 23,
   "metadata": {},
   "outputs": [],
   "source": [
    "def getData():\n",
    "    for ticker in DJIA:\n",
    "        callUrl = (f\"{MainUrl}function={Measure}&symbol={ticker}&interval={interval}\") + (f\"&series_type={series_type}&apikey={API_KEY}\")\n",
    "        response = requests.get(callUrl)\n",
    "        data = response.json()\n",
    "        for key in data[f'Technical Analysis: {Measure}']:\n",
    "            data[f'Technical Analysis: {Measure}'][key].update({'Symbol' :f\"{ticker}\"})\n",
    "        output_df.append(data[f'Technical Analysis: {Measure}'])\n",
    "\n",
    "    \n",
    "            \n",
    "output = \"full\"\n",
    "MainUrl = \"https://www.alphavantage.co/query?\"\n",
    "interval = \"daily\"\n",
    "series_type = \"close\"\n",
    "#callUrl = (f\"{MainUrl}function={Measure}&symbol={ticker}&interval={interval}\") + (f\"&series_type={series_type}&apikey={API_KEY}\")\n",
    "#                 output_df = []\n",
    "#                 batchNumber = b1\n",
    "Measure = \"MACD\""
   ]
  },
  {
   "cell_type": "code",
   "execution_count": 6,
   "metadata": {},
   "outputs": [],
   "source": [
    "output_df = []"
   ]
  },
  {
   "cell_type": "code",
   "execution_count": 7,
   "metadata": {},
   "outputs": [
    {
     "data": {
      "text/plain": [
       "0"
      ]
     },
     "execution_count": 7,
     "metadata": {},
     "output_type": "execute_result"
    }
   ],
   "source": [
    "len(output_df)"
   ]
  },
  {
   "cell_type": "code",
   "execution_count": null,
   "metadata": {},
   "outputs": [],
   "source": []
  },
  {
   "cell_type": "code",
   "execution_count": null,
   "metadata": {},
   "outputs": [],
   "source": []
  },
  {
   "cell_type": "code",
   "execution_count": 324,
   "metadata": {},
   "outputs": [],
   "source": [
    "i = len(output_df)\n",
    "while i < 30:\n",
    "    def getData():\n",
    "    for ticker in DJIA:\n",
    "        callUrl = (f\"{MainUrl}function={Measure}&symbol={ticker}&interval={interval}\") + (f\"&series_type={series_type}&apikey={API_KEY}\")\n",
    "        response = requests.get(callUrl)\n",
    "        data = response.json()\n",
    "        for key in data[f'Technical Analysis: {Measure}']:\n",
    "            data[f'Technical Analysis: {Measure}'][key].update({'Symbol' :f\"{ticker}\"})\n",
    "        output_df.append(data[f'Technical Analysis: {Measure}'])\n",
    "\n",
    "\n",
    "\n",
    "\n",
    "        \n",
    "        \n",
    "        \n",
    "#     Measure_arr = []\n",
    "#     for x in range(0,5):\n",
    "#         output_df[x] = pd.DataFrame.from_dict(output_df[x], orient='index')\n",
    "#         Measure_arr.append(output_df[x])\n",
    "            \n",
    "output = \"full\"\n",
    "MainUrl = \"https://www.alphavantage.co/query?\"\n",
    "interval = \"daily\"\n",
    "series_type = \"close\"\n",
    "#callUrl = (f\"{MainUrl}function={Measure}&symbol={ticker}&interval={interval}\") + (f\"&series_type={series_type}&apikey={API_KEY}\")\n",
    "output_df = []\n",
    "batchNumber = b1\n",
    "Measure = \"MACD\""
   ]
  },
  {
   "cell_type": "code",
   "execution_count": 323,
   "metadata": {},
   "outputs": [
    {
     "data": {
      "text/plain": [
       "5"
      ]
     },
     "execution_count": 323,
     "metadata": {},
     "output_type": "execute_result"
    }
   ],
   "source": [
    "len(output_df)"
   ]
  },
  {
   "cell_type": "code",
   "execution_count": 28,
   "metadata": {},
   "outputs": [],
   "source": [
    "for ticker in DJIA:\n",
    "    def GetData():\n",
    "    \n",
    "    \n",
    "        callUrl = (f\"{MainUrl}function={Measure}&symbol={ticker}&interval={interval}\") + (f\"&series_type={series_type}&apikey={API_KEY}\")\n",
    "        response = requests.get(callUrl)\n",
    "        data = response.json()\n",
    "        for key in data[f'Technical Analysis: {Measure}']:\n",
    "            data[f'Technical Analysis: {Measure}'][key].update({'Symbol' :f\"{ticker}\"})\n",
    "        output_df.append(data[f'Technical Analysis: {Measure}'])\n",
    "#     Measure_arr = []\n",
    "#     for x in range(0,5):\n",
    "#             Measure_arr[x] = pd.DataFrame.from_dict(Measure_arr[x], orient='index')\n",
    "#             Measure.append(Measure_arr[x])      "
   ]
  },
  {
   "cell_type": "code",
   "execution_count": null,
   "metadata": {},
   "outputs": [],
   "source": []
  },
  {
   "cell_type": "code",
   "execution_count": 226,
   "metadata": {},
   "outputs": [],
   "source": [
    "#b1\n",
    "MACD_MSFT = MACD[0]; MACD_WMT = MACD[1]; MACD_V = MACD[2]; MACD_AXP = MACD[3]; MACD_PG = MACD[4]"
   ]
  },
  {
   "cell_type": "code",
   "execution_count": 227,
   "metadata": {},
   "outputs": [],
   "source": [
    "#b1\n",
    "MACD_MSFT = MACD_MSFT.reset_index(drop=False)\n",
    "MACD_WMT = MACD_WMT.reset_index(drop=False)\n",
    "MACD_V = MACD_V.reset_index(drop=False)\n",
    "MACD_AXP = MACD_AXP.reset_index(drop=False)\n",
    "MACD_PG = MACD_PG.reset_index(drop=False)"
   ]
  },
  {
   "cell_type": "code",
   "execution_count": 229,
   "metadata": {},
   "outputs": [],
   "source": [
    "#b1\n",
    "MACD_MSFT.to_sql(name = f'{Measure}_MSFT', con = engine,\n",
    "        if_exists = 'replace', chunksize = 75)\n",
    "MACD_WMT.to_sql(name = f'{Measure}_WMT', con = engine,\n",
    "        if_exists = 'replace', chunksize = 75)\n",
    "MACD_V.to_sql(name = f'{Measure}_V', con = engine,\n",
    "        if_exists = 'replace', chunksize = 75)\n",
    "MACD_AXP.to_sql(name = f'{Measure}_AXP', con = engine,\n",
    "        if_exists = 'replace', chunksize = 75)\n",
    "MACD_PG.to_sql(name = f'{Measure}_PG', con = engine,\n",
    "        if_exists = 'replace', chunksize = 75)"
   ]
  },
  {
   "cell_type": "code",
   "execution_count": 245,
   "metadata": {},
   "outputs": [],
   "source": [
    "Measure = \"STOCH\"\n",
    "output = \"full\"\n",
    "MainUrl = \"https://www.alphavantage.co/query?\"\n",
    "interval = \"daily\"\n",
    "series_type = \"close\"\n",
    "callUrl = (f\"{MainUrl}function={Measure}&symbol={ticker}&interval={interval}\") + (f\"&series_type={series_type}&apikey={API_KEY}\")\n",
    "STOCH = []\n",
    "batchNumber = b1\n",
    "\n",
    "for ticker in batchNumber :\n",
    "    response = requests.get(callUrl)\n",
    "    data = response.json()\n",
    "    for key in data[f'Technical Analysis: {Measure}']:\n",
    "        data[f'Technical Analysis: {Measure}'][key].update({'Symbol' :f\"{ticker}\"})\n",
    "    STOCH.append(data[f'Technical Analysis: {Measure}'])\n",
    "    \n",
    "# STOCH_b1 = []\n",
    "# for x in range(0,5):\n",
    "#     STOCH[x] = pd.DataFrame.from_dict(STOCH[x], orient='index')\n",
    "#     STOCH_b1.append(STOCH[x])"
   ]
  },
  {
   "cell_type": "code",
   "execution_count": 249,
   "metadata": {},
   "outputs": [
    {
     "data": {
      "text/plain": [
       "5"
      ]
     },
     "execution_count": 249,
     "metadata": {},
     "output_type": "execute_result"
    }
   ],
   "source": [
    "len(STOCH)"
   ]
  },
  {
   "cell_type": "code",
   "execution_count": 203,
   "metadata": {},
   "outputs": [],
   "source": [
    "#b1\n",
    "STOCH_MSFT = STOCH[0]; STOCH_WMT = STOCH[1]; STOCH_V = STOCH[2]; STOCH_AXP = STOCH[3]; STOCH_PG = STOCH[4]"
   ]
  },
  {
   "cell_type": "code",
   "execution_count": 227,
   "metadata": {},
   "outputs": [],
   "source": [
    "#b1\n",
    "STOCH_MSFT = STOCH_MSFT.reset_index(drop=False)\n",
    "STOCH_WMT = STOCH_WMT.reset_index(drop=False)\n",
    "STOCH_V = STOCH_V.reset_index(drop=False)\n",
    "STOCH_AXP = STOCH_AXP.reset_index(drop=False)\n",
    "STOCH_PG = STOCH_PG.reset_index(drop=False)"
   ]
  },
  {
   "cell_type": "code",
   "execution_count": 229,
   "metadata": {},
   "outputs": [],
   "source": [
    "#b1\n",
    "STOCH_MSFT.to_sql(name = f'{Measure}_MSFT', con = engine,\n",
    "        if_exists = 'replace', chunksize = 75)\n",
    "STOCH_WMT.to_sql(name = f'{Measure}_WMT', con = engine,\n",
    "        if_exists = 'replace', chunksize = 75)\n",
    "STOCH_V.to_sql(name = f'{Measure}_V', con = engine,\n",
    "        if_exists = 'replace', chunksize = 75)\n",
    "STOCH_AXP.to_sql(name = f'{Measure}_AXP', con = engine,\n",
    "        if_exists = 'replace', chunksize = 75)\n",
    "STOCH_PG.to_sql(name = f'{Measure}_PG', con = engine,\n",
    "        if_exists = 'replace', chunksize = 75)"
   ]
  },
  {
   "cell_type": "code",
   "execution_count": 204,
   "metadata": {},
   "outputs": [],
   "source": [
    "Measure = \"RSI\"\n",
    "output = \"full\"\n",
    "MainUrl = \"https://www.alphavantage.co/query?\"\n",
    "interval = \"daily\"\n",
    "series_type = \"close\"\n",
    "callUrl = (f\"{MainUrl}function={Measure}&symbol={ticker}&interval={interval}\") + (f\"&time_period={time_period}&series_type={series_type}&apikey={API_KEY}\")\n",
    "time_period = \"20\"\n",
    "RSI = []\n",
    "batchNumber = b1\n",
    "\n",
    "for ticker in batchNumber :\n",
    "    response = requests.get(callUrl)\n",
    "    data = response.json()\n",
    "    for key in data[f'Technical Analysis: {Measure}']:\n",
    "        data[f'Technical Analysis: {Measure}'][key].update({'Symbol' :f\"{ticker}\"})\n",
    "    RSI.append(data[f'Technical Analysis: {Measure}'])\n",
    "    \n",
    "RSI_b1 = []\n",
    "for x in range(0,5):\n",
    "    RSI[x] = pd.DataFrame.from_dict(RSI[x], orient='index')\n",
    "    RSI_b1.append(RSI[x])"
   ]
  },
  {
   "cell_type": "code",
   "execution_count": 205,
   "metadata": {},
   "outputs": [],
   "source": [
    "#b1\n",
    "RSI_MSFT = RSI[0]; RSI_WMT = RSI[1]; RSI_V = RSI[2]; RSI_AXP = RSI[3]; RSI_PG = RSI[4]; "
   ]
  },
  {
   "cell_type": "code",
   "execution_count": 227,
   "metadata": {},
   "outputs": [],
   "source": [
    "#b1\n",
    "RSI_MSFT = RSI_MSFT.reset_index(drop=False)\n",
    "RSI_WMT = RSI_WMT.reset_index(drop=False)\n",
    "RSI_V = RSI_V.reset_index(drop=False)\n",
    "RSI_AXP = RSI_AXP.reset_index(drop=False)\n",
    "RSI_PG = RSI_PG.reset_index(drop=False)"
   ]
  },
  {
   "cell_type": "code",
   "execution_count": 229,
   "metadata": {},
   "outputs": [],
   "source": [
    "RSI#b1\n",
    "RSI_MSFT.to_sql(name = f'{Measure}_MSFT', con = engine,\n",
    "        if_exists = 'replace', chunksize = 75)\n",
    "RSI_WMT.to_sql(name = f'{Measure}_WMT', con = engine,\n",
    "        if_exists = 'replace', chunksize = 75)\n",
    "RSI_V.to_sql(name = f'{Measure}_V', con = engine,\n",
    "        if_exists = 'replace', chunksize = 75)\n",
    "RSI_AXP.to_sql(name = f'{Measure}_AXP', con = engine,\n",
    "        if_exists = 'replace', chunksize = 75)\n",
    "RSI_PG.to_sql(name = f'{Measure}_PG', con = engine,\n",
    "        if_exists = 'replace', chunksize = 75)"
   ]
  },
  {
   "cell_type": "markdown",
   "metadata": {},
   "source": [
    "## Second Batch"
   ]
  },
  {
   "cell_type": "markdown",
   "metadata": {},
   "source": [
    "## Second Batch"
   ]
  },
  {
   "cell_type": "raw",
   "metadata": {},
   "source": [
    "b2 = ['CVX', 'JNJ', 'HD', 'KO', 'NKE']"
   ]
  },
  {
   "cell_type": "code",
   "execution_count": 10,
   "metadata": {},
   "outputs": [
    {
     "ename": "NameError",
     "evalue": "name 'ticker' is not defined",
     "output_type": "error",
     "traceback": [
      "\u001b[1;31m---------------------------------------------------------------------------\u001b[0m",
      "\u001b[1;31mNameError\u001b[0m                                 Traceback (most recent call last)",
      "\u001b[1;32m<ipython-input-10-32959c6bb791>\u001b[0m in \u001b[0;36m<module>\u001b[1;34m\u001b[0m\n\u001b[0;32m      4\u001b[0m \u001b[0minterval\u001b[0m \u001b[1;33m=\u001b[0m \u001b[1;34m\"daily\"\u001b[0m\u001b[1;33m\u001b[0m\u001b[1;33m\u001b[0m\u001b[0m\n\u001b[0;32m      5\u001b[0m \u001b[0mseries_type\u001b[0m \u001b[1;33m=\u001b[0m \u001b[1;34m\"close\"\u001b[0m\u001b[1;33m\u001b[0m\u001b[1;33m\u001b[0m\u001b[0m\n\u001b[1;32m----> 6\u001b[1;33m \u001b[0mcallUrl\u001b[0m \u001b[1;33m=\u001b[0m \u001b[1;33m(\u001b[0m\u001b[1;34mf\"{MainUrl}function={Measure}&symbol={ticker}&interval={interval}\"\u001b[0m\u001b[1;33m)\u001b[0m \u001b[1;33m+\u001b[0m \u001b[1;33m(\u001b[0m\u001b[1;34mf\"&series_type={series_type}&apikey={API_KEY}\"\u001b[0m\u001b[1;33m)\u001b[0m\u001b[1;33m\u001b[0m\u001b[1;33m\u001b[0m\u001b[0m\n\u001b[0m\u001b[0;32m      7\u001b[0m \u001b[0mMACD\u001b[0m \u001b[1;33m=\u001b[0m \u001b[1;33m[\u001b[0m\u001b[1;33m]\u001b[0m\u001b[1;33m\u001b[0m\u001b[1;33m\u001b[0m\u001b[0m\n\u001b[0;32m      8\u001b[0m \u001b[0mbatchNumber\u001b[0m \u001b[1;33m=\u001b[0m \u001b[0mb2\u001b[0m\u001b[1;33m\u001b[0m\u001b[1;33m\u001b[0m\u001b[0m\n",
      "\u001b[1;31mNameError\u001b[0m: name 'ticker' is not defined"
     ]
    }
   ],
   "source": [
    "Measure = \"MACD\"\n",
    "output = \"full\"\n",
    "MainUrl = \"https://www.alphavantage.co/query?\"\n",
    "interval = \"daily\"\n",
    "series_type = \"close\"\n",
    "callUrl = (f\"{MainUrl}function={Measure}&symbol={ticker}&interval={interval}\") + (f\"&series_type={series_type}&apikey={API_KEY}\")\n",
    "MACD = []\n",
    "batchNumber = b2\n",
    "\n",
    "for ticker in batchNumber :\n",
    "    response = requests.get(callUrl)\n",
    "    data = response.json()\n",
    "    for key in data[f'Technical Analysis: {Measure}']:\n",
    "        data[f'Technical Analysis: {Measure}'][key].update({'Symbol' :f\"{ticker}\"})\n",
    "    MACD.append(data[f'Technical Analysis: {Measure}'])\n",
    "    \n",
    "MACD_b2 = []\n",
    "for x in range(0,5):\n",
    "    MACD[x] = pd.DataFrame.from_dict(MACD[x], orient='index')\n",
    "    MACD_b2.append(MACD[x])"
   ]
  },
  {
   "cell_type": "code",
   "execution_count": 231,
   "metadata": {},
   "outputs": [],
   "source": [
    "#b1\n",
    "MACD_CVX = MACD[0]; MACD_JNJ = MACD[1]; MACD_HD = MACD[2]; MACD_KO = MACD[3]; MACD_NKE = MACD[4]; "
   ]
  },
  {
   "cell_type": "code",
   "execution_count": 329,
   "metadata": {},
   "outputs": [
    {
     "data": {
      "text/plain": [
       "list"
      ]
     },
     "execution_count": 329,
     "metadata": {},
     "output_type": "execute_result"
    }
   ],
   "source": [
    "type(MACD)"
   ]
  },
  {
   "cell_type": "code",
   "execution_count": 36,
   "metadata": {},
   "outputs": [
    {
     "ename": "NameError",
     "evalue": "name 'MACD' is not defined",
     "output_type": "error",
     "traceback": [
      "\u001b[0;31m---------------------------------------------------------------------------\u001b[0m",
      "\u001b[0;31mNameError\u001b[0m                                 Traceback (most recent call last)",
      "\u001b[0;32m<ipython-input-36-22b9f46e7d0d>\u001b[0m in \u001b[0;36m<module>\u001b[0;34m()\u001b[0m\n\u001b[0;32m----> 1\u001b[0;31m \u001b[0mMACD\u001b[0m\u001b[0;34m\u001b[0m\u001b[0;34m\u001b[0m\u001b[0m\n\u001b[0m",
      "\u001b[0;31mNameError\u001b[0m: name 'MACD' is not defined"
     ]
    }
   ],
   "source": [
    "MACD"
   ]
  },
  {
   "cell_type": "code",
   "execution_count": 330,
   "metadata": {},
   "outputs": [
    {
     "data": {
      "text/plain": [
       "list"
      ]
     },
     "execution_count": 330,
     "metadata": {},
     "output_type": "execute_result"
    }
   ],
   "source": [
    "type(MACD_b2)"
   ]
  },
  {
   "cell_type": "code",
   "execution_count": 332,
   "metadata": {
    "scrolled": true
   },
   "outputs": [
    {
     "data": {
      "text/html": [
       "<div>\n",
       "<style scoped>\n",
       "    .dataframe tbody tr th:only-of-type {\n",
       "        vertical-align: middle;\n",
       "    }\n",
       "\n",
       "    .dataframe tbody tr th {\n",
       "        vertical-align: top;\n",
       "    }\n",
       "\n",
       "    .dataframe thead th {\n",
       "        text-align: right;\n",
       "    }\n",
       "</style>\n",
       "<table border=\"1\" class=\"dataframe\">\n",
       "  <thead>\n",
       "    <tr style=\"text-align: right;\">\n",
       "      <th></th>\n",
       "      <th>MACD_Signal</th>\n",
       "      <th>MACD</th>\n",
       "      <th>MACD_Hist</th>\n",
       "      <th>Symbol</th>\n",
       "    </tr>\n",
       "  </thead>\n",
       "  <tbody>\n",
       "    <tr>\n",
       "      <th>1998-02-20</th>\n",
       "      <td>0.3122</td>\n",
       "      <td>0.7263</td>\n",
       "      <td>0.4141</td>\n",
       "      <td>CVX</td>\n",
       "    </tr>\n",
       "    <tr>\n",
       "      <th>1998-02-23</th>\n",
       "      <td>0.4023</td>\n",
       "      <td>0.7627</td>\n",
       "      <td>0.3604</td>\n",
       "      <td>CVX</td>\n",
       "    </tr>\n",
       "    <tr>\n",
       "      <th>1998-02-24</th>\n",
       "      <td>0.4664</td>\n",
       "      <td>0.7227</td>\n",
       "      <td>0.2563</td>\n",
       "      <td>CVX</td>\n",
       "    </tr>\n",
       "    <tr>\n",
       "      <th>1998-02-25</th>\n",
       "      <td>0.5177</td>\n",
       "      <td>0.7230</td>\n",
       "      <td>0.2053</td>\n",
       "      <td>CVX</td>\n",
       "    </tr>\n",
       "    <tr>\n",
       "      <th>1998-02-26</th>\n",
       "      <td>0.5581</td>\n",
       "      <td>0.7197</td>\n",
       "      <td>0.1616</td>\n",
       "      <td>CVX</td>\n",
       "    </tr>\n",
       "    <tr>\n",
       "      <th>1998-02-27</th>\n",
       "      <td>0.6103</td>\n",
       "      <td>0.8191</td>\n",
       "      <td>0.2088</td>\n",
       "      <td>CVX</td>\n",
       "    </tr>\n",
       "    <tr>\n",
       "      <th>1998-03-02</th>\n",
       "      <td>0.6278</td>\n",
       "      <td>0.6978</td>\n",
       "      <td>0.0700</td>\n",
       "      <td>CVX</td>\n",
       "    </tr>\n",
       "    <tr>\n",
       "      <th>1998-03-03</th>\n",
       "      <td>0.6172</td>\n",
       "      <td>0.5748</td>\n",
       "      <td>-0.0424</td>\n",
       "      <td>CVX</td>\n",
       "    </tr>\n",
       "    <tr>\n",
       "      <th>1998-03-04</th>\n",
       "      <td>0.5862</td>\n",
       "      <td>0.4623</td>\n",
       "      <td>-0.1239</td>\n",
       "      <td>CVX</td>\n",
       "    </tr>\n",
       "    <tr>\n",
       "      <th>1998-03-05</th>\n",
       "      <td>0.5198</td>\n",
       "      <td>0.2541</td>\n",
       "      <td>-0.2657</td>\n",
       "      <td>CVX</td>\n",
       "    </tr>\n",
       "    <tr>\n",
       "      <th>1998-03-06</th>\n",
       "      <td>0.4804</td>\n",
       "      <td>0.3226</td>\n",
       "      <td>-0.1578</td>\n",
       "      <td>CVX</td>\n",
       "    </tr>\n",
       "    <tr>\n",
       "      <th>1998-03-09</th>\n",
       "      <td>0.4846</td>\n",
       "      <td>0.5018</td>\n",
       "      <td>0.0171</td>\n",
       "      <td>CVX</td>\n",
       "    </tr>\n",
       "    <tr>\n",
       "      <th>1998-03-10</th>\n",
       "      <td>0.5279</td>\n",
       "      <td>0.7011</td>\n",
       "      <td>0.1731</td>\n",
       "      <td>CVX</td>\n",
       "    </tr>\n",
       "    <tr>\n",
       "      <th>1998-03-11</th>\n",
       "      <td>0.6002</td>\n",
       "      <td>0.8891</td>\n",
       "      <td>0.2889</td>\n",
       "      <td>CVX</td>\n",
       "    </tr>\n",
       "    <tr>\n",
       "      <th>1998-03-12</th>\n",
       "      <td>0.6476</td>\n",
       "      <td>0.8372</td>\n",
       "      <td>0.1897</td>\n",
       "      <td>CVX</td>\n",
       "    </tr>\n",
       "    <tr>\n",
       "      <th>1998-03-13</th>\n",
       "      <td>0.6475</td>\n",
       "      <td>0.6475</td>\n",
       "      <td>-0.0001</td>\n",
       "      <td>CVX</td>\n",
       "    </tr>\n",
       "    <tr>\n",
       "      <th>1998-03-16</th>\n",
       "      <td>0.6123</td>\n",
       "      <td>0.4715</td>\n",
       "      <td>-0.1409</td>\n",
       "      <td>CVX</td>\n",
       "    </tr>\n",
       "    <tr>\n",
       "      <th>1998-03-17</th>\n",
       "      <td>0.5764</td>\n",
       "      <td>0.4327</td>\n",
       "      <td>-0.1437</td>\n",
       "      <td>CVX</td>\n",
       "    </tr>\n",
       "    <tr>\n",
       "      <th>1998-03-18</th>\n",
       "      <td>0.5596</td>\n",
       "      <td>0.4923</td>\n",
       "      <td>-0.0673</td>\n",
       "      <td>CVX</td>\n",
       "    </tr>\n",
       "    <tr>\n",
       "      <th>1998-03-19</th>\n",
       "      <td>0.5633</td>\n",
       "      <td>0.5781</td>\n",
       "      <td>0.0148</td>\n",
       "      <td>CVX</td>\n",
       "    </tr>\n",
       "    <tr>\n",
       "      <th>1998-03-20</th>\n",
       "      <td>0.5793</td>\n",
       "      <td>0.6435</td>\n",
       "      <td>0.0642</td>\n",
       "      <td>CVX</td>\n",
       "    </tr>\n",
       "    <tr>\n",
       "      <th>1998-03-23</th>\n",
       "      <td>0.6169</td>\n",
       "      <td>0.7672</td>\n",
       "      <td>0.1503</td>\n",
       "      <td>CVX</td>\n",
       "    </tr>\n",
       "    <tr>\n",
       "      <th>1998-03-24</th>\n",
       "      <td>0.6657</td>\n",
       "      <td>0.8609</td>\n",
       "      <td>0.1952</td>\n",
       "      <td>CVX</td>\n",
       "    </tr>\n",
       "    <tr>\n",
       "      <th>1998-03-25</th>\n",
       "      <td>0.7004</td>\n",
       "      <td>0.8392</td>\n",
       "      <td>0.1388</td>\n",
       "      <td>CVX</td>\n",
       "    </tr>\n",
       "    <tr>\n",
       "      <th>1998-03-26</th>\n",
       "      <td>0.7338</td>\n",
       "      <td>0.8676</td>\n",
       "      <td>0.1338</td>\n",
       "      <td>CVX</td>\n",
       "    </tr>\n",
       "    <tr>\n",
       "      <th>1998-03-27</th>\n",
       "      <td>0.7332</td>\n",
       "      <td>0.7309</td>\n",
       "      <td>-0.0024</td>\n",
       "      <td>CVX</td>\n",
       "    </tr>\n",
       "    <tr>\n",
       "      <th>1998-03-30</th>\n",
       "      <td>0.7296</td>\n",
       "      <td>0.7151</td>\n",
       "      <td>-0.0145</td>\n",
       "      <td>CVX</td>\n",
       "    </tr>\n",
       "    <tr>\n",
       "      <th>1998-03-31</th>\n",
       "      <td>0.7067</td>\n",
       "      <td>0.6148</td>\n",
       "      <td>-0.0918</td>\n",
       "      <td>CVX</td>\n",
       "    </tr>\n",
       "    <tr>\n",
       "      <th>1998-04-01</th>\n",
       "      <td>0.7219</td>\n",
       "      <td>0.7829</td>\n",
       "      <td>0.0610</td>\n",
       "      <td>CVX</td>\n",
       "    </tr>\n",
       "    <tr>\n",
       "      <th>1998-04-02</th>\n",
       "      <td>0.7906</td>\n",
       "      <td>1.0653</td>\n",
       "      <td>0.2747</td>\n",
       "      <td>CVX</td>\n",
       "    </tr>\n",
       "    <tr>\n",
       "      <th>...</th>\n",
       "      <td>...</td>\n",
       "      <td>...</td>\n",
       "      <td>...</td>\n",
       "      <td>...</td>\n",
       "    </tr>\n",
       "    <tr>\n",
       "      <th>2019-01-25</th>\n",
       "      <td>0.0488</td>\n",
       "      <td>0.3538</td>\n",
       "      <td>0.3049</td>\n",
       "      <td>CVX</td>\n",
       "    </tr>\n",
       "    <tr>\n",
       "      <th>2019-01-28</th>\n",
       "      <td>0.1221</td>\n",
       "      <td>0.4150</td>\n",
       "      <td>0.2930</td>\n",
       "      <td>CVX</td>\n",
       "    </tr>\n",
       "    <tr>\n",
       "      <th>2019-01-29</th>\n",
       "      <td>0.1896</td>\n",
       "      <td>0.4599</td>\n",
       "      <td>0.2703</td>\n",
       "      <td>CVX</td>\n",
       "    </tr>\n",
       "    <tr>\n",
       "      <th>2019-01-30</th>\n",
       "      <td>0.2653</td>\n",
       "      <td>0.5680</td>\n",
       "      <td>0.3027</td>\n",
       "      <td>CVX</td>\n",
       "    </tr>\n",
       "    <tr>\n",
       "      <th>2019-01-31</th>\n",
       "      <td>0.3726</td>\n",
       "      <td>0.8018</td>\n",
       "      <td>0.4292</td>\n",
       "      <td>CVX</td>\n",
       "    </tr>\n",
       "    <tr>\n",
       "      <th>2019-02-01</th>\n",
       "      <td>0.5092</td>\n",
       "      <td>1.0556</td>\n",
       "      <td>0.5464</td>\n",
       "      <td>CVX</td>\n",
       "    </tr>\n",
       "    <tr>\n",
       "      <th>2019-02-04</th>\n",
       "      <td>0.6648</td>\n",
       "      <td>1.2870</td>\n",
       "      <td>0.6223</td>\n",
       "      <td>CVX</td>\n",
       "    </tr>\n",
       "    <tr>\n",
       "      <th>2019-02-05</th>\n",
       "      <td>0.8131</td>\n",
       "      <td>1.4067</td>\n",
       "      <td>0.5935</td>\n",
       "      <td>CVX</td>\n",
       "    </tr>\n",
       "    <tr>\n",
       "      <th>2019-02-06</th>\n",
       "      <td>0.9550</td>\n",
       "      <td>1.5226</td>\n",
       "      <td>0.5676</td>\n",
       "      <td>CVX</td>\n",
       "    </tr>\n",
       "    <tr>\n",
       "      <th>2019-02-07</th>\n",
       "      <td>1.0708</td>\n",
       "      <td>1.5339</td>\n",
       "      <td>0.4631</td>\n",
       "      <td>CVX</td>\n",
       "    </tr>\n",
       "    <tr>\n",
       "      <th>2019-02-08</th>\n",
       "      <td>1.1708</td>\n",
       "      <td>1.5708</td>\n",
       "      <td>0.4000</td>\n",
       "      <td>CVX</td>\n",
       "    </tr>\n",
       "    <tr>\n",
       "      <th>2019-02-11</th>\n",
       "      <td>1.2619</td>\n",
       "      <td>1.6264</td>\n",
       "      <td>0.3645</td>\n",
       "      <td>CVX</td>\n",
       "    </tr>\n",
       "    <tr>\n",
       "      <th>2019-02-12</th>\n",
       "      <td>1.3556</td>\n",
       "      <td>1.7304</td>\n",
       "      <td>0.3748</td>\n",
       "      <td>CVX</td>\n",
       "    </tr>\n",
       "    <tr>\n",
       "      <th>2019-02-13</th>\n",
       "      <td>1.4426</td>\n",
       "      <td>1.7906</td>\n",
       "      <td>0.3480</td>\n",
       "      <td>CVX</td>\n",
       "    </tr>\n",
       "    <tr>\n",
       "      <th>2019-02-14</th>\n",
       "      <td>1.5051</td>\n",
       "      <td>1.7552</td>\n",
       "      <td>0.2500</td>\n",
       "      <td>CVX</td>\n",
       "    </tr>\n",
       "    <tr>\n",
       "      <th>2019-02-15</th>\n",
       "      <td>1.5459</td>\n",
       "      <td>1.7090</td>\n",
       "      <td>0.1631</td>\n",
       "      <td>CVX</td>\n",
       "    </tr>\n",
       "    <tr>\n",
       "      <th>2019-02-19</th>\n",
       "      <td>1.5915</td>\n",
       "      <td>1.7738</td>\n",
       "      <td>0.1823</td>\n",
       "      <td>CVX</td>\n",
       "    </tr>\n",
       "    <tr>\n",
       "      <th>2019-02-20</th>\n",
       "      <td>1.6227</td>\n",
       "      <td>1.7477</td>\n",
       "      <td>0.1249</td>\n",
       "      <td>CVX</td>\n",
       "    </tr>\n",
       "    <tr>\n",
       "      <th>2019-02-21</th>\n",
       "      <td>1.6476</td>\n",
       "      <td>1.7472</td>\n",
       "      <td>0.0996</td>\n",
       "      <td>CVX</td>\n",
       "    </tr>\n",
       "    <tr>\n",
       "      <th>2019-02-22</th>\n",
       "      <td>1.6710</td>\n",
       "      <td>1.7644</td>\n",
       "      <td>0.0934</td>\n",
       "      <td>CVX</td>\n",
       "    </tr>\n",
       "    <tr>\n",
       "      <th>2019-02-25</th>\n",
       "      <td>1.6775</td>\n",
       "      <td>1.7035</td>\n",
       "      <td>0.0260</td>\n",
       "      <td>CVX</td>\n",
       "    </tr>\n",
       "    <tr>\n",
       "      <th>2019-02-26</th>\n",
       "      <td>1.6734</td>\n",
       "      <td>1.6572</td>\n",
       "      <td>-0.0163</td>\n",
       "      <td>CVX</td>\n",
       "    </tr>\n",
       "    <tr>\n",
       "      <th>2019-02-27</th>\n",
       "      <td>1.6444</td>\n",
       "      <td>1.5286</td>\n",
       "      <td>-0.1159</td>\n",
       "      <td>CVX</td>\n",
       "    </tr>\n",
       "    <tr>\n",
       "      <th>2019-02-28</th>\n",
       "      <td>1.5919</td>\n",
       "      <td>1.3817</td>\n",
       "      <td>-0.2102</td>\n",
       "      <td>CVX</td>\n",
       "    </tr>\n",
       "    <tr>\n",
       "      <th>2019-03-01</th>\n",
       "      <td>1.5219</td>\n",
       "      <td>1.2421</td>\n",
       "      <td>-0.2799</td>\n",
       "      <td>CVX</td>\n",
       "    </tr>\n",
       "    <tr>\n",
       "      <th>2019-03-04</th>\n",
       "      <td>1.4481</td>\n",
       "      <td>1.1528</td>\n",
       "      <td>-0.2953</td>\n",
       "      <td>CVX</td>\n",
       "    </tr>\n",
       "    <tr>\n",
       "      <th>2019-03-05</th>\n",
       "      <td>1.3760</td>\n",
       "      <td>1.0873</td>\n",
       "      <td>-0.2886</td>\n",
       "      <td>CVX</td>\n",
       "    </tr>\n",
       "    <tr>\n",
       "      <th>2019-03-06</th>\n",
       "      <td>1.3029</td>\n",
       "      <td>1.0109</td>\n",
       "      <td>-0.2921</td>\n",
       "      <td>CVX</td>\n",
       "    </tr>\n",
       "    <tr>\n",
       "      <th>2019-03-07</th>\n",
       "      <td>1.2242</td>\n",
       "      <td>0.9091</td>\n",
       "      <td>-0.3151</td>\n",
       "      <td>CVX</td>\n",
       "    </tr>\n",
       "    <tr>\n",
       "      <th>2019-03-08</th>\n",
       "      <td>1.1409</td>\n",
       "      <td>0.8079</td>\n",
       "      <td>-0.3330</td>\n",
       "      <td>CVX</td>\n",
       "    </tr>\n",
       "  </tbody>\n",
       "</table>\n",
       "<p>5296 rows × 4 columns</p>\n",
       "</div>"
      ],
      "text/plain": [
       "           MACD_Signal    MACD MACD_Hist Symbol\n",
       "1998-02-20      0.3122  0.7263    0.4141    CVX\n",
       "1998-02-23      0.4023  0.7627    0.3604    CVX\n",
       "1998-02-24      0.4664  0.7227    0.2563    CVX\n",
       "1998-02-25      0.5177  0.7230    0.2053    CVX\n",
       "1998-02-26      0.5581  0.7197    0.1616    CVX\n",
       "1998-02-27      0.6103  0.8191    0.2088    CVX\n",
       "1998-03-02      0.6278  0.6978    0.0700    CVX\n",
       "1998-03-03      0.6172  0.5748   -0.0424    CVX\n",
       "1998-03-04      0.5862  0.4623   -0.1239    CVX\n",
       "1998-03-05      0.5198  0.2541   -0.2657    CVX\n",
       "1998-03-06      0.4804  0.3226   -0.1578    CVX\n",
       "1998-03-09      0.4846  0.5018    0.0171    CVX\n",
       "1998-03-10      0.5279  0.7011    0.1731    CVX\n",
       "1998-03-11      0.6002  0.8891    0.2889    CVX\n",
       "1998-03-12      0.6476  0.8372    0.1897    CVX\n",
       "1998-03-13      0.6475  0.6475   -0.0001    CVX\n",
       "1998-03-16      0.6123  0.4715   -0.1409    CVX\n",
       "1998-03-17      0.5764  0.4327   -0.1437    CVX\n",
       "1998-03-18      0.5596  0.4923   -0.0673    CVX\n",
       "1998-03-19      0.5633  0.5781    0.0148    CVX\n",
       "1998-03-20      0.5793  0.6435    0.0642    CVX\n",
       "1998-03-23      0.6169  0.7672    0.1503    CVX\n",
       "1998-03-24      0.6657  0.8609    0.1952    CVX\n",
       "1998-03-25      0.7004  0.8392    0.1388    CVX\n",
       "1998-03-26      0.7338  0.8676    0.1338    CVX\n",
       "1998-03-27      0.7332  0.7309   -0.0024    CVX\n",
       "1998-03-30      0.7296  0.7151   -0.0145    CVX\n",
       "1998-03-31      0.7067  0.6148   -0.0918    CVX\n",
       "1998-04-01      0.7219  0.7829    0.0610    CVX\n",
       "1998-04-02      0.7906  1.0653    0.2747    CVX\n",
       "...                ...     ...       ...    ...\n",
       "2019-01-25      0.0488  0.3538    0.3049    CVX\n",
       "2019-01-28      0.1221  0.4150    0.2930    CVX\n",
       "2019-01-29      0.1896  0.4599    0.2703    CVX\n",
       "2019-01-30      0.2653  0.5680    0.3027    CVX\n",
       "2019-01-31      0.3726  0.8018    0.4292    CVX\n",
       "2019-02-01      0.5092  1.0556    0.5464    CVX\n",
       "2019-02-04      0.6648  1.2870    0.6223    CVX\n",
       "2019-02-05      0.8131  1.4067    0.5935    CVX\n",
       "2019-02-06      0.9550  1.5226    0.5676    CVX\n",
       "2019-02-07      1.0708  1.5339    0.4631    CVX\n",
       "2019-02-08      1.1708  1.5708    0.4000    CVX\n",
       "2019-02-11      1.2619  1.6264    0.3645    CVX\n",
       "2019-02-12      1.3556  1.7304    0.3748    CVX\n",
       "2019-02-13      1.4426  1.7906    0.3480    CVX\n",
       "2019-02-14      1.5051  1.7552    0.2500    CVX\n",
       "2019-02-15      1.5459  1.7090    0.1631    CVX\n",
       "2019-02-19      1.5915  1.7738    0.1823    CVX\n",
       "2019-02-20      1.6227  1.7477    0.1249    CVX\n",
       "2019-02-21      1.6476  1.7472    0.0996    CVX\n",
       "2019-02-22      1.6710  1.7644    0.0934    CVX\n",
       "2019-02-25      1.6775  1.7035    0.0260    CVX\n",
       "2019-02-26      1.6734  1.6572   -0.0163    CVX\n",
       "2019-02-27      1.6444  1.5286   -0.1159    CVX\n",
       "2019-02-28      1.5919  1.3817   -0.2102    CVX\n",
       "2019-03-01      1.5219  1.2421   -0.2799    CVX\n",
       "2019-03-04      1.4481  1.1528   -0.2953    CVX\n",
       "2019-03-05      1.3760  1.0873   -0.2886    CVX\n",
       "2019-03-06      1.3029  1.0109   -0.2921    CVX\n",
       "2019-03-07      1.2242  0.9091   -0.3151    CVX\n",
       "2019-03-08      1.1409  0.8079   -0.3330    CVX\n",
       "\n",
       "[5296 rows x 4 columns]"
      ]
     },
     "execution_count": 332,
     "metadata": {},
     "output_type": "execute_result"
    }
   ],
   "source": [
    "MACD_b2[0]"
   ]
  },
  {
   "cell_type": "code",
   "execution_count": 232,
   "metadata": {},
   "outputs": [],
   "source": [
    "#b1\n",
    "MACD_CVX = MACD_CVX.reset_index(drop=False)\n",
    "MACD_JNJ = MACD_JNJ.reset_index(drop=False)\n",
    "MACD_HD = MACD_HD.reset_index(drop=False)\n",
    "MACD_KO = MACD_KO.reset_index(drop=False)\n",
    "MACD_NKE = MACD_NKE.reset_index(drop=False)"
   ]
  },
  {
   "cell_type": "code",
   "execution_count": 233,
   "metadata": {},
   "outputs": [],
   "source": [
    "#b1\n",
    "MACD_CVX.to_sql(name = f'{Measure}_CVX', con = engine,\n",
    "        if_exists = 'replace', chunksize = 75)\n",
    "MACD_JNJ.to_sql(name = f'{Measure}_JNJ', con = engine,\n",
    "        if_exists = 'replace', chunksize = 75)\n",
    "MACD_HD.to_sql(name = f'{Measure}_HD', con = engine,\n",
    "        if_exists = 'replace', chunksize = 75)\n",
    "MACD_KO.to_sql(name = f'{Measure}_KO', con = engine,\n",
    "        if_exists = 'replace', chunksize = 75)\n",
    "MACD_NKE.to_sql(name = f'{Measure}_NKE', con = engine,\n",
    "        if_exists = 'replace', chunksize = 75)"
   ]
  },
  {
   "cell_type": "code",
   "execution_count": null,
   "metadata": {},
   "outputs": [],
   "source": []
  },
  {
   "cell_type": "code",
   "execution_count": null,
   "metadata": {},
   "outputs": [],
   "source": [
    "Measure = \"RSI\"\n",
    "output = \"full\"\n",
    "MainUrl = \"https://www.alphavantage.co/query?\"\n",
    "interval = \"daily\"\n",
    "series_type = \"close\"\n",
    "callUrl = (f\"{MainUrl}function={Measure}&symbol={ticker}&interval={interval}\") + (f\"&time_period={time_period}&series_type={series_type}&apikey={API_KEY}\")\n",
    "time_period = \"20\"\n",
    "RSI = []\n",
    "batchNumber = b2\n",
    "\n",
    "for ticker in batchNumber :\n",
    "    response = requests.get(callUrl)\n",
    "    data = response.json()\n",
    "    for key in data[f'Technical Analysis: {Measure}']:\n",
    "        data[f'Technical Analysis: {Measure}'][key].update({'Symbol' :f\"{ticker}\"})\n",
    "    RSI.append(data[f'Technical Analysis: {Measure}'])\n",
    "    \n",
    "RSI_b2 = []\n",
    "for x in range(0,5):\n",
    "    RSI[x] = pd.DataFrame.from_dict(RSI[x], orient='index')\n",
    "    RSI_b2.append(RSI[x])"
   ]
  },
  {
   "cell_type": "code",
   "execution_count": null,
   "metadata": {},
   "outputs": [],
   "source": [
    "Measure = \"RSI\"\n",
    "output = \"full\"\n",
    "MainUrl = \"https://www.alphavantage.co/query?\"\n",
    "interval = \"daily\"\n",
    "series_type = \"close\"\n",
    "callUrl = (f\"{MainUrl}function={Measure}&symbol={ticker}&interval={interval}\") + (f\"&time_period={time_period}&series_type={series_type}&apikey={API_KEY}\")\n",
    "time_period = \"20\"\n",
    "\n",
    "def stock_pull():\n",
    "    response = requests.get(callUrl)\n",
    "    data = response.json()\n",
    "    for key in data[f'Technical Analysis: {Measure}']:\n",
    "        data[f'Technical Analysis: {Measure}'][key].update({'Symbol' :f\"{ticker}\"})\n",
    "    MACD.append(data[f'Technical Analysis: {Measure}'])"
   ]
  },
  {
   "cell_type": "code",
   "execution_count": 205,
   "metadata": {},
   "outputs": [],
   "source": [
    "#b1\n",
    "RSI_CVX = RSI[0]\n",
    "RSI_JNJ = RSI[1]\n",
    "RSI_HD = RSI[2]\n",
    "RSI_KO = RSI[3]\n",
    "RSI_NKE = RSI[4]"
   ]
  },
  {
   "cell_type": "code",
   "execution_count": 232,
   "metadata": {},
   "outputs": [],
   "source": [
    "#b1\n",
    "RSI_CVX = RSI_CVX.reset_index(drop=False)\n",
    "RSI_JNJ = RSI_JNJ.reset_index(drop=False)\n",
    "RSI_HD = RSI_HD.reset_index(drop=False)\n",
    "RSI_KO = RSI_KO.reset_index(drop=False)\n",
    "RSI_NKE = RSI_NKE.reset_index(drop=False)"
   ]
  },
  {
   "cell_type": "code",
   "execution_count": 233,
   "metadata": {},
   "outputs": [],
   "source": [
    "#b1\n",
    "RSI_CVX.to_sql(name = f'{Measure}_CVX', con = engine,\n",
    "        if_exists = 'replace', chunksize = 75)\n",
    "RSI_JNJ.to_sql(name = f'{Measure}_JNJ', con = engine,\n",
    "        if_exists = 'replace', chunksize = 75)\n",
    "RSI_HD.to_sql(name = f'{Measure}_HD', con = engine,\n",
    "        if_exists = 'replace', chunksize = 75)\n",
    "RSI_KO.to_sqRSIl(name = f'{Measure}_KO', con = engine,\n",
    "        if_exists = 'replace', chunksize = 75)\n",
    "RSI_NKE.to_sql(name = f'{Measure}_NKE', con = engine,\n",
    "        if_exists = 'replace', chunksize = 75)"
   ]
  },
  {
   "cell_type": "markdown",
   "metadata": {},
   "source": [
    "## Third Batch"
   ]
  },
  {
   "cell_type": "markdown",
   "metadata": {},
   "source": [
    "## Third Batch"
   ]
  },
  {
   "cell_type": "raw",
   "metadata": {},
   "source": [
    "b3 = ['JPM', 'MCD', 'UTX', 'MMM', 'AAPL']"
   ]
  },
  {
   "cell_type": "code",
   "execution_count": 230,
   "metadata": {},
   "outputs": [],
   "source": [
    "Measure = \"MACD\"\n",
    "output = \"full\"\n",
    "MainUrl = \"https://www.alphavantage.co/query?\"\n",
    "interval = \"daily\"\n",
    "series_type = \"close\"\n",
    "callUrl = (f\"{MainUrl}function={Measure}&symbol={ticker}&interval={interval}\") + (f\"&series_type={series_type}&apikey={API_KEY}\")\n",
    "MACD = []\n",
    "batchNumber = b3\n",
    "\n",
    "for ticker in batchNumber :\n",
    "    response = requests.get(callUrl)\n",
    "    data = response.json()\n",
    "    for key in data[f'Technical Analysis: {Measure}']:\n",
    "        data[f'Technical Analysis: {Measure}'][key].update({'Symbol' :f\"{ticker}\"})\n",
    "    MACD.append(data[f'Technical Analysis: {Measure}'])\n",
    "    \n",
    "MACD_b3 = []\n",
    "for x in range(0,5):\n",
    "    MACD[x] = pd.DataFrame.from_dict(MACD[x], orient='index')\n",
    "    MACD_b3.append(MACD[x])"
   ]
  },
  {
   "cell_type": "code",
   "execution_count": 231,
   "metadata": {},
   "outputs": [],
   "source": [
    "#b1\n",
    "MACD_CVX = MACD[0]\n",
    "MACD_JNJ = MACD[1]\n",
    "MACD_HD = MACD[2]\n",
    "MACD_KO = MACD[3]\n",
    "MACD_NKE = MACD[4]"
   ]
  },
  {
   "cell_type": "code",
   "execution_count": 232,
   "metadata": {},
   "outputs": [],
   "source": [
    "#b1\n",
    "MACD_CVX = MACD_CVX.reset_index(drop=False)\n",
    "MACD_JNJ = MACD_JNJ.reset_index(drop=False)\n",
    "MACD_HD = MACD_HD.reset_index(drop=False)\n",
    "MACD_KO = MACD_KO.reset_index(drop=False)\n",
    "MACD_NKE = MACD_NKE.reset_index(drop=False)"
   ]
  },
  {
   "cell_type": "code",
   "execution_count": 233,
   "metadata": {},
   "outputs": [],
   "source": [
    "#b1\n",
    "MACD_CVX.to_sql(name = f'{Measure}_CVX', con = engine,\n",
    "        if_exists = 'replace', chunksize = 75)\n",
    "MACD_JNJ.to_sql(name = f'{Measure}_JNJ', con = engine,\n",
    "        if_exists = 'replace', chunksize = 75)\n",
    "MACD_HD.to_sql(name = f'{Measure}_HD', con = engine,\n",
    "        if_exists = 'replace', chunksize = 75)\n",
    "MACD_KO.to_sql(name = f'{Measure}_KO', con = engine,\n",
    "        if_exists = 'replace', chunksize = 75)\n",
    "MACD_NKE.to_sql(name = f'{Measure}_NKE', con = engine,\n",
    "        if_exists = 'replace', chunksize = 75)"
   ]
  },
  {
   "cell_type": "markdown",
   "metadata": {},
   "source": [
    "## Fourth Batch"
   ]
  },
  {
   "cell_type": "markdown",
   "metadata": {},
   "source": [
    "## Fourth Batch"
   ]
  },
  {
   "cell_type": "raw",
   "metadata": {},
   "source": [
    "b4 = ['GS', 'IBM', 'TRV', 'VZ', 'CSCO']"
   ]
  },
  {
   "cell_type": "code",
   "execution_count": 230,
   "metadata": {},
   "outputs": [],
   "source": [
    "Measure = \"MACD\"\n",
    "output = \"full\"\n",
    "MainUrl = \"https://www.alphavantage.co/query?\"\n",
    "interval = \"daily\"\n",
    "series_type = \"close\"\n",
    "callUrl = (f\"{MainUrl}function={Measure}&symbol={ticker}&interval={interval}\") + (f\"&series_type={series_type}&apikey={API_KEY}\")\n",
    "MACD = []\n",
    "batchNumber = b2\n",
    "\n",
    "for ticker in batchNumber :\n",
    "    response = requests.get(callUrl)\n",
    "    data = response.json()\n",
    "    for key in data[f'Technical Analysis: {Measure}']:\n",
    "        data[f'Technical Analysis: {Measure}'][key].update({'Symbol' :f\"{ticker}\"})\n",
    "    MACD.append(data[f'Technical Analysis: {Measure}'])\n",
    "    \n",
    "MACD_b2 = []\n",
    "for x in range(0,5):\n",
    "    MACD[x] = pd.DataFrame.from_dict(MACD[x], orient='index')\n",
    "    MACD_b2.append(MACD[x])"
   ]
  },
  {
   "cell_type": "code",
   "execution_count": 231,
   "metadata": {},
   "outputs": [],
   "source": [
    "#b1\n",
    "MACD_CVX = MACD[0]\n",
    "MACD_JNJ = MACD[1]\n",
    "MACD_HD = MACD[2]\n",
    "MACD_KO = MACD[3]\n",
    "MACD_NKE = MACD[4]"
   ]
  },
  {
   "cell_type": "code",
   "execution_count": 232,
   "metadata": {},
   "outputs": [],
   "source": [
    "#b1\n",
    "MACD_CVX = MACD_CVX.reset_index(drop=False)\n",
    "MACD_JNJ = MACD_JNJ.reset_index(drop=False)\n",
    "MACD_HD = MACD_HD.reset_index(drop=False)\n",
    "MACD_KO = MACD_KO.reset_index(drop=False)\n",
    "MACD_NKE = MACD_NKE.reset_index(drop=False)"
   ]
  },
  {
   "cell_type": "code",
   "execution_count": 233,
   "metadata": {},
   "outputs": [],
   "source": [
    "#b1\n",
    "MACD_CVX.to_sql(name = f'{Measure}_CVX', con = engine,\n",
    "        if_exists = 'replace', chunksize = 75)\n",
    "MACD_JNJ.to_sql(name = f'{Measure}_JNJ', con = engine,\n",
    "        if_exists = 'replace', chunksize = 75)\n",
    "MACD_HD.to_sql(name = f'{Measure}_HD', con = engine,\n",
    "        if_exists = 'replace', chunksize = 75)\n",
    "MACD_KO.to_sql(name = f'{Measure}_KO', con = engine,\n",
    "        if_exists = 'replace', chunksize = 75)\n",
    "MACD_NKE.to_sql(name = f'{Measure}_NKE', con = engine,\n",
    "        if_exists = 'replace', chunksize = 75)"
   ]
  },
  {
   "cell_type": "markdown",
   "metadata": {},
   "source": [
    "## Fifth Batch"
   ]
  },
  {
   "cell_type": "markdown",
   "metadata": {},
   "source": [
    "## Fifth Batch"
   ]
  },
  {
   "cell_type": "raw",
   "metadata": {},
   "source": [
    "b5 = ['DIS', 'UNH', 'XOM', 'MRK', 'BA']"
   ]
  },
  {
   "cell_type": "code",
   "execution_count": 230,
   "metadata": {},
   "outputs": [],
   "source": [
    "Measure = \"MACD\"\n",
    "output = \"full\"\n",
    "MainUrl = \"https://www.alphavantage.co/query?\"\n",
    "interval = \"daily\"\n",
    "series_type = \"close\"\n",
    "callUrl = (f\"{MainUrl}function={Measure}&symbol={ticker}&interval={interval}\") + (f\"&series_type={series_type}&apikey={API_KEY}\")\n",
    "MACD = []\n",
    "batchNumber = b2\n",
    "\n",
    "for ticker in batchNumber :\n",
    "    response = requests.get(callUrl)\n",
    "    data = response.json()\n",
    "    for key in data[f'Technical Analysis: {Measure}']:\n",
    "        data[f'Technical Analysis: {Measure}'][key].update({'Symbol' :f\"{ticker}\"})\n",
    "    MACD.append(data[f'Technical Analysis: {Measure}'])\n",
    "    \n",
    "MACD_b2 = []\n",
    "for x in range(0,5):\n",
    "    MACD[x] = pd.DataFrame.from_dict(MACD[x], orient='index')\n",
    "    MACD_b2.append(MACD[x])"
   ]
  },
  {
   "cell_type": "code",
   "execution_count": 231,
   "metadata": {},
   "outputs": [],
   "source": [
    "#b1\n",
    "MACD_CVX = MACD[0]\n",
    "MACD_JNJ = MACD[1]\n",
    "MACD_HD = MACD[2]\n",
    "MACD_KO = MACD[3]\n",
    "MACD_NKE = MACD[4]"
   ]
  },
  {
   "cell_type": "code",
   "execution_count": 232,
   "metadata": {},
   "outputs": [],
   "source": [
    "#b1\n",
    "MACD_CVX = MACD_CVX.reset_index(drop=False)\n",
    "MACD_JNJ = MACD_JNJ.reset_index(drop=False)\n",
    "MACD_HD = MACD_HD.reset_index(drop=False)\n",
    "MACD_KO = MACD_KO.reset_index(drop=False)\n",
    "MACD_NKE = MACD_NKE.reset_index(drop=False)"
   ]
  },
  {
   "cell_type": "code",
   "execution_count": 233,
   "metadata": {},
   "outputs": [],
   "source": [
    "#b1\n",
    "MACD_CVX.to_sql(name = f'{Measure}_CVX', con = engine,\n",
    "        if_exists = 'replace', chunksize = 75)\n",
    "MACD_JNJ.to_sql(name = f'{Measure}_JNJ', con = engine,\n",
    "        if_exists = 'replace', chunksize = 75)\n",
    "MACD_HD.to_sql(name = f'{Measure}_HD', con = engine,\n",
    "        if_exists = 'replace', chunksize = 75)\n",
    "MACD_KO.to_sql(name = f'{Measure}_KO', con = engine,\n",
    "        if_exists = 'replace', chunksize = 75)\n",
    "MACD_NKE.to_sql(name = f'{Measure}_NKE', con = engine,\n",
    "        if_exists = 'replace', chunksize = 75)"
   ]
  },
  {
   "cell_type": "markdown",
   "metadata": {},
   "source": [
    "## Sixth Batch"
   ]
  },
  {
   "cell_type": "markdown",
   "metadata": {},
   "source": [
    "## Sixth Batch"
   ]
  },
  {
   "cell_type": "raw",
   "metadata": {},
   "source": [
    "b6 = ['INTC', 'DWDP', 'CAT', 'PFE', 'WBA']"
   ]
  },
  {
   "cell_type": "code",
   "execution_count": 230,
   "metadata": {},
   "outputs": [],
   "source": [
    "Measure = \"MACD\"\n",
    "output = \"full\"\n",
    "MainUrl = \"https://www.alphavantage.co/query?\"\n",
    "interval = \"daily\"\n",
    "series_type = \"close\"\n",
    "callUrl = (f\"{MainUrl}function={Measure}&symbol={ticker}&interval={interval}\") + (f\"&series_type={series_type}&apikey={API_KEY}\")\n",
    "MACD = []\n",
    "batchNumber = b2\n",
    "\n",
    "for ticker in batchNumber :\n",
    "    response = requests.get(callUrl)\n",
    "    data = response.json()\n",
    "    for key in data[f'Technical Analysis: {Measure}']:\n",
    "        data[f'Technical Analysis: {Measure}'][key].update({'Symbol' :f\"{ticker}\"})\n",
    "    MACD.append(data[f'Technical Analysis: {Measure}'])\n",
    "    \n",
    "MACD_b2 = []\n",
    "for x in range(0,5):\n",
    "    MACD[x] = pd.DataFrame.from_dict(MACD[x], orient='index')\n",
    "    MACD_b2.append(MACD[x])"
   ]
  },
  {
   "cell_type": "code",
   "execution_count": 231,
   "metadata": {},
   "outputs": [],
   "source": [
    "#b1\n",
    "MACD_CVX = MACD[0]\n",
    "MACD_JNJ = MACD[1]\n",
    "MACD_HD = MACD[2]\n",
    "MACD_KO = MACD[3]\n",
    "MACD_NKE = MACD[4]"
   ]
  },
  {
   "cell_type": "code",
   "execution_count": 232,
   "metadata": {},
   "outputs": [],
   "source": [
    "#b1\n",
    "MACD_CVX = MACD_CVX.reset_index(drop=False)\n",
    "MACD_JNJ = MACD_JNJ.reset_index(drop=False)\n",
    "MACD_HD = MACD_HD.reset_index(drop=False)\n",
    "MACD_KO = MACD_KO.reset_index(drop=False)\n",
    "MACD_NKE = MACD_NKE.reset_index(drop=False)"
   ]
  },
  {
   "cell_type": "code",
   "execution_count": 233,
   "metadata": {},
   "outputs": [],
   "source": [
    "#b1\n",
    "MACD_CVX.to_sql(name = f'{Measure}_CVX', con = engine,\n",
    "        if_exists = 'replace', chunksize = 75)\n",
    "MACD_JNJ.to_sql(name = f'{Measure}_JNJ', con = engine,\n",
    "        if_exists = 'replace', chunksize = 75)\n",
    "MACD_HD.to_sql(name = f'{Measure}_HD', con = engine,\n",
    "        if_exists = 'replace', chunksize = 75)\n",
    "MACD_KO.to_sql(name = f'{Measure}_KO', con = engine,\n",
    "        if_exists = 'replace', chunksize = 75)\n",
    "MACD_NKE.to_sql(name = f'{Measure}_NKE', con = engine,\n",
    "        if_exists = 'replace', chunksize = 75)"
   ]
  },
  {
   "cell_type": "code",
   "execution_count": 205,
   "metadata": {},
   "outputs": [],
   "source": [
    "#b2\n",
    "RSI_MSFT = RSI[0]\n",
    "RSI_WMT = RSI[1]\n",
    "RSI_V = RSI[2]\n",
    "RSI_AXP = RSI[3]\n",
    "RSI_PG = RSI[4]"
   ]
  },
  {
   "cell_type": "code",
   "execution_count": 205,
   "metadata": {},
   "outputs": [],
   "source": [
    "#b3\n",
    "RSI_MSFT = RSI[0]\n",
    "RSI_WMT = RSI[1]\n",
    "RSI_V = RSI[2]\n",
    "RSI_AXP = RSI[3]\n",
    "RSI_PG = RSI[4]"
   ]
  },
  {
   "cell_type": "code",
   "execution_count": 205,
   "metadata": {},
   "outputs": [],
   "source": [
    "#b4\n",
    "RSI_MSFT = RSI[0]\n",
    "RSI_WMT = RSI[1]\n",
    "RSI_V = RSI[2]\n",
    "RSI_AXP = RSI[3]\n",
    "RSI_PG = RSI[4]"
   ]
  },
  {
   "cell_type": "code",
   "execution_count": 205,
   "metadata": {},
   "outputs": [],
   "source": [
    "#b5\n",
    "RSI_MSFT = RSI[0]\n",
    "RSI_WMT = RSI[1]\n",
    "RSI_V = RSI[2]\n",
    "RSI_AXP = RSI[3]\n",
    "RSI_PG = RSI[4]"
   ]
  },
  {
   "cell_type": "code",
   "execution_count": 205,
   "metadata": {},
   "outputs": [],
   "source": [
    "#b6\n",
    "RSI_MSFT = RSI[0]\n",
    "RSI_WMT = RSI[1]\n",
    "RSI_V = RSI[2]\n",
    "RSI_AXP = RSI[3]\n",
    "RSI_PG = RSI[4]"
   ]
  },
  {
   "cell_type": "code",
   "execution_count": null,
   "metadata": {},
   "outputs": [],
   "source": [
    "Measure = \"BBANDS\"\n",
    "output = \"full\"\n",
    "MainUrl = \"https://www.alphavantage.co/query?\"\n",
    "interval = \"daily\"\n",
    "series_type = \"close\"\n",
    "time_period = \"20\"\n",
    "BBANDS = []\n",
    "\n",
    "for ticker in b1:\n",
    "    response = requests.get(\n",
    "        f\"{MainUrl}function={Measure}&symbol={ticker}&interval={interval}&time_period={time_period}&series_type={series_type}&nbdevup=3&nbdevdn=3&apikey={API_KEY}\")\n",
    "    data = response.json()\n",
    "    BBANDS.append(data)\n",
    "       \n",
    "BBANDS"
   ]
  },
  {
   "cell_type": "code",
   "execution_count": null,
   "metadata": {},
   "outputs": [],
   "source": [
    "Measure = \"EMA\"\n",
    "output = \"full\"\n",
    "MainUrl = \"https://www.alphavantage.co/query?\"\n",
    "interval = \"daily\"\n",
    "series_type = \"close\"\n",
    "time_period = \"20\"\n",
    "EMA = []\n",
    "\n",
    "for ticker in b1:\n",
    "    response = requests.get(\n",
    "        f\"{MainUrl}function={Measure}&symbol={ticker}&interval={interval}&time_period={time_period}&series_type={series_type}&apikey={API_KEY}\")\n",
    "    data = response.json()\n",
    "    EMA.append(data)\n",
    "       \n",
    "EMA"
   ]
  },
  {
   "cell_type": "code",
   "execution_count": null,
   "metadata": {},
   "outputs": [],
   "source": [
    "Measure = \"ADX\"\n",
    "output = \"full\"\n",
    "MainUrl = \"https://www.alphavantage.co/query?\"\n",
    "interval = \"daily\"\n",
    "time_period = \"20\"\n",
    "ADX = []\n",
    "\n",
    "for ticker in b1:\n",
    "    response = requests.get(\n",
    "        f\"{MainUrl}function={Measure}&symbol={ticker}&interval={interval}&time_period={time_period}&apikey={API_KEY}\")\n",
    "    data = response.json()\n",
    "    ADX.append(data)\n",
    "     \n",
    "ADX"
   ]
  },
  {
   "cell_type": "code",
   "execution_count": null,
   "metadata": {},
   "outputs": [],
   "source": [
    "Measure = \"CCI\"\n",
    "output = \"full\"\n",
    "MainUrl = \"https://www.alphavantage.co/query?\"\n",
    "interval = \"daily\"\n",
    "time_period = \"20\"\n",
    "CCI = []\n",
    "\n",
    "for ticker in b1:\n",
    "    response = requests.get(\n",
    "        f\"{MainUrl}function={Measure}&symbol={ticker}&interval={interval}&time_period={time_period}&apikey={API_KEY}\")\n",
    "    data = response.json()\n",
    "    CCI.append(data)\n",
    "     \n",
    "CCI"
   ]
  },
  {
   "cell_type": "code",
   "execution_count": null,
   "metadata": {},
   "outputs": [],
   "source": [
    "#sql_add_MACD = con.execute()"
   ]
  },
  {
   "cell_type": "code",
   "execution_count": null,
   "metadata": {},
   "outputs": [],
   "source": [
    "cursor.execute(\"USE stock_data\")\n",
    "daily_adj.to_sql(\n",
    "    name = 'daily_adj', conn = engine,\n",
    "    if_exists = 'replace', chunksize = 75)\n",
    "with engine.connect() as con:\n",
    "    con.execute('ALTER TABLE `daily_adj` ADD PRIMARY KEY (`index`);')"
   ]
  },
  {
   "cell_type": "code",
   "execution_count": null,
   "metadata": {},
   "outputs": [],
   "source": [
    "cursor.execute(\"USE stock_data\")\n",
    "MACD.to_sql(\n",
    "    name = 'MACD', conn = engine,\n",
    "    if_exists = 'replace', chunksize = 75)\n",
    "with engine.connect() as con:\n",
    "    con.execute('ALTER TABLE `MACD` ADD PRIMARY KEY (`index`);')"
   ]
  },
  {
   "cell_type": "code",
   "execution_count": null,
   "metadata": {},
   "outputs": [],
   "source": [
    "engine.execute(\"USE stock_data\")\n",
    "RSI.to_sql(\n",
    "    name = 'RSI', con = engine,\n",
    "    if_exists = 'replace', chunksize = 75)\n",
    "with engine.connect() as con:\n",
    "    con.execute('ALTER TABLE `RSI` ADD PRIMARY KEY (`index`);')"
   ]
  },
  {
   "cell_type": "code",
   "execution_count": null,
   "metadata": {},
   "outputs": [],
   "source": [
    "engine.execute(\"USE stock_data\")\n",
    "BBANDS.to_sql(\n",
    "    name = 'BBANDS', con = engine,\n",
    "    if_exists = 'replace', chunksize = 75)\n",
    "with engine.connect() as con:\n",
    "    con.execute('ALTER TABLE `BBANDS` ADD PRIMARY KEY (`index`);')"
   ]
  },
  {
   "cell_type": "code",
   "execution_count": null,
   "metadata": {},
   "outputs": [],
   "source": [
    "engine.execute(\"USE stock_data\")\n",
    "MACD.to_sql(\n",
    "    name = 'MACD', con = engine,\n",
    "    if_exists = 'replace', chunksize = 75)\n",
    "with engine.connect() as con:\n",
    "    con.execute('ALTER TABLE `MACD` ADD PRIMARY KEY (`index`);')"
   ]
  }
 ],
 "metadata": {
  "kernelspec": {
   "display_name": "Python 3",
   "language": "python",
   "name": "python3"
  },
  "language_info": {
   "codemirror_mode": {
    "name": "ipython",
    "version": 3
   },
   "file_extension": ".py",
   "mimetype": "text/x-python",
   "name": "python",
   "nbconvert_exporter": "python",
   "pygments_lexer": "ipython3",
   "version": "3.6.7"
  }
 },
 "nbformat": 4,
 "nbformat_minor": 2
}
