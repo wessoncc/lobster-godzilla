{
 "cells": [
  {
   "cell_type": "code",
   "execution_count": 1,
   "metadata": {},
   "outputs": [],
   "source": [
    "import os\n",
    "import time\n",
    "import pandas as pd\n",
    "import json\n",
    "import requests\n",
    "from Alpha_key import API_KEY\n",
    "from sql_conn import password\n",
    "from sqlalchemy import create_engine\n",
    "import pymysql\n",
    "pymysql.install_as_MySQLdb()\n",
    "from sqlalchemy import create_engine, Column, Integer, String, Float, Date\n",
    "from sqlalchemy.ext.declarative import declarative_base\n",
    "Base = declarative_base()"
   ]
  },
  {
   "cell_type": "code",
   "execution_count": 2,
   "metadata": {},
   "outputs": [
    {
     "data": {
      "text/plain": [
       "immutabledict({})"
      ]
     },
     "execution_count": 2,
     "metadata": {},
     "output_type": "execute_result"
    }
   ],
   "source": [
    "host=\"secondawsdb.caa0qcwnjnci.us-east-2.rds.amazonaws.com\"\n",
    "port=3307\n",
    "dbname=\"stock_data\"\n",
    "user=\"root\"\n",
    "password=f\"{password}\"\n",
    "\n",
    "# host=\"localhost\"\n",
    "# port=3306\n",
    "# dbname=\"stock_data\"\n",
    "# user=\"root\"\n",
    "# password=f\"{password}\"\n",
    "\n",
    "engine = create_engine(f\"mysql://root:{password}@{host}:{port}/stock_data\")\n",
    "\n",
    "Base.metadata.create_all(engine)\n",
    "\n",
    "from sqlalchemy.orm import Session\n",
    "session = Session(engine)\n",
    "\n",
    "Base.metadata.tables"
   ]
  },
  {
   "cell_type": "code",
   "execution_count": 3,
   "metadata": {},
   "outputs": [],
   "source": [
    "b1 = ['MSFT', 'WMT', 'V', 'AXP', 'PG']\n",
    "b2 = ['CVX', 'JNJ', 'HD', 'KO', 'NKE']\n",
    "b3 = ['JPM', 'MCD', 'UTX', 'MMM', 'AAPL']\n",
    "b4 = ['GS', 'IBM', 'TRV', 'VZ', 'CSCO']\n",
    "b5 = ['DIS', 'UNH', 'XOM', 'MRK', 'BA']\n",
    "b6 = ['INTC', 'DWDP', 'CAT', 'PFE', 'WBA']\n",
    "\n",
    "DJIA = [b1, b2, b3, b4, b5, b6]"
   ]
  },
  {
   "cell_type": "code",
   "execution_count": 4,
   "metadata": {},
   "outputs": [],
   "source": [
    "def getData():\n",
    "    #output_df = []\n",
    "    response = requests.get(f\"{MainUrl}function={Measure}&symbol={ticker}&interval={interval}&time_period={time_period}&series_type={series_type}&nbdevup=3&nbdevdn=3&apikey={API_KEY}\")\n",
    "    data = response.json()\n",
    "    for key in data[f'Technical Analysis: {Measure}']:\n",
    "        data[f'Technical Analysis: {Measure}'][key].update({'Symbol' :f\"{ticker}\"})\n",
    "    output_dict = (data[f'Technical Analysis: {Measure}'])\n",
    "    output_df = pd.DataFrame.from_dict(output_dict, orient='index')\n",
    "    \n",
    "    output_df = output_df.reset_index(drop=False) #.rename(columns = {\"index\": \"date_key\"})\n",
    "\n",
    "    output_df.to_sql(name = f'{Measure}_{ticker}', con = engine,\n",
    "        if_exists = 'replace', chunksize = 75)\n",
    "#     sql_1 = (\n",
    "#         f'SELECT * FROM stock_data.{ticker.lower()} '\n",
    "#         f'INNER JOIN stock_data.{Measure.lower()}_{ticker.lower()} ON '\n",
    "#         f'stock_data.{ticker.lower()}.Date=stock_data.{Measure.lower()}_{ticker.lower()}.date_key;')\n",
    "#     sql_2 = (f'ALTER TABLE {ticker.lower()} DROP date_key, DROP Symbol;')\n",
    "#     print(sql_1, sql_2)\n",
    "#     engine.execute(sql_1)\n",
    "#     engine.execute(sql_2)"
   ]
  },
  {
   "cell_type": "code",
   "execution_count": 5,
   "metadata": {},
   "outputs": [],
   "source": [
    "#b1\n",
    "Measure = \"BBANDS\"\n",
    "output = \"full\"\n",
    "MainUrl = \"https://www.alphavantage.co/query?\"\n",
    "interval = \"daily\"\n",
    "series_type = \"close\"\n",
    "time_period = \"20\"\n",
    "\n",
    "\n",
    "for ticker in b1:\n",
    "    getData()\n"
   ]
  },
  {
   "cell_type": "code",
   "execution_count": 6,
   "metadata": {},
   "outputs": [],
   "source": [
    "#b2\n",
    "Measure = \"BBANDS\"\n",
    "output = \"full\"\n",
    "MainUrl = \"https://www.alphavantage.co/query?\"\n",
    "interval = \"daily\"\n",
    "series_type = \"close\"\n",
    "time_period = \"20\"\n",
    "\n",
    "for ticker in b2:\n",
    "    getData()\n"
   ]
  },
  {
   "cell_type": "code",
   "execution_count": 7,
   "metadata": {},
   "outputs": [],
   "source": [
    "#b3\n",
    "Measure = \"BBANDS\"\n",
    "output = \"full\"\n",
    "MainUrl = \"https://www.alphavantage.co/query?\"\n",
    "interval = \"daily\"\n",
    "series_type = \"close\"\n",
    "time_period = \"20\"\n",
    "\n",
    "for ticker in b3:\n",
    "    getData()\n"
   ]
  },
  {
   "cell_type": "code",
   "execution_count": 8,
   "metadata": {},
   "outputs": [],
   "source": [
    "#b4\n",
    "Measure = \"BBANDS\"\n",
    "output = \"full\"\n",
    "MainUrl = \"https://www.alphavantage.co/query?\"\n",
    "interval = \"daily\"\n",
    "series_type = \"close\"\n",
    "time_period = \"20\"\n",
    "\n",
    "for ticker in b4:\n",
    "    getData()\n"
   ]
  },
  {
   "cell_type": "code",
   "execution_count": 12,
   "metadata": {},
   "outputs": [],
   "source": [
    "#b5\n",
    "Measure = \"BBANDS\"\n",
    "output = \"full\"\n",
    "MainUrl = \"https://www.alphavantage.co/query?\"\n",
    "interval = \"daily\"\n",
    "series_type = \"close\"\n",
    "time_period = \"20\"\n",
    "\n",
    "for ticker in b5:\n",
    "    getData()\n"
   ]
  },
  {
   "cell_type": "code",
   "execution_count": 13,
   "metadata": {},
   "outputs": [],
   "source": [
    "#b6\n",
    "Measure = \"BBANDS\"\n",
    "output = \"full\"\n",
    "MainUrl = \"https://www.alphavantage.co/query?\"\n",
    "interval = \"daily\"\n",
    "series_type = \"close\"\n",
    "time_period = \"20\"\n",
    "\n",
    "for ticker in b6:\n",
    "    getData()\n"
   ]
  },
  {
   "cell_type": "code",
   "execution_count": null,
   "metadata": {},
   "outputs": [],
   "source": [
    "Measure = \"EMA\"\n",
    "output = \"full\"\n",
    "MainUrl = \"https://www.alphavantage.co/query?\"\n",
    "interval = \"daily\"\n",
    "series_type = \"close\"\n",
    "time_period = \"20\"\n",
    "EMA = []\n",
    "\n",
    "for ticker in b1:\n",
    "    response = requests.get(\n",
    "        f\"{MainUrl}function={Measure}&symbol={ticker}&interval={interval}&time_period={time_period}&series_type={series_type}&apikey={API_KEY}\")\n",
    "    data = response.json()\n",
    "    EMA.append(data)\n",
    "       \n",
    "EMA"
   ]
  },
  {
   "cell_type": "code",
   "execution_count": null,
   "metadata": {},
   "outputs": [],
   "source": []
  },
  {
   "cell_type": "code",
   "execution_count": null,
   "metadata": {},
   "outputs": [],
   "source": []
  },
  {
   "cell_type": "code",
   "execution_count": null,
   "metadata": {},
   "outputs": [],
   "source": []
  },
  {
   "cell_type": "code",
   "execution_count": null,
   "metadata": {},
   "outputs": [],
   "source": []
  },
  {
   "cell_type": "code",
   "execution_count": null,
   "metadata": {},
   "outputs": [],
   "source": []
  },
  {
   "cell_type": "code",
   "execution_count": null,
   "metadata": {},
   "outputs": [],
   "source": []
  },
  {
   "cell_type": "code",
   "execution_count": null,
   "metadata": {},
   "outputs": [],
   "source": []
  }
 ],
 "metadata": {
  "kernelspec": {
   "display_name": "Python 3",
   "language": "python",
   "name": "python3"
  },
  "language_info": {
   "codemirror_mode": {
    "name": "ipython",
    "version": 3
   },
   "file_extension": ".py",
   "mimetype": "text/x-python",
   "name": "python",
   "nbconvert_exporter": "python",
   "pygments_lexer": "ipython3",
   "version": "3.6.5"
  }
 },
 "nbformat": 4,
 "nbformat_minor": 2
}
