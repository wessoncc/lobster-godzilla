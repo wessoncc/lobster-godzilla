{
 "cells": [
  {
   "cell_type": "code",
   "execution_count": 21,
   "metadata": {},
   "outputs": [],
   "source": [
    "import pandas as pd\n",
    "import json\n",
    "import requests"
   ]
  },
  {
   "cell_type": "code",
   "execution_count": 1,
   "metadata": {},
   "outputs": [],
   "source": [
    "DJIA = ['MSFT', 'WMT', 'V', 'AXP', 'PG', 'CVX', 'JNJ', 'HD', 'KO', 'NKE', 'JPM', 'MCD', 'UTX', 'MMM', 'AAPL', 'GS', 'IBM', 'TRV', 'VZ', 'CSCO', 'DIS', 'UNH', 'XOM', 'MRK', 'BA', 'INTC', 'DWDP', 'CAT', 'PFE', 'WBA']"
   ]
  },
  {
   "cell_type": "code",
   "execution_count": 30,
   "metadata": {},
   "outputs": [],
   "source": [
    "MainUrl = \"https://api-v2.intrinio.com/historical_data\"\n",
    "api_key = \"OjA4ZTJhOGY2OTdkYWI5YzhhNmMzNDdkODkwZDY3YTI2\"\n",
    "#api_key = \"OjEzNWIxYmI2ZTI3NGI0ZDA0ZmRkZjAzYjNlOTU5YTAw\"\n",
    "measure = \"adj_close_price\"\n",
    "frequency = \"daily\"\n",
    "start_date = \"2016-01-27\"\n",
    "end_date = \"2019-03-01\""
   ]
  },
  {
   "cell_type": "code",
   "execution_count": 31,
   "metadata": {},
   "outputs": [
    {
     "name": "stdout",
     "output_type": "stream",
     "text": [
      "https://api-v2.intrinio.com/historical_data/MSFT/adj_close_price?start_date=2016-01-27&end_date=2019-03-01&api_key=OjA4ZTJhOGY2OTdkYWI5YzhhNmMzNDdkODkwZDY3YTI2\n",
      "https://api-v2.intrinio.com/historical_data/WMT/adj_close_price?start_date=2016-01-27&end_date=2019-03-01&api_key=OjA4ZTJhOGY2OTdkYWI5YzhhNmMzNDdkODkwZDY3YTI2\n",
      "https://api-v2.intrinio.com/historical_data/V/adj_close_price?start_date=2016-01-27&end_date=2019-03-01&api_key=OjA4ZTJhOGY2OTdkYWI5YzhhNmMzNDdkODkwZDY3YTI2\n",
      "https://api-v2.intrinio.com/historical_data/AXP/adj_close_price?start_date=2016-01-27&end_date=2019-03-01&api_key=OjA4ZTJhOGY2OTdkYWI5YzhhNmMzNDdkODkwZDY3YTI2\n",
      "https://api-v2.intrinio.com/historical_data/PG/adj_close_price?start_date=2016-01-27&end_date=2019-03-01&api_key=OjA4ZTJhOGY2OTdkYWI5YzhhNmMzNDdkODkwZDY3YTI2\n",
      "https://api-v2.intrinio.com/historical_data/CVX/adj_close_price?start_date=2016-01-27&end_date=2019-03-01&api_key=OjA4ZTJhOGY2OTdkYWI5YzhhNmMzNDdkODkwZDY3YTI2\n",
      "https://api-v2.intrinio.com/historical_data/JNJ/adj_close_price?start_date=2016-01-27&end_date=2019-03-01&api_key=OjA4ZTJhOGY2OTdkYWI5YzhhNmMzNDdkODkwZDY3YTI2\n",
      "https://api-v2.intrinio.com/historical_data/HD/adj_close_price?start_date=2016-01-27&end_date=2019-03-01&api_key=OjA4ZTJhOGY2OTdkYWI5YzhhNmMzNDdkODkwZDY3YTI2\n",
      "https://api-v2.intrinio.com/historical_data/KO/adj_close_price?start_date=2016-01-27&end_date=2019-03-01&api_key=OjA4ZTJhOGY2OTdkYWI5YzhhNmMzNDdkODkwZDY3YTI2\n",
      "https://api-v2.intrinio.com/historical_data/NKE/adj_close_price?start_date=2016-01-27&end_date=2019-03-01&api_key=OjA4ZTJhOGY2OTdkYWI5YzhhNmMzNDdkODkwZDY3YTI2\n",
      "https://api-v2.intrinio.com/historical_data/JPM/adj_close_price?start_date=2016-01-27&end_date=2019-03-01&api_key=OjA4ZTJhOGY2OTdkYWI5YzhhNmMzNDdkODkwZDY3YTI2\n",
      "https://api-v2.intrinio.com/historical_data/MCD/adj_close_price?start_date=2016-01-27&end_date=2019-03-01&api_key=OjA4ZTJhOGY2OTdkYWI5YzhhNmMzNDdkODkwZDY3YTI2\n",
      "https://api-v2.intrinio.com/historical_data/UTX/adj_close_price?start_date=2016-01-27&end_date=2019-03-01&api_key=OjA4ZTJhOGY2OTdkYWI5YzhhNmMzNDdkODkwZDY3YTI2\n",
      "https://api-v2.intrinio.com/historical_data/MMM/adj_close_price?start_date=2016-01-27&end_date=2019-03-01&api_key=OjA4ZTJhOGY2OTdkYWI5YzhhNmMzNDdkODkwZDY3YTI2\n",
      "https://api-v2.intrinio.com/historical_data/AAPL/adj_close_price?start_date=2016-01-27&end_date=2019-03-01&api_key=OjA4ZTJhOGY2OTdkYWI5YzhhNmMzNDdkODkwZDY3YTI2\n",
      "https://api-v2.intrinio.com/historical_data/GS/adj_close_price?start_date=2016-01-27&end_date=2019-03-01&api_key=OjA4ZTJhOGY2OTdkYWI5YzhhNmMzNDdkODkwZDY3YTI2\n",
      "https://api-v2.intrinio.com/historical_data/IBM/adj_close_price?start_date=2016-01-27&end_date=2019-03-01&api_key=OjA4ZTJhOGY2OTdkYWI5YzhhNmMzNDdkODkwZDY3YTI2\n",
      "https://api-v2.intrinio.com/historical_data/TRV/adj_close_price?start_date=2016-01-27&end_date=2019-03-01&api_key=OjA4ZTJhOGY2OTdkYWI5YzhhNmMzNDdkODkwZDY3YTI2\n",
      "https://api-v2.intrinio.com/historical_data/VZ/adj_close_price?start_date=2016-01-27&end_date=2019-03-01&api_key=OjA4ZTJhOGY2OTdkYWI5YzhhNmMzNDdkODkwZDY3YTI2\n",
      "https://api-v2.intrinio.com/historical_data/CSCO/adj_close_price?start_date=2016-01-27&end_date=2019-03-01&api_key=OjA4ZTJhOGY2OTdkYWI5YzhhNmMzNDdkODkwZDY3YTI2\n",
      "https://api-v2.intrinio.com/historical_data/DIS/adj_close_price?start_date=2016-01-27&end_date=2019-03-01&api_key=OjA4ZTJhOGY2OTdkYWI5YzhhNmMzNDdkODkwZDY3YTI2\n",
      "https://api-v2.intrinio.com/historical_data/UNH/adj_close_price?start_date=2016-01-27&end_date=2019-03-01&api_key=OjA4ZTJhOGY2OTdkYWI5YzhhNmMzNDdkODkwZDY3YTI2\n",
      "https://api-v2.intrinio.com/historical_data/XOM/adj_close_price?start_date=2016-01-27&end_date=2019-03-01&api_key=OjA4ZTJhOGY2OTdkYWI5YzhhNmMzNDdkODkwZDY3YTI2\n",
      "https://api-v2.intrinio.com/historical_data/MRK/adj_close_price?start_date=2016-01-27&end_date=2019-03-01&api_key=OjA4ZTJhOGY2OTdkYWI5YzhhNmMzNDdkODkwZDY3YTI2\n",
      "https://api-v2.intrinio.com/historical_data/BA/adj_close_price?start_date=2016-01-27&end_date=2019-03-01&api_key=OjA4ZTJhOGY2OTdkYWI5YzhhNmMzNDdkODkwZDY3YTI2\n",
      "https://api-v2.intrinio.com/historical_data/INTC/adj_close_price?start_date=2016-01-27&end_date=2019-03-01&api_key=OjA4ZTJhOGY2OTdkYWI5YzhhNmMzNDdkODkwZDY3YTI2\n",
      "https://api-v2.intrinio.com/historical_data/DWDP/adj_close_price?start_date=2016-01-27&end_date=2019-03-01&api_key=OjA4ZTJhOGY2OTdkYWI5YzhhNmMzNDdkODkwZDY3YTI2\n",
      "https://api-v2.intrinio.com/historical_data/CAT/adj_close_price?start_date=2016-01-27&end_date=2019-03-01&api_key=OjA4ZTJhOGY2OTdkYWI5YzhhNmMzNDdkODkwZDY3YTI2\n",
      "https://api-v2.intrinio.com/historical_data/PFE/adj_close_price?start_date=2016-01-27&end_date=2019-03-01&api_key=OjA4ZTJhOGY2OTdkYWI5YzhhNmMzNDdkODkwZDY3YTI2\n",
      "https://api-v2.intrinio.com/historical_data/WBA/adj_close_price?start_date=2016-01-27&end_date=2019-03-01&api_key=OjA4ZTJhOGY2OTdkYWI5YzhhNmMzNDdkODkwZDY3YTI2\n"
     ]
    }
   ],
   "source": [
    "res = []\n",
    "\n",
    "\n",
    "\n",
    "for ticker in DJIA:\n",
    "    print(f\"{MainUrl}/{ticker}/{measure}?start_date={start_date}&end_date={end_date}&api_key={api_key}\")\n",
    "    #resp = requests.get(f\"{MainUrl}/{ticker}/{measure}?start_date={start_date}&end_date={end_date}&api_key={api_key}\")\n",
    "    #data = resp.json()"
   ]
  },
  {
   "cell_type": "code",
   "execution_count": 28,
   "metadata": {},
   "outputs": [
    {
     "data": {
      "text/plain": [
       "{'error': 'Cannot look up this item/identifier combination. The data may not be available in the Sandbox environment.',\n",
       " 'message': 'An error occured. Please contact success@intrinio.com with the details.'}"
      ]
     },
     "execution_count": 28,
     "metadata": {},
     "output_type": "execute_result"
    }
   ],
   "source": [
    "data"
   ]
  },
  {
   "cell_type": "code",
   "execution_count": null,
   "metadata": {},
   "outputs": [],
   "source": []
  }
 ],
 "metadata": {
  "kernelspec": {
   "display_name": "Python 3",
   "language": "python",
   "name": "python3"
  },
  "language_info": {
   "codemirror_mode": {
    "name": "ipython",
    "version": 3
   },
   "file_extension": ".py",
   "mimetype": "text/x-python",
   "name": "python",
   "nbconvert_exporter": "python",
   "pygments_lexer": "ipython3",
   "version": "3.7.0"
  }
 },
 "nbformat": 4,
 "nbformat_minor": 2
}
