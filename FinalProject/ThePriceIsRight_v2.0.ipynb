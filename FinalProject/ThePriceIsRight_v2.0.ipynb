{
 "cells": [
  {
   "cell_type": "markdown",
   "metadata": {},
   "source": [
    "### Impotrt Packages and Dependancies"
   ]
  },
  {
   "cell_type": "code",
   "execution_count": 149,
   "metadata": {},
   "outputs": [],
   "source": [
    "from __future__ import absolute_import, division, print_function\n",
    "import pathlib\n",
    "from matplotlib import pyplot as plt\n",
    "import pandas as pd\n",
    "import numpy as np\n",
    "import seaborn as sns\n",
    "import tensorflow as tf\n",
    "from tensorflow import keras\n",
    "from tensorflow.keras import layers\n",
    "from sklearn.preprocessing import MinMaxScaler\n",
    "from sql_conn import password\n",
    "from sqlalchemy import create_engine\n",
    "import pymysql\n",
    "pymysql.install_as_MySQLdb()\n",
    "from sqlalchemy import create_engine, Column, Integer, String, Float, Date\n",
    "from sqlalchemy.ext.declarative import declarative_base\n",
    "Base = declarative_base()"
   ]
  },
  {
   "cell_type": "markdown",
   "metadata": {},
   "source": [
    "### Connection to Database on AWS"
   ]
  },
  {
   "cell_type": "code",
   "execution_count": 120,
   "metadata": {},
   "outputs": [],
   "source": [
    "host=\"secondawsdb.caa0qcwnjnci.us-east-2.rds.amazonaws.com\"\n",
    "port=3307\n",
    "dbname=\"stock_data\"\n",
    "user=\"root\"\n",
    "password=f\"{password}\"\n",
    "\n",
    "# host=\"localhost\"\n",
    "# port=3306\n",
    "# dbname=\"stock_data\"\n",
    "# user=\"root\"\n",
    "# password=f\"{password}\"\n",
    "\n",
    "engine = create_engine(f\"mysql://root:{password}@{host}:{port}/stock_data\")\n",
    "\n",
    "Base.metadata.create_all(engine)\n",
    "\n",
    "from sqlalchemy.orm import Session\n",
    "session = Session(engine)"
   ]
  },
  {
   "cell_type": "markdown",
   "metadata": {},
   "source": [
    "### Select Stock Ticker"
   ]
  },
  {
   "cell_type": "code",
   "execution_count": 121,
   "metadata": {},
   "outputs": [],
   "source": [
    "ticker = \"HD\"\n",
    "\n",
    "\n",
    "DJIA = {'MSFT': 'Microsoft',\n",
    "        'WMT': 'Walmart',\n",
    "        'V': 'Visa',\n",
    "        'AXP': 'American Express',\n",
    "        'PG': 'Proctor and Gamble',\n",
    "        'CVX': 'Chevron',\n",
    "        'JNJ': 'Johnson & Johnson',\n",
    "        'HD': 'Home Depot',\n",
    "        'KO': 'Coca-Cola',\n",
    "        'NKE': 'Nike',\n",
    "        'JPM': 'JP Morgan Chase',\n",
    "        'MCD': 'McDonalds',\n",
    "        'UTX': 'United Technologies',\n",
    "        'MMM': '3M',\n",
    "        'AAPL': 'Apple',\n",
    "        'GS': 'Goldman Sachs',\n",
    "        'IBM': 'IBM',\n",
    "        'TRV': 'The Travelers Company',\n",
    "        'VZ': 'Verizon',\n",
    "        'CSCO': 'Cisco',\n",
    "        'DIS': 'Disney',\n",
    "        'UNH': 'United Health',\n",
    "        'XOM': 'Exxon Mobil',\n",
    "        'MRK': 'Merck & Co.',\n",
    "        'BA': 'Bank of America',\n",
    "        'INTC': 'Intel',\n",
    "        'DWDP': 'DowDuPont',\n",
    "        'CAT': 'Caterpillar',\n",
    "        'PFE': 'Pfizer',\n",
    "        'WBA': 'Walgreens Boots Alliance'}"
   ]
  },
  {
   "cell_type": "markdown",
   "metadata": {},
   "source": [
    "### Query Database"
   ]
  },
  {
   "cell_type": "code",
   "execution_count": 122,
   "metadata": {},
   "outputs": [],
   "source": [
    "stoch_sql = (f'SELECT * FROM stock_data.STOCH_{ticker}')\n",
    "stoch = pd.read_sql(stoch_sql, engine)\n",
    "stoch = stoch.drop(['level_0'], axis=1)\n",
    "\n",
    "adx_sql = (f'SELECT * FROM stock_data.ADX_{ticker}')\n",
    "adx = pd.read_sql(adx_sql, engine)\n",
    "adx = adx.drop(['level_0', 'Symbol'], axis=1)\n",
    "\n",
    "macd_sql = (f'SELECT * FROM stock_data.MACD_{ticker}')\n",
    "macd = pd.read_sql(macd_sql, engine)\n",
    "macd = macd.drop(['level_0', 'Symbol'], axis=1)\n",
    "\n",
    "ema_sql = (f'SELECT * FROM stock_data.EMA_{ticker}')\n",
    "ema = pd.read_sql(ema_sql, engine)\n",
    "ema = ema.drop(['level_0', 'Symbol'], axis=1)\n",
    "\n",
    "bbands_sql = (f'SELECT * FROM stock_data.BBANDS_{ticker}')\n",
    "bbands = pd.read_sql(bbands_sql, engine)\n",
    "bbands = bbands.drop(['level_0', 'Symbol'], axis=1)\n",
    "\n",
    "rsi_sql = (f'SELECT * FROM stock_data.RSI_{ticker}')\n",
    "rsi = pd.read_sql(rsi_sql, engine)\n",
    "rsi = rsi.drop(['level_0', 'Symbol'], axis=1)\n",
    "\n",
    "hist_sql = (f'SELECT * FROM stock_data.historical_data_{ticker}')\n",
    "hist = pd.read_sql(hist_sql, engine)\n",
    "hist = hist.drop(['ticker'], axis=1)"
   ]
  },
  {
   "cell_type": "markdown",
   "metadata": {},
   "source": [
    "### Join DataFrames Returned from SQL Query"
   ]
  },
  {
   "cell_type": "code",
   "execution_count": 123,
   "metadata": {},
   "outputs": [],
   "source": [
    "join1 = stoch.join(adx.set_index('index'), on='index')\n",
    "\n",
    "join2 = join1.join(bbands.set_index('index'), on='index')\n",
    "\n",
    "join3 = join2.join(ema.set_index('index'), on='index')\n",
    "\n",
    "join4 = join3.join(macd.set_index('index'), on='index')\n",
    "\n",
    "join5 = join4.join(rsi.set_index('index'), on='index')\n",
    "\n",
    "stock_df = join5"
   ]
  },
  {
   "cell_type": "markdown",
   "metadata": {},
   "source": [
    "### Check Ticker and Date Range"
   ]
  },
  {
   "cell_type": "code",
   "execution_count": 124,
   "metadata": {},
   "outputs": [
    {
     "data": {
      "text/html": [
       "<div>\n",
       "<style scoped>\n",
       "    .dataframe tbody tr th:only-of-type {\n",
       "        vertical-align: middle;\n",
       "    }\n",
       "\n",
       "    .dataframe tbody tr th {\n",
       "        vertical-align: top;\n",
       "    }\n",
       "\n",
       "    .dataframe thead th {\n",
       "        text-align: right;\n",
       "    }\n",
       "</style>\n",
       "<table border=\"1\" class=\"dataframe\">\n",
       "  <thead>\n",
       "    <tr style=\"text-align: right;\">\n",
       "      <th></th>\n",
       "      <th>index</th>\n",
       "      <th>SlowD</th>\n",
       "      <th>SlowK</th>\n",
       "      <th>Symbol</th>\n",
       "      <th>ADX</th>\n",
       "    </tr>\n",
       "  </thead>\n",
       "  <tbody>\n",
       "    <tr>\n",
       "      <th>count</th>\n",
       "      <td>5321</td>\n",
       "      <td>5321</td>\n",
       "      <td>5321</td>\n",
       "      <td>5321</td>\n",
       "      <td>5290</td>\n",
       "    </tr>\n",
       "    <tr>\n",
       "      <th>unique</th>\n",
       "      <td>5321</td>\n",
       "      <td>5302</td>\n",
       "      <td>5297</td>\n",
       "      <td>1</td>\n",
       "      <td>5234</td>\n",
       "    </tr>\n",
       "    <tr>\n",
       "      <th>top</th>\n",
       "      <td>2005-08-05</td>\n",
       "      <td>58.9189</td>\n",
       "      <td>75.4723</td>\n",
       "      <td>HD</td>\n",
       "      <td>16.0545</td>\n",
       "    </tr>\n",
       "    <tr>\n",
       "      <th>freq</th>\n",
       "      <td>1</td>\n",
       "      <td>2</td>\n",
       "      <td>2</td>\n",
       "      <td>5321</td>\n",
       "      <td>3</td>\n",
       "    </tr>\n",
       "  </tbody>\n",
       "</table>\n",
       "</div>"
      ],
      "text/plain": [
       "             index    SlowD    SlowK Symbol      ADX\n",
       "count         5321     5321     5321   5321     5290\n",
       "unique        5321     5302     5297      1     5234\n",
       "top     2005-08-05  58.9189  75.4723     HD  16.0545\n",
       "freq             1        2        2   5321        3"
      ]
     },
     "execution_count": 124,
     "metadata": {},
     "output_type": "execute_result"
    }
   ],
   "source": [
    "join1.describe()"
   ]
  },
  {
   "cell_type": "code",
   "execution_count": 125,
   "metadata": {},
   "outputs": [
    {
     "data": {
      "text/html": [
       "<div>\n",
       "<style scoped>\n",
       "    .dataframe tbody tr th:only-of-type {\n",
       "        vertical-align: middle;\n",
       "    }\n",
       "\n",
       "    .dataframe tbody tr th {\n",
       "        vertical-align: top;\n",
       "    }\n",
       "\n",
       "    .dataframe thead th {\n",
       "        text-align: right;\n",
       "    }\n",
       "</style>\n",
       "<table border=\"1\" class=\"dataframe\">\n",
       "  <thead>\n",
       "    <tr style=\"text-align: right;\">\n",
       "      <th></th>\n",
       "      <th>index</th>\n",
       "      <th>SlowD</th>\n",
       "      <th>SlowK</th>\n",
       "      <th>Symbol</th>\n",
       "      <th>ADX</th>\n",
       "    </tr>\n",
       "  </thead>\n",
       "  <tbody>\n",
       "    <tr>\n",
       "      <th>0</th>\n",
       "      <td>1998-01-14</td>\n",
       "      <td>59.7774</td>\n",
       "      <td>83.4156</td>\n",
       "      <td>HD</td>\n",
       "      <td>NaN</td>\n",
       "    </tr>\n",
       "  </tbody>\n",
       "</table>\n",
       "</div>"
      ],
      "text/plain": [
       "        index    SlowD    SlowK Symbol  ADX\n",
       "0  1998-01-14  59.7774  83.4156     HD  NaN"
      ]
     },
     "execution_count": 125,
     "metadata": {},
     "output_type": "execute_result"
    }
   ],
   "source": [
    "join1.head(1)"
   ]
  },
  {
   "cell_type": "code",
   "execution_count": 126,
   "metadata": {},
   "outputs": [
    {
     "data": {
      "text/html": [
       "<div>\n",
       "<style scoped>\n",
       "    .dataframe tbody tr th:only-of-type {\n",
       "        vertical-align: middle;\n",
       "    }\n",
       "\n",
       "    .dataframe tbody tr th {\n",
       "        vertical-align: top;\n",
       "    }\n",
       "\n",
       "    .dataframe thead th {\n",
       "        text-align: right;\n",
       "    }\n",
       "</style>\n",
       "<table border=\"1\" class=\"dataframe\">\n",
       "  <thead>\n",
       "    <tr style=\"text-align: right;\">\n",
       "      <th></th>\n",
       "      <th>index</th>\n",
       "      <th>SlowD</th>\n",
       "      <th>SlowK</th>\n",
       "      <th>Symbol</th>\n",
       "      <th>ADX</th>\n",
       "    </tr>\n",
       "  </thead>\n",
       "  <tbody>\n",
       "    <tr>\n",
       "      <th>5320</th>\n",
       "      <td>2019-03-08</td>\n",
       "      <td>34.0887</td>\n",
       "      <td>32.2617</td>\n",
       "      <td>HD</td>\n",
       "      <td>14.7781</td>\n",
       "    </tr>\n",
       "  </tbody>\n",
       "</table>\n",
       "</div>"
      ],
      "text/plain": [
       "           index    SlowD    SlowK Symbol      ADX\n",
       "5320  2019-03-08  34.0887  32.2617     HD  14.7781"
      ]
     },
     "execution_count": 126,
     "metadata": {},
     "output_type": "execute_result"
    }
   ],
   "source": [
    "join1.tail(1)"
   ]
  },
  {
   "cell_type": "code",
   "execution_count": 127,
   "metadata": {},
   "outputs": [
    {
     "data": {
      "text/html": [
       "<div>\n",
       "<style scoped>\n",
       "    .dataframe tbody tr th:only-of-type {\n",
       "        vertical-align: middle;\n",
       "    }\n",
       "\n",
       "    .dataframe tbody tr th {\n",
       "        vertical-align: top;\n",
       "    }\n",
       "\n",
       "    .dataframe thead th {\n",
       "        text-align: right;\n",
       "    }\n",
       "</style>\n",
       "<table border=\"1\" class=\"dataframe\">\n",
       "  <thead>\n",
       "    <tr style=\"text-align: right;\">\n",
       "      <th></th>\n",
       "      <th>Date</th>\n",
       "      <th>Open</th>\n",
       "      <th>High</th>\n",
       "      <th>Low</th>\n",
       "      <th>Close</th>\n",
       "      <th>Volume</th>\n",
       "      <th>Ex-Dividend</th>\n",
       "      <th>Split Ratio</th>\n",
       "      <th>Adj. Open</th>\n",
       "      <th>Adj. High</th>\n",
       "      <th>Adj. Low</th>\n",
       "      <th>Adj. Close</th>\n",
       "      <th>Adj. Volume</th>\n",
       "    </tr>\n",
       "  </thead>\n",
       "  <tbody>\n",
       "    <tr>\n",
       "      <th>0</th>\n",
       "      <td>1990-01-02</td>\n",
       "      <td>36.75</td>\n",
       "      <td>37.75</td>\n",
       "      <td>36.38</td>\n",
       "      <td>37.75</td>\n",
       "      <td>306415.0</td>\n",
       "      <td>0.0</td>\n",
       "      <td>1.0</td>\n",
       "      <td>1.252295</td>\n",
       "      <td>1.286371</td>\n",
       "      <td>1.239686</td>\n",
       "      <td>1.286371</td>\n",
       "      <td>6204903.75</td>\n",
       "    </tr>\n",
       "  </tbody>\n",
       "</table>\n",
       "</div>"
      ],
      "text/plain": [
       "        Date   Open   High    Low  Close    Volume  Ex-Dividend  Split Ratio  \\\n",
       "0 1990-01-02  36.75  37.75  36.38  37.75  306415.0          0.0          1.0   \n",
       "\n",
       "   Adj. Open  Adj. High  Adj. Low  Adj. Close  Adj. Volume  \n",
       "0   1.252295   1.286371  1.239686    1.286371   6204903.75  "
      ]
     },
     "execution_count": 127,
     "metadata": {},
     "output_type": "execute_result"
    }
   ],
   "source": [
    "hist.head(1)"
   ]
  },
  {
   "cell_type": "code",
   "execution_count": 128,
   "metadata": {},
   "outputs": [
    {
     "data": {
      "text/html": [
       "<div>\n",
       "<style scoped>\n",
       "    .dataframe tbody tr th:only-of-type {\n",
       "        vertical-align: middle;\n",
       "    }\n",
       "\n",
       "    .dataframe tbody tr th {\n",
       "        vertical-align: top;\n",
       "    }\n",
       "\n",
       "    .dataframe thead th {\n",
       "        text-align: right;\n",
       "    }\n",
       "</style>\n",
       "<table border=\"1\" class=\"dataframe\">\n",
       "  <thead>\n",
       "    <tr style=\"text-align: right;\">\n",
       "      <th></th>\n",
       "      <th>Date</th>\n",
       "      <th>Open</th>\n",
       "      <th>High</th>\n",
       "      <th>Low</th>\n",
       "      <th>Close</th>\n",
       "      <th>Volume</th>\n",
       "      <th>Ex-Dividend</th>\n",
       "      <th>Split Ratio</th>\n",
       "      <th>Adj. Open</th>\n",
       "      <th>Adj. High</th>\n",
       "      <th>Adj. Low</th>\n",
       "      <th>Adj. Close</th>\n",
       "      <th>Adj. Volume</th>\n",
       "    </tr>\n",
       "  </thead>\n",
       "  <tbody>\n",
       "    <tr>\n",
       "      <th>7113</th>\n",
       "      <td>2018-03-27</td>\n",
       "      <td>177.38</td>\n",
       "      <td>178.73</td>\n",
       "      <td>173.6</td>\n",
       "      <td>174.68</td>\n",
       "      <td>4640376.0</td>\n",
       "      <td>0.0</td>\n",
       "      <td>1.0</td>\n",
       "      <td>177.38</td>\n",
       "      <td>178.73</td>\n",
       "      <td>173.6</td>\n",
       "      <td>174.68</td>\n",
       "      <td>4640376.0</td>\n",
       "    </tr>\n",
       "  </tbody>\n",
       "</table>\n",
       "</div>"
      ],
      "text/plain": [
       "           Date    Open    High    Low   Close     Volume  Ex-Dividend  \\\n",
       "7113 2018-03-27  177.38  178.73  173.6  174.68  4640376.0          0.0   \n",
       "\n",
       "      Split Ratio  Adj. Open  Adj. High  Adj. Low  Adj. Close  Adj. Volume  \n",
       "7113          1.0     177.38     178.73     173.6      174.68    4640376.0  "
      ]
     },
     "execution_count": 128,
     "metadata": {},
     "output_type": "execute_result"
    }
   ],
   "source": [
    "hist.tail(1)"
   ]
  },
  {
   "cell_type": "code",
   "execution_count": 129,
   "metadata": {},
   "outputs": [],
   "source": [
    "stock_df = stock_df.dropna()\n",
    "\n",
    "stock_df = stock_df.rename(columns={'index':'Date'})\n",
    "\n",
    "stock_combo = stock_df.set_index('Date').join(hist.set_index('Date'))\n"
   ]
  },
  {
   "cell_type": "code",
   "execution_count": 130,
   "metadata": {},
   "outputs": [
    {
     "data": {
      "text/html": [
       "<div>\n",
       "<style scoped>\n",
       "    .dataframe tbody tr th:only-of-type {\n",
       "        vertical-align: middle;\n",
       "    }\n",
       "\n",
       "    .dataframe tbody tr th {\n",
       "        vertical-align: top;\n",
       "    }\n",
       "\n",
       "    .dataframe thead th {\n",
       "        text-align: right;\n",
       "    }\n",
       "</style>\n",
       "<table border=\"1\" class=\"dataframe\">\n",
       "  <thead>\n",
       "    <tr style=\"text-align: right;\">\n",
       "      <th></th>\n",
       "      <th>SlowD</th>\n",
       "      <th>SlowK</th>\n",
       "      <th>Symbol</th>\n",
       "      <th>ADX</th>\n",
       "      <th>Real Lower Band</th>\n",
       "      <th>Real Middle Band</th>\n",
       "      <th>Real Upper Band</th>\n",
       "      <th>EMA</th>\n",
       "      <th>MACD_Hist</th>\n",
       "      <th>MACD_Signal</th>\n",
       "      <th>...</th>\n",
       "      <th>Low</th>\n",
       "      <th>Close</th>\n",
       "      <th>Volume</th>\n",
       "      <th>Ex-Dividend</th>\n",
       "      <th>Split Ratio</th>\n",
       "      <th>Adj. Open</th>\n",
       "      <th>Adj. High</th>\n",
       "      <th>Adj. Low</th>\n",
       "      <th>Adj. Close</th>\n",
       "      <th>Adj. Volume</th>\n",
       "    </tr>\n",
       "    <tr>\n",
       "      <th>Date</th>\n",
       "      <th></th>\n",
       "      <th></th>\n",
       "      <th></th>\n",
       "      <th></th>\n",
       "      <th></th>\n",
       "      <th></th>\n",
       "      <th></th>\n",
       "      <th></th>\n",
       "      <th></th>\n",
       "      <th></th>\n",
       "      <th></th>\n",
       "      <th></th>\n",
       "      <th></th>\n",
       "      <th></th>\n",
       "      <th></th>\n",
       "      <th></th>\n",
       "      <th></th>\n",
       "      <th></th>\n",
       "      <th></th>\n",
       "      <th></th>\n",
       "      <th></th>\n",
       "    </tr>\n",
       "  </thead>\n",
       "  <tbody>\n",
       "    <tr>\n",
       "      <th>1998-03-02</th>\n",
       "      <td>18.1057</td>\n",
       "      <td>17.8192</td>\n",
       "      <td>HD</td>\n",
       "      <td>27.6600</td>\n",
       "      <td>59.5815</td>\n",
       "      <td>64.8855</td>\n",
       "      <td>70.1895</td>\n",
       "      <td>64.5300</td>\n",
       "      <td>0.0700</td>\n",
       "      <td>0.6278</td>\n",
       "      <td>...</td>\n",
       "      <td>63.63</td>\n",
       "      <td>64.63</td>\n",
       "      <td>2262900.0</td>\n",
       "      <td>0.0</td>\n",
       "      <td>1.0</td>\n",
       "      <td>15.027139</td>\n",
       "      <td>15.364854</td>\n",
       "      <td>15.027139</td>\n",
       "      <td>15.263303</td>\n",
       "      <td>6788700.0</td>\n",
       "    </tr>\n",
       "  </tbody>\n",
       "</table>\n",
       "<p>1 rows × 24 columns</p>\n",
       "</div>"
      ],
      "text/plain": [
       "              SlowD    SlowK Symbol      ADX Real Lower Band Real Middle Band  \\\n",
       "Date                                                                            \n",
       "1998-03-02  18.1057  17.8192     HD  27.6600         59.5815          64.8855   \n",
       "\n",
       "           Real Upper Band      EMA MACD_Hist MACD_Signal     ...         Low  \\\n",
       "Date                                                          ...               \n",
       "1998-03-02         70.1895  64.5300    0.0700      0.6278     ...       63.63   \n",
       "\n",
       "            Close     Volume  Ex-Dividend  Split Ratio  Adj. Open  Adj. High  \\\n",
       "Date                                                                           \n",
       "1998-03-02  64.63  2262900.0          0.0          1.0  15.027139  15.364854   \n",
       "\n",
       "             Adj. Low  Adj. Close  Adj. Volume  \n",
       "Date                                            \n",
       "1998-03-02  15.027139   15.263303    6788700.0  \n",
       "\n",
       "[1 rows x 24 columns]"
      ]
     },
     "execution_count": 130,
     "metadata": {},
     "output_type": "execute_result"
    }
   ],
   "source": [
    "stock_combo.head(1)"
   ]
  },
  {
   "cell_type": "code",
   "execution_count": 131,
   "metadata": {},
   "outputs": [
    {
     "data": {
      "text/plain": [
       "SlowD                object\n",
       "SlowK                object\n",
       "Symbol               object\n",
       "ADX                  object\n",
       "Real Lower Band      object\n",
       "Real Middle Band     object\n",
       "Real Upper Band      object\n",
       "EMA                  object\n",
       "MACD_Hist            object\n",
       "MACD_Signal          object\n",
       "MACD                 object\n",
       "RSI                  object\n",
       "Open                float64\n",
       "High                float64\n",
       "Low                 float64\n",
       "Close               float64\n",
       "Volume              float64\n",
       "Ex-Dividend         float64\n",
       "Split Ratio         float64\n",
       "Adj. Open           float64\n",
       "Adj. High           float64\n",
       "Adj. Low            float64\n",
       "Adj. Close          float64\n",
       "Adj. Volume         float64\n",
       "dtype: object"
      ]
     },
     "execution_count": 131,
     "metadata": {},
     "output_type": "execute_result"
    }
   ],
   "source": [
    "stock_combo.dtypes"
   ]
  },
  {
   "cell_type": "code",
   "execution_count": 132,
   "metadata": {},
   "outputs": [],
   "source": [
    "stock_combo['SlowK'] = stock_combo['SlowK'].astype(float)\n",
    "stock_combo['SlowD'] = stock_combo['SlowD'].astype(float)\n",
    "stock_combo['ADX'] = stock_combo['ADX'].astype(float)\n",
    "stock_combo['Real Upper Band'] = stock_combo['Real Upper Band'].astype(float)\n",
    "stock_combo['Real Middle Band'] = stock_combo['Real Middle Band'].astype(float)\n",
    "stock_combo['Real Lower Band'] = stock_combo['Real Lower Band'].astype(float)\n",
    "stock_combo['EMA'] = stock_combo['EMA'].astype(float)\n",
    "stock_combo['MACD_Signal'] = stock_combo['MACD_Signal'].astype(float)\n",
    "stock_combo['MACD_Hist'] =stock_combo['MACD_Hist'].astype(float)\n",
    "stock_combo['MACD'] = stock_combo['MACD'].astype(float)\n",
    "stock_combo['RSI'] = stock_combo['RSI'].astype(float)"
   ]
  },
  {
   "cell_type": "code",
   "execution_count": 133,
   "metadata": {},
   "outputs": [],
   "source": [
    "stock_combo = stock_combo.drop(columns=[\"Symbol\"])"
   ]
  },
  {
   "cell_type": "code",
   "execution_count": 134,
   "metadata": {},
   "outputs": [],
   "source": [
    "stock_combo.insert(0, \"date\", stock_combo.index)"
   ]
  },
  {
   "cell_type": "code",
   "execution_count": 135,
   "metadata": {},
   "outputs": [
    {
     "data": {
      "text/html": [
       "<div>\n",
       "<style scoped>\n",
       "    .dataframe tbody tr th:only-of-type {\n",
       "        vertical-align: middle;\n",
       "    }\n",
       "\n",
       "    .dataframe tbody tr th {\n",
       "        vertical-align: top;\n",
       "    }\n",
       "\n",
       "    .dataframe thead th {\n",
       "        text-align: right;\n",
       "    }\n",
       "</style>\n",
       "<table border=\"1\" class=\"dataframe\">\n",
       "  <thead>\n",
       "    <tr style=\"text-align: right;\">\n",
       "      <th></th>\n",
       "      <th>date</th>\n",
       "      <th>SlowD</th>\n",
       "      <th>SlowK</th>\n",
       "      <th>ADX</th>\n",
       "      <th>Real Lower Band</th>\n",
       "      <th>Real Middle Band</th>\n",
       "      <th>Real Upper Band</th>\n",
       "      <th>EMA</th>\n",
       "      <th>MACD_Hist</th>\n",
       "      <th>MACD_Signal</th>\n",
       "      <th>...</th>\n",
       "      <th>Low</th>\n",
       "      <th>Close</th>\n",
       "      <th>Volume</th>\n",
       "      <th>Ex-Dividend</th>\n",
       "      <th>Split Ratio</th>\n",
       "      <th>Adj. Open</th>\n",
       "      <th>Adj. High</th>\n",
       "      <th>Adj. Low</th>\n",
       "      <th>Adj. Close</th>\n",
       "      <th>Adj. Volume</th>\n",
       "    </tr>\n",
       "    <tr>\n",
       "      <th>Date</th>\n",
       "      <th></th>\n",
       "      <th></th>\n",
       "      <th></th>\n",
       "      <th></th>\n",
       "      <th></th>\n",
       "      <th></th>\n",
       "      <th></th>\n",
       "      <th></th>\n",
       "      <th></th>\n",
       "      <th></th>\n",
       "      <th></th>\n",
       "      <th></th>\n",
       "      <th></th>\n",
       "      <th></th>\n",
       "      <th></th>\n",
       "      <th></th>\n",
       "      <th></th>\n",
       "      <th></th>\n",
       "      <th></th>\n",
       "      <th></th>\n",
       "      <th></th>\n",
       "    </tr>\n",
       "  </thead>\n",
       "  <tbody>\n",
       "    <tr>\n",
       "      <th>1998-03-02</th>\n",
       "      <td>1998-03-02</td>\n",
       "      <td>18.1057</td>\n",
       "      <td>17.8192</td>\n",
       "      <td>27.66</td>\n",
       "      <td>59.5815</td>\n",
       "      <td>64.8855</td>\n",
       "      <td>70.1895</td>\n",
       "      <td>64.53</td>\n",
       "      <td>0.07</td>\n",
       "      <td>0.6278</td>\n",
       "      <td>...</td>\n",
       "      <td>63.63</td>\n",
       "      <td>64.63</td>\n",
       "      <td>2262900.0</td>\n",
       "      <td>0.0</td>\n",
       "      <td>1.0</td>\n",
       "      <td>15.027139</td>\n",
       "      <td>15.364854</td>\n",
       "      <td>15.027139</td>\n",
       "      <td>15.263303</td>\n",
       "      <td>6788700.0</td>\n",
       "    </tr>\n",
       "  </tbody>\n",
       "</table>\n",
       "<p>1 rows × 24 columns</p>\n",
       "</div>"
      ],
      "text/plain": [
       "                 date    SlowD    SlowK    ADX  Real Lower Band  \\\n",
       "Date                                                              \n",
       "1998-03-02 1998-03-02  18.1057  17.8192  27.66          59.5815   \n",
       "\n",
       "            Real Middle Band  Real Upper Band    EMA  MACD_Hist  MACD_Signal  \\\n",
       "Date                                                                           \n",
       "1998-03-02           64.8855          70.1895  64.53       0.07       0.6278   \n",
       "\n",
       "               ...         Low  Close     Volume  Ex-Dividend  Split Ratio  \\\n",
       "Date           ...                                                           \n",
       "1998-03-02     ...       63.63  64.63  2262900.0          0.0          1.0   \n",
       "\n",
       "            Adj. Open  Adj. High   Adj. Low  Adj. Close  Adj. Volume  \n",
       "Date                                                                  \n",
       "1998-03-02  15.027139  15.364854  15.027139   15.263303    6788700.0  \n",
       "\n",
       "[1 rows x 24 columns]"
      ]
     },
     "execution_count": 135,
     "metadata": {},
     "output_type": "execute_result"
    }
   ],
   "source": [
    "stock_combo.head(1)"
   ]
  },
  {
   "cell_type": "code",
   "execution_count": 136,
   "metadata": {},
   "outputs": [],
   "source": [
    "#stock_combo.reset_index(drop='False')"
   ]
  },
  {
   "cell_type": "code",
   "execution_count": 156,
   "metadata": {},
   "outputs": [
    {
     "data": {
      "text/plain": [
       "Text(0, 0.5, 'Adjusted Closing Price')"
      ]
     },
     "execution_count": 156,
     "metadata": {},
     "output_type": "execute_result"
    },
    {
     "data": {
      "image/png": "[encoded data removed]",
      "text/plain": [
       "<Figure size 1440x360 with 2 Axes>"
      ]
     },
     "metadata": {
      "needs_background": "light"
     },
     "output_type": "display_data"
    }
   ],
   "source": [
    "plt.figure(figsize=(20,5))\n",
    "plt.subplot(1, 2, 1)\n",
    "plt.plot(stock_combo['Close'])\n",
    "#plt.xticks(stock_combo['date'])\n",
    "plt.title(f'{ticker}', fontsize=18)\n",
    "plt.xlabel('Date',fontsize=18)\n",
    "plt.ylabel('Closing Price',fontsize=18)\n",
    "\n",
    "\n",
    "plt.subplot(1, 2, 2)\n",
    "plt.plot(stock_combo['Adj. Close'], color='orange')\n",
    "#plt.xticks(stock_combo['date'])\n",
    "plt.title(f'{ticker}', fontsize=18)\n",
    "plt.xlabel('Date',fontsize=18)\n",
    "plt.ylabel('Adjusted Closing Price',fontsize=18)"
   ]
  },
  {
   "cell_type": "code",
   "execution_count": 159,
   "metadata": {},
   "outputs": [
    {
     "data": {
      "image/png": "[encoded data removed]",
      "text/plain": [
       "<Figure size 1296x648 with 1 Axes>"
      ]
     },
     "metadata": {
      "needs_background": "light"
     },
     "output_type": "display_data"
    }
   ],
   "source": [
    "\n",
    "plt.figure(figsize = (18,9))\n",
    "plt.plot(stock_combo['Adj. Close'], color='orange')\n",
    "plt.plot(stock_combo['Real Upper Band'], color='red')\n",
    "plt.plot(stock_combo['Real Lower Band'], color='red')\n",
    "plt.plot(stock_combo['EMA'], color='green')\n",
    "plt.plot(stock_combo['MACD'], color='black')\n",
    "#plt.plot(stock_combo['Real Middle Band'], color='red')\n",
    "#plt.xticks(stock_combo['date'])\n",
    "plt.title(f'{ticker}', fontsize=18)\n",
    "plt.xlabel('Date',fontsize=18)\n",
    "plt.ylabel('Adjusted Closing Price',fontsize=18)\n",
    "plt.grid(b=None, which='major', axis='both')\n",
    "plt.savefig(\"output_images/stock_charts/AAPL_close_adj.png\")\n",
    "plt.show()"
   ]
  },
  {
   "cell_type": "code",
   "execution_count": 133,
   "metadata": {},
   "outputs": [
    {
     "name": "stderr",
     "output_type": "stream",
     "text": [
      "X:\\Users\\cwess_000\\Anaconda3\\envs\\PythonData\\lib\\site-packages\\ipykernel_launcher.py:1: FutureWarning: Method .as_matrix will be removed in a future version. Use .values instead.\n",
      "  \"\"\"Entry point for launching an IPython kernel.\n",
      "X:\\Users\\cwess_000\\Anaconda3\\envs\\PythonData\\lib\\site-packages\\ipykernel_launcher.py:2: FutureWarning: Method .as_matrix will be removed in a future version. Use .values instead.\n",
      "  \n"
     ]
    }
   ],
   "source": [
    "high_prices = stock_combo.loc[:,'High'].as_matrix()\n",
    "low_prices = stock_combo.loc[:,'Low'].as_matrix()\n",
    "mid_prices = (high_prices+low_prices)/2.0"
   ]
  },
  {
   "cell_type": "code",
   "execution_count": 140,
   "metadata": {},
   "outputs": [],
   "source": [
    "training_set = stock_combo.iloc[:, 1:2].values"
   ]
  },
  {
   "cell_type": "code",
   "execution_count": 142,
   "metadata": {
    "collapsed": true
   },
   "outputs": [
    {
     "data": {
      "text/html": [
       "<div>\n",
       "<style scoped>\n",
       "    .dataframe tbody tr th:only-of-type {\n",
       "        vertical-align: middle;\n",
       "    }\n",
       "\n",
       "    .dataframe tbody tr th {\n",
       "        vertical-align: top;\n",
       "    }\n",
       "\n",
       "    .dataframe thead th {\n",
       "        text-align: right;\n",
       "    }\n",
       "</style>\n",
       "<table border=\"1\" class=\"dataframe\">\n",
       "  <thead>\n",
       "    <tr style=\"text-align: right;\">\n",
       "      <th></th>\n",
       "      <th>date</th>\n",
       "      <th>SlowK</th>\n",
       "      <th>SlowD</th>\n",
       "      <th>Symbol</th>\n",
       "      <th>ADX</th>\n",
       "      <th>Real Middle Band</th>\n",
       "      <th>Real Lower Band</th>\n",
       "      <th>Real Upper Band</th>\n",
       "      <th>EMA</th>\n",
       "      <th>MACD_Hist</th>\n",
       "      <th>...</th>\n",
       "      <th>Low</th>\n",
       "      <th>Close</th>\n",
       "      <th>Volume</th>\n",
       "      <th>Ex-Dividend</th>\n",
       "      <th>Split Ratio</th>\n",
       "      <th>Adj. Open</th>\n",
       "      <th>Adj. High</th>\n",
       "      <th>Adj. Low</th>\n",
       "      <th>Adj. Close</th>\n",
       "      <th>Adj. Volume</th>\n",
       "    </tr>\n",
       "    <tr>\n",
       "      <th>Date</th>\n",
       "      <th></th>\n",
       "      <th></th>\n",
       "      <th></th>\n",
       "      <th></th>\n",
       "      <th></th>\n",
       "      <th></th>\n",
       "      <th></th>\n",
       "      <th></th>\n",
       "      <th></th>\n",
       "      <th></th>\n",
       "      <th></th>\n",
       "      <th></th>\n",
       "      <th></th>\n",
       "      <th></th>\n",
       "      <th></th>\n",
       "      <th></th>\n",
       "      <th></th>\n",
       "      <th></th>\n",
       "      <th></th>\n",
       "      <th></th>\n",
       "      <th></th>\n",
       "    </tr>\n",
       "  </thead>\n",
       "  <tbody>\n",
       "    <tr>\n",
       "      <th>1998-10-19</th>\n",
       "      <td>1998-10-19</td>\n",
       "      <td>81.0594</td>\n",
       "      <td>88.1549</td>\n",
       "      <td>PG</td>\n",
       "      <td>20.9423</td>\n",
       "      <td>75.9710</td>\n",
       "      <td>63.9886</td>\n",
       "      <td>87.9534</td>\n",
       "      <td>77.4312</td>\n",
       "      <td>1.1577</td>\n",
       "      <td>...</td>\n",
       "      <td>82.00</td>\n",
       "      <td>82.06</td>\n",
       "      <td>1935300.0</td>\n",
       "      <td>0.000</td>\n",
       "      <td>1.0</td>\n",
       "      <td>25.741990</td>\n",
       "      <td>25.741990</td>\n",
       "      <td>25.315942</td>\n",
       "      <td>25.334466</td>\n",
       "      <td>3870600.0</td>\n",
       "    </tr>\n",
       "    <tr>\n",
       "      <th>1998-10-20</th>\n",
       "      <td>1998-10-20</td>\n",
       "      <td>72.2469</td>\n",
       "      <td>81.6442</td>\n",
       "      <td>PG</td>\n",
       "      <td>21.0061</td>\n",
       "      <td>76.5085</td>\n",
       "      <td>64.2961</td>\n",
       "      <td>88.7209</td>\n",
       "      <td>77.8844</td>\n",
       "      <td>1.0167</td>\n",
       "      <td>...</td>\n",
       "      <td>81.44</td>\n",
       "      <td>82.19</td>\n",
       "      <td>2790300.0</td>\n",
       "      <td>0.000</td>\n",
       "      <td>1.0</td>\n",
       "      <td>25.315942</td>\n",
       "      <td>25.856221</td>\n",
       "      <td>25.143052</td>\n",
       "      <td>25.374601</td>\n",
       "      <td>5580600.0</td>\n",
       "    </tr>\n",
       "    <tr>\n",
       "      <th>1998-10-21</th>\n",
       "      <td>1998-10-21</td>\n",
       "      <td>71.3832</td>\n",
       "      <td>74.8965</td>\n",
       "      <td>PG</td>\n",
       "      <td>20.9452</td>\n",
       "      <td>76.9520</td>\n",
       "      <td>63.9037</td>\n",
       "      <td>90.0003</td>\n",
       "      <td>78.4487</td>\n",
       "      <td>0.9687</td>\n",
       "      <td>...</td>\n",
       "      <td>80.94</td>\n",
       "      <td>83.81</td>\n",
       "      <td>2024800.0</td>\n",
       "      <td>0.285</td>\n",
       "      <td>1.0</td>\n",
       "      <td>25.324585</td>\n",
       "      <td>25.984418</td>\n",
       "      <td>25.073662</td>\n",
       "      <td>25.962733</td>\n",
       "      <td>4049600.0</td>\n",
       "    </tr>\n",
       "    <tr>\n",
       "      <th>1998-10-22</th>\n",
       "      <td>1998-10-22</td>\n",
       "      <td>82.2930</td>\n",
       "      <td>75.3077</td>\n",
       "      <td>PG</td>\n",
       "      <td>21.3508</td>\n",
       "      <td>77.6710</td>\n",
       "      <td>63.4922</td>\n",
       "      <td>91.8498</td>\n",
       "      <td>79.2517</td>\n",
       "      <td>1.0720</td>\n",
       "      <td>...</td>\n",
       "      <td>83.00</td>\n",
       "      <td>86.88</td>\n",
       "      <td>4300900.0</td>\n",
       "      <td>0.000</td>\n",
       "      <td>1.0</td>\n",
       "      <td>25.962733</td>\n",
       "      <td>26.950934</td>\n",
       "      <td>25.711811</td>\n",
       "      <td>26.913760</td>\n",
       "      <td>8601800.0</td>\n",
       "    </tr>\n",
       "    <tr>\n",
       "      <th>1998-10-23</th>\n",
       "      <td>1998-10-23</td>\n",
       "      <td>91.6340</td>\n",
       "      <td>81.7701</td>\n",
       "      <td>PG</td>\n",
       "      <td>21.8693</td>\n",
       "      <td>78.5180</td>\n",
       "      <td>63.8760</td>\n",
       "      <td>93.1600</td>\n",
       "      <td>80.0316</td>\n",
       "      <td>1.1019</td>\n",
       "      <td>...</td>\n",
       "      <td>86.44</td>\n",
       "      <td>87.44</td>\n",
       "      <td>3723300.0</td>\n",
       "      <td>0.000</td>\n",
       "      <td>1.0</td>\n",
       "      <td>26.950934</td>\n",
       "      <td>27.260715</td>\n",
       "      <td>26.777457</td>\n",
       "      <td>27.087238</td>\n",
       "      <td>7446600.0</td>\n",
       "    </tr>\n",
       "  </tbody>\n",
       "</table>\n",
       "<p>5 rows × 25 columns</p>\n",
       "</div>"
      ],
      "text/plain": [
       "                 date    SlowK    SlowD Symbol      ADX  Real Middle Band  \\\n",
       "Date                                                                        \n",
       "1998-10-19 1998-10-19  81.0594  88.1549     PG  20.9423           75.9710   \n",
       "1998-10-20 1998-10-20  72.2469  81.6442     PG  21.0061           76.5085   \n",
       "1998-10-21 1998-10-21  71.3832  74.8965     PG  20.9452           76.9520   \n",
       "1998-10-22 1998-10-22  82.2930  75.3077     PG  21.3508           77.6710   \n",
       "1998-10-23 1998-10-23  91.6340  81.7701     PG  21.8693           78.5180   \n",
       "\n",
       "            Real Lower Band  Real Upper Band      EMA  MACD_Hist     ...       \\\n",
       "Date                                                                 ...        \n",
       "1998-10-19          63.9886          87.9534  77.4312     1.1577     ...        \n",
       "1998-10-20          64.2961          88.7209  77.8844     1.0167     ...        \n",
       "1998-10-21          63.9037          90.0003  78.4487     0.9687     ...        \n",
       "1998-10-22          63.4922          91.8498  79.2517     1.0720     ...        \n",
       "1998-10-23          63.8760          93.1600  80.0316     1.1019     ...        \n",
       "\n",
       "              Low  Close     Volume  Ex-Dividend  Split Ratio  Adj. Open  \\\n",
       "Date                                                                       \n",
       "1998-10-19  82.00  82.06  1935300.0        0.000          1.0  25.741990   \n",
       "1998-10-20  81.44  82.19  2790300.0        0.000          1.0  25.315942   \n",
       "1998-10-21  80.94  83.81  2024800.0        0.285          1.0  25.324585   \n",
       "1998-10-22  83.00  86.88  4300900.0        0.000          1.0  25.962733   \n",
       "1998-10-23  86.44  87.44  3723300.0        0.000          1.0  26.950934   \n",
       "\n",
       "            Adj. High   Adj. Low  Adj. Close  Adj. Volume  \n",
       "Date                                                       \n",
       "1998-10-19  25.741990  25.315942   25.334466    3870600.0  \n",
       "1998-10-20  25.856221  25.143052   25.374601    5580600.0  \n",
       "1998-10-21  25.984418  25.073662   25.962733    4049600.0  \n",
       "1998-10-22  26.950934  25.711811   26.913760    8601800.0  \n",
       "1998-10-23  27.260715  26.777457   27.087238    7446600.0  \n",
       "\n",
       "[5 rows x 25 columns]"
      ]
     },
     "execution_count": 142,
     "metadata": {},
     "output_type": "execute_result"
    }
   ],
   "source": [
    "stock_combo.head()"
   ]
  },
  {
   "cell_type": "code",
   "execution_count": 143,
   "metadata": {},
   "outputs": [],
   "source": [
    "from sklearn.preprocessing import MinMaxScaler\n",
    "sc = MinMaxScaler(feature_range = (0, 1))\n",
    "training_set_scaled = sc.fit_transform(training_set)"
   ]
  },
  {
   "cell_type": "code",
   "execution_count": 144,
   "metadata": {},
   "outputs": [],
   "source": [
    "X_train = []\n",
    "y_train = []\n",
    "for i in range(60, 2035):\n",
    "    X_train.append(training_set_scaled[i-60:i, 0])\n",
    "    y_train.append(training_set_scaled[i, 0])\n",
    "X_train, y_train = np.array(X_train), np.array(y_train)\n",
    "\n",
    "X_train = np.reshape(X_train, (X_train.shape[0], X_train.shape[1], 1))"
   ]
  },
  {
   "cell_type": "code",
   "execution_count": 148,
   "metadata": {},
   "outputs": [
    {
     "data": {
      "text/plain": [
       "1975"
      ]
     },
     "execution_count": 148,
     "metadata": {},
     "output_type": "execute_result"
    }
   ],
   "source": [
    "len(X_train)"
   ]
  },
  {
   "cell_type": "code",
   "execution_count": 145,
   "metadata": {},
   "outputs": [
    {
     "name": "stderr",
     "output_type": "stream",
     "text": [
      "Using TensorFlow backend.\n"
     ]
    }
   ],
   "source": [
    "from keras.models import Sequential\n",
    "from keras.layers import Dense\n",
    "from keras.layers import LSTM\n",
    "from keras.layers import Dropout"
   ]
  },
  {
   "cell_type": "code",
   "execution_count": 146,
   "metadata": {
    "scrolled": true
   },
   "outputs": [
    {
     "name": "stdout",
     "output_type": "stream",
     "text": [
      "WARNING:tensorflow:From X:\\Users\\cwess_000\\Anaconda3\\envs\\PythonData\\lib\\site-packages\\tensorflow\\python\\framework\\op_def_library.py:263: colocate_with (from tensorflow.python.framework.ops) is deprecated and will be removed in a future version.\n",
      "Instructions for updating:\n",
      "Colocations handled automatically by placer.\n",
      "WARNING:tensorflow:From X:\\Users\\cwess_000\\Anaconda3\\envs\\PythonData\\lib\\site-packages\\keras\\backend\\tensorflow_backend.py:3445: calling dropout (from tensorflow.python.ops.nn_ops) with keep_prob is deprecated and will be removed in a future version.\n",
      "Instructions for updating:\n",
      "Please use `rate` instead of `keep_prob`. Rate should be set to `rate = 1 - keep_prob`.\n",
      "WARNING:tensorflow:From X:\\Users\\cwess_000\\Anaconda3\\envs\\PythonData\\lib\\site-packages\\tensorflow\\python\\ops\\math_ops.py:3066: to_int32 (from tensorflow.python.ops.math_ops) is deprecated and will be removed in a future version.\n",
      "Instructions for updating:\n",
      "Use tf.cast instead.\n",
      "Epoch 1/100\n",
      "1975/1975 [==============================] - 8s 4ms/step - loss: 0.0921\n",
      "Epoch 2/100\n",
      "1975/1975 [==============================] - 5s 3ms/step - loss: 0.0666\n",
      "Epoch 3/100\n",
      "1975/1975 [==============================] - 5s 3ms/step - loss: 0.0653\n",
      "Epoch 4/100\n",
      "1975/1975 [==============================] - 5s 3ms/step - loss: 0.0647\n",
      "Epoch 5/100\n",
      "1975/1975 [==============================] - 5s 3ms/step - loss: 0.0629\n",
      "Epoch 6/100\n",
      "1975/1975 [==============================] - 5s 2ms/step - loss: 0.0631\n",
      "Epoch 7/100\n",
      "1975/1975 [==============================] - 5s 2ms/step - loss: 0.0615\n",
      "Epoch 8/100\n",
      "1975/1975 [==============================] - 5s 2ms/step - loss: 0.0603\n",
      "Epoch 9/100\n",
      "1975/1975 [==============================] - 5s 2ms/step - loss: 0.0567\n",
      "Epoch 10/100\n",
      "1975/1975 [==============================] - 5s 3ms/step - loss: 0.0427\n",
      "Epoch 11/100\n",
      "1975/1975 [==============================] - 5s 2ms/step - loss: 0.0291\n",
      "Epoch 12/100\n",
      "1975/1975 [==============================] - 5s 2ms/step - loss: 0.0227\n",
      "Epoch 13/100\n",
      "1975/1975 [==============================] - 5s 3ms/step - loss: 0.0193\n",
      "Epoch 14/100\n",
      "1975/1975 [==============================] - 5s 3ms/step - loss: 0.0183\n",
      "Epoch 15/100\n",
      "1975/1975 [==============================] - 5s 3ms/step - loss: 0.0167\n",
      "Epoch 16/100\n",
      "1975/1975 [==============================] - 5s 3ms/step - loss: 0.0167\n",
      "Epoch 17/100\n",
      "1975/1975 [==============================] - 5s 3ms/step - loss: 0.0158\n",
      "Epoch 18/100\n",
      "1975/1975 [==============================] - 5s 3ms/step - loss: 0.0150\n",
      "Epoch 19/100\n",
      "1975/1975 [==============================] - 5s 3ms/step - loss: 0.0143\n",
      "Epoch 20/100\n",
      "1975/1975 [==============================] - 5s 3ms/step - loss: 0.0147\n",
      "Epoch 21/100\n",
      "1975/1975 [==============================] - 5s 3ms/step - loss: 0.0136\n",
      "Epoch 22/100\n",
      "1975/1975 [==============================] - 5s 3ms/step - loss: 0.0127\n",
      "Epoch 23/100\n",
      "1975/1975 [==============================] - 5s 3ms/step - loss: 0.0120\n",
      "Epoch 24/100\n",
      "1975/1975 [==============================] - 5s 3ms/step - loss: 0.0118\n",
      "Epoch 25/100\n",
      "1975/1975 [==============================] - 5s 3ms/step - loss: 0.0117\n",
      "Epoch 26/100\n",
      "1975/1975 [==============================] - 6s 3ms/step - loss: 0.0120\n",
      "Epoch 27/100\n",
      "1975/1975 [==============================] - 6s 3ms/step - loss: 0.0117\n",
      "Epoch 28/100\n",
      "1975/1975 [==============================] - 5s 3ms/step - loss: 0.0120\n",
      "Epoch 29/100\n",
      "1975/1975 [==============================] - 6s 3ms/step - loss: 0.0115\n",
      "Epoch 30/100\n",
      "1975/1975 [==============================] - 6s 3ms/step - loss: 0.0114\n",
      "Epoch 31/100\n",
      "1975/1975 [==============================] - 6s 3ms/step - loss: 0.0106\n",
      "Epoch 32/100\n",
      "1975/1975 [==============================] - 6s 3ms/step - loss: 0.0109\n",
      "Epoch 33/100\n",
      "1975/1975 [==============================] - 6s 3ms/step - loss: 0.0106\n",
      "Epoch 34/100\n",
      "1975/1975 [==============================] - 6s 3ms/step - loss: 0.0115\n",
      "Epoch 35/100\n",
      "1975/1975 [==============================] - 6s 3ms/step - loss: 0.0107\n",
      "Epoch 36/100\n",
      "1975/1975 [==============================] - 6s 3ms/step - loss: 0.0108\n",
      "Epoch 37/100\n",
      "1975/1975 [==============================] - 6s 3ms/step - loss: 0.0104\n",
      "Epoch 38/100\n",
      "1975/1975 [==============================] - 6s 3ms/step - loss: 0.0109\n",
      "Epoch 39/100\n",
      "1975/1975 [==============================] - 7s 4ms/step - loss: 0.0104\n",
      "Epoch 40/100\n",
      "1975/1975 [==============================] - 7s 3ms/step - loss: 0.0105\n",
      "Epoch 41/100\n",
      "1975/1975 [==============================] - 6s 3ms/step - loss: 0.0097\n",
      "Epoch 42/100\n",
      "1975/1975 [==============================] - 6s 3ms/step - loss: 0.0105\n",
      "Epoch 43/100\n",
      "1975/1975 [==============================] - 6s 3ms/step - loss: 0.0097\n",
      "Epoch 44/100\n",
      "1975/1975 [==============================] - 6s 3ms/step - loss: 0.0106\n",
      "Epoch 45/100\n",
      "1975/1975 [==============================] - 7s 4ms/step - loss: 0.0098\n",
      "Epoch 46/100\n",
      "1975/1975 [==============================] - 7s 3ms/step - loss: 0.0095\n",
      "Epoch 47/100\n",
      "1975/1975 [==============================] - 7s 4ms/step - loss: 0.0101\n",
      "Epoch 48/100\n",
      "1975/1975 [==============================] - 7s 3ms/step - loss: 0.0103\n",
      "Epoch 49/100\n",
      "1975/1975 [==============================] - 7s 3ms/step - loss: 0.0098\n",
      "Epoch 50/100\n",
      "1975/1975 [==============================] - 7s 3ms/step - loss: 0.0100\n",
      "Epoch 51/100\n",
      "1975/1975 [==============================] - 7s 3ms/step - loss: 0.0098\n",
      "Epoch 52/100\n",
      "1975/1975 [==============================] - 7s 3ms/step - loss: 0.0096\n",
      "Epoch 53/100\n",
      "1975/1975 [==============================] - 7s 3ms/step - loss: 0.0095\n",
      "Epoch 54/100\n",
      "1975/1975 [==============================] - 6s 3ms/step - loss: 0.0093\n",
      "Epoch 55/100\n",
      "1975/1975 [==============================] - 7s 3ms/step - loss: 0.0093\n",
      "Epoch 56/100\n",
      "1975/1975 [==============================] - 7s 3ms/step - loss: 0.0097\n",
      "Epoch 57/100\n",
      "1975/1975 [==============================] - 7s 3ms/step - loss: 0.0095\n",
      "Epoch 58/100\n",
      "1975/1975 [==============================] - 7s 3ms/step - loss: 0.0091\n",
      "Epoch 59/100\n",
      "1975/1975 [==============================] - 6s 3ms/step - loss: 0.0092\n",
      "Epoch 60/100\n",
      "1975/1975 [==============================] - 7s 3ms/step - loss: 0.0098\n",
      "Epoch 61/100\n",
      "1975/1975 [==============================] - 7s 3ms/step - loss: 0.0096\n",
      "Epoch 62/100\n",
      "1975/1975 [==============================] - 7s 3ms/step - loss: 0.0096A: 1s - lo\n",
      "Epoch 63/100\n",
      "1975/1975 [==============================] - 7s 3ms/step - loss: 0.0093\n",
      "Epoch 64/100\n",
      "1975/1975 [==============================] - 7s 3ms/step - loss: 0.0094\n",
      "Epoch 65/100\n",
      "1975/1975 [==============================] - 7s 4ms/step - loss: 0.0094\n",
      "Epoch 66/100\n",
      "1975/1975 [==============================] - 7s 3ms/step - loss: 0.0091\n",
      "Epoch 67/100\n",
      "1975/1975 [==============================] - 7s 3ms/step - loss: 0.0092\n",
      "Epoch 68/100\n",
      "1975/1975 [==============================] - 7s 4ms/step - loss: 0.0099\n",
      "Epoch 69/100\n",
      "1975/1975 [==============================] - 6s 3ms/step - loss: 0.0094\n",
      "Epoch 70/100\n",
      "1975/1975 [==============================] - 6s 3ms/step - loss: 0.0090\n",
      "Epoch 71/100\n",
      "1975/1975 [==============================] - 6s 3ms/step - loss: 0.0090\n",
      "Epoch 72/100\n",
      "1975/1975 [==============================] - 7s 3ms/step - loss: 0.0089\n",
      "Epoch 73/100\n",
      "1975/1975 [==============================] - 7s 3ms/step - loss: 0.0090\n",
      "Epoch 74/100\n",
      "1975/1975 [==============================] - 7s 3ms/step - loss: 0.0092\n",
      "Epoch 75/100\n",
      "1975/1975 [==============================] - 7s 4ms/step - loss: 0.0093\n",
      "Epoch 76/100\n",
      "1975/1975 [==============================] - 7s 3ms/step - loss: 0.0089\n",
      "Epoch 77/100\n",
      "1975/1975 [==============================] - 7s 3ms/step - loss: 0.0091\n",
      "Epoch 78/100\n",
      "1975/1975 [==============================] - 7s 3ms/step - loss: 0.0090\n",
      "Epoch 79/100\n",
      "1975/1975 [==============================] - 6s 3ms/step - loss: 0.0093\n",
      "Epoch 80/100\n",
      "1975/1975 [==============================] - 7s 3ms/step - loss: 0.0088\n",
      "Epoch 81/100\n",
      "1975/1975 [==============================] - 6s 3ms/step - loss: 0.0087\n",
      "Epoch 82/100\n",
      "1975/1975 [==============================] - 6s 3ms/step - loss: 0.0087\n",
      "Epoch 83/100\n",
      "1975/1975 [==============================] - 6s 3ms/step - loss: 0.0088\n",
      "Epoch 84/100\n",
      "1975/1975 [==============================] - 7s 3ms/step - loss: 0.0089\n",
      "Epoch 85/100\n",
      "1975/1975 [==============================] - 6s 3ms/step - loss: 0.0084\n",
      "Epoch 86/100\n"
     ]
    },
    {
     "name": "stdout",
     "output_type": "stream",
     "text": [
      "1975/1975 [==============================] - 6s 3ms/step - loss: 0.0090\n",
      "Epoch 87/100\n",
      "1975/1975 [==============================] - 6s 3ms/step - loss: 0.0087\n",
      "Epoch 88/100\n",
      "1975/1975 [==============================] - 6s 3ms/step - loss: 0.0086\n",
      "Epoch 89/100\n",
      "1975/1975 [==============================] - 6s 3ms/step - loss: 0.0089\n",
      "Epoch 90/100\n",
      "1975/1975 [==============================] - 6s 3ms/step - loss: 0.0088\n",
      "Epoch 91/100\n",
      "1975/1975 [==============================] - 6s 3ms/step - loss: 0.0087\n",
      "Epoch 92/100\n",
      "1975/1975 [==============================] - 6s 3ms/step - loss: 0.0087\n",
      "Epoch 93/100\n",
      "1975/1975 [==============================] - 6s 3ms/step - loss: 0.0088\n",
      "Epoch 94/100\n",
      "1975/1975 [==============================] - 6s 3ms/step - loss: 0.0089A: 1s - l\n",
      "Epoch 95/100\n",
      "1975/1975 [==============================] - 6s 3ms/step - loss: 0.0089\n",
      "Epoch 96/100\n",
      "1975/1975 [==============================] - 6s 3ms/step - loss: 0.0087\n",
      "Epoch 97/100\n",
      "1975/1975 [==============================] - 6s 3ms/step - loss: 0.0090\n",
      "Epoch 98/100\n",
      "1975/1975 [==============================] - 6s 3ms/step - loss: 0.0088\n",
      "Epoch 99/100\n",
      "1975/1975 [==============================] - 6s 3ms/step - loss: 0.0084\n",
      "Epoch 100/100\n",
      "1975/1975 [==============================] - 6s 3ms/step - loss: 0.0086\n"
     ]
    },
    {
     "data": {
      "text/plain": [
       "<keras.callbacks.History at 0x1fc245a6cc0>"
      ]
     },
     "execution_count": 146,
     "metadata": {},
     "output_type": "execute_result"
    }
   ],
   "source": [
    "regressor = Sequential()\n",
    "\n",
    "regressor.add(LSTM(units = 50, return_sequences = True, input_shape = (X_train.shape[1], 1)))\n",
    "regressor.add(Dropout(0.2))\n",
    "\n",
    "regressor.add(LSTM(units = 50, return_sequences = True))\n",
    "regressor.add(Dropout(0.2))\n",
    "\n",
    "regressor.add(LSTM(units = 50, return_sequences = True))\n",
    "regressor.add(Dropout(0.2))\n",
    "\n",
    "regressor.add(LSTM(units = 50))\n",
    "regressor.add(Dropout(0.2))\n",
    "\n",
    "regressor.add(Dense(units = 1))\n",
    "\n",
    "regressor.compile(optimizer = 'adam', loss = 'mean_squared_error')\n",
    "\n",
    "regressor.fit(X_train, y_train, epochs = 100, batch_size = 32)"
   ]
  },
  {
   "cell_type": "code",
   "execution_count": 151,
   "metadata": {},
   "outputs": [],
   "source": [
    "\n",
    "real_stock_price = stock_combo.iloc[:, 1:2].values"
   ]
  },
  {
   "cell_type": "code",
   "execution_count": 152,
   "metadata": {},
   "outputs": [],
   "source": [
    "sc = MinMaxScaler(feature_range = (0, 1))\n",
    "training_set_scaled = sc.fit_transform(training_set)"
   ]
  },
  {
   "cell_type": "code",
   "execution_count": 154,
   "metadata": {},
   "outputs": [
    {
     "ename": "IndexError",
     "evalue": "only integers, slices (`:`), ellipsis (`...`), numpy.newaxis (`None`) and integer or boolean arrays are valid indices",
     "output_type": "error",
     "traceback": [
      "\u001b[1;31m---------------------------------------------------------------------------\u001b[0m",
      "\u001b[1;31mIndexError\u001b[0m                                Traceback (most recent call last)",
      "\u001b[1;32m<ipython-input-154-eeb8b4a42b1c>\u001b[0m in \u001b[0;36m<module>\u001b[1;34m\u001b[0m\n\u001b[1;32m----> 1\u001b[1;33m \u001b[0mdataset_total\u001b[0m \u001b[1;33m=\u001b[0m \u001b[0mpd\u001b[0m\u001b[1;33m.\u001b[0m\u001b[0mconcat\u001b[0m\u001b[1;33m(\u001b[0m\u001b[1;33m(\u001b[0m\u001b[0mtraining_set\u001b[0m\u001b[1;33m[\u001b[0m\u001b[1;34m\"Open\"\u001b[0m\u001b[1;33m]\u001b[0m\u001b[1;33m,\u001b[0m \u001b[0mtraining_set\u001b[0m\u001b[1;33m[\u001b[0m\u001b[1;34m\"Open\"\u001b[0m\u001b[1;33m]\u001b[0m\u001b[1;33m)\u001b[0m\u001b[1;33m,\u001b[0m \u001b[0maxis\u001b[0m \u001b[1;33m=\u001b[0m \u001b[1;36m0\u001b[0m\u001b[1;33m)\u001b[0m\u001b[1;33m\u001b[0m\u001b[1;33m\u001b[0m\u001b[0m\n\u001b[0m\u001b[0;32m      2\u001b[0m \u001b[0minputs\u001b[0m \u001b[1;33m=\u001b[0m \u001b[0mdataset_total\u001b[0m\u001b[1;33m[\u001b[0m\u001b[0mlen\u001b[0m\u001b[1;33m(\u001b[0m\u001b[0mdataset_total\u001b[0m\u001b[1;33m)\u001b[0m \u001b[1;33m-\u001b[0m \u001b[0mlen\u001b[0m\u001b[1;33m(\u001b[0m\u001b[0mdataset_test\u001b[0m\u001b[1;33m)\u001b[0m \u001b[1;33m-\u001b[0m \u001b[1;36m60\u001b[0m\u001b[1;33m:\u001b[0m\u001b[1;33m]\u001b[0m\u001b[1;33m.\u001b[0m\u001b[0mvalues\u001b[0m\u001b[1;33m\u001b[0m\u001b[1;33m\u001b[0m\u001b[0m\n\u001b[0;32m      3\u001b[0m \u001b[0minputs\u001b[0m \u001b[1;33m=\u001b[0m \u001b[0minputs\u001b[0m\u001b[1;33m.\u001b[0m\u001b[0mreshape\u001b[0m\u001b[1;33m(\u001b[0m\u001b[1;33m-\u001b[0m\u001b[1;36m1\u001b[0m\u001b[1;33m,\u001b[0m\u001b[1;36m1\u001b[0m\u001b[1;33m)\u001b[0m\u001b[1;33m\u001b[0m\u001b[1;33m\u001b[0m\u001b[0m\n\u001b[0;32m      4\u001b[0m \u001b[0minputs\u001b[0m \u001b[1;33m=\u001b[0m \u001b[0msc\u001b[0m\u001b[1;33m.\u001b[0m\u001b[0mtransform\u001b[0m\u001b[1;33m(\u001b[0m\u001b[0minputs\u001b[0m\u001b[1;33m)\u001b[0m\u001b[1;33m\u001b[0m\u001b[1;33m\u001b[0m\u001b[0m\n\u001b[0;32m      5\u001b[0m \u001b[0mX_test\u001b[0m \u001b[1;33m=\u001b[0m \u001b[1;33m[\u001b[0m\u001b[1;33m]\u001b[0m\u001b[1;33m\u001b[0m\u001b[1;33m\u001b[0m\u001b[0m\n",
      "\u001b[1;31mIndexError\u001b[0m: only integers, slices (`:`), ellipsis (`...`), numpy.newaxis (`None`) and integer or boolean arrays are valid indices"
     ]
    }
   ],
   "source": [
    "dataset_total = pd.concat((training_set[\"Open\"], training_set[\"Open\"]), axis = 0)\n",
    "inputs = dataset_total[len(dataset_total) - len(dataset_test) - 60:].values\n",
    "inputs = inputs.reshape(-1,1)\n",
    "inputs = sc.transform(inputs)\n",
    "X_test = []\n",
    "for i in range(60, 76):\n",
    "    X_test.append(inputs[i-60:i, 0])\n",
    "X_test = np.array(X_test)\n",
    "X_test = np.reshape(X_test, (X_test.shape[0], X_test.shape[1], 1))\n",
    "predicted_stock_price = regressor.predict(X_test)\n",
    "predicted_stock_price = sc.inverse_transform(predicted_stock_price)"
   ]
  },
  {
   "cell_type": "code",
   "execution_count": 134,
   "metadata": {},
   "outputs": [],
   "source": [
    "train_data = mid_prices[:2600]\n",
    "test_data = mid_prices[2600:]"
   ]
  },
  {
   "cell_type": "code",
   "execution_count": 135,
   "metadata": {},
   "outputs": [
    {
     "data": {
      "text/plain": [
       "array([50.5778, 49.64  , 49.575 , ...,     nan,     nan,     nan])"
      ]
     },
     "execution_count": 135,
     "metadata": {},
     "output_type": "execute_result"
    }
   ],
   "source": [
    "test_data"
   ]
  },
  {
   "cell_type": "code",
   "execution_count": 136,
   "metadata": {},
   "outputs": [
    {
     "data": {
      "text/plain": [
       "array([82.69 , 82.595, 82.41 , ..., 50.11 , 50.46 , 51.54 ])"
      ]
     },
     "execution_count": 136,
     "metadata": {},
     "output_type": "execute_result"
    }
   ],
   "source": [
    "train_data"
   ]
  },
  {
   "cell_type": "code",
   "execution_count": 137,
   "metadata": {
    "collapsed": true
   },
   "outputs": [
    {
     "ename": "ValueError",
     "evalue": "Expected 2D array, got 1D array instead:\narray=[82.69  82.595 82.41  ... 50.11  50.46  51.54 ].\nReshape your data either using array.reshape(-1, 1) if your data has a single feature or array.reshape(1, -1) if it contains a single sample.",
     "output_type": "error",
     "traceback": [
      "\u001b[1;31m---------------------------------------------------------------------------\u001b[0m",
      "\u001b[1;31mValueError\u001b[0m                                Traceback (most recent call last)",
      "\u001b[1;32m<ipython-input-137-74d655eb4928>\u001b[0m in \u001b[0;36m<module>\u001b[1;34m\u001b[0m\n\u001b[0;32m      1\u001b[0m \u001b[0msc\u001b[0m \u001b[1;33m=\u001b[0m \u001b[0mMinMaxScaler\u001b[0m\u001b[1;33m(\u001b[0m\u001b[0mfeature_range\u001b[0m \u001b[1;33m=\u001b[0m \u001b[1;33m(\u001b[0m\u001b[1;36m0\u001b[0m\u001b[1;33m,\u001b[0m \u001b[1;36m1\u001b[0m\u001b[1;33m)\u001b[0m\u001b[1;33m)\u001b[0m\u001b[1;33m\u001b[0m\u001b[1;33m\u001b[0m\u001b[0m\n\u001b[1;32m----> 2\u001b[1;33m \u001b[0mtraining_set_scaled\u001b[0m \u001b[1;33m=\u001b[0m \u001b[0msc\u001b[0m\u001b[1;33m.\u001b[0m\u001b[0mfit_transform\u001b[0m\u001b[1;33m(\u001b[0m\u001b[0mtrain_data\u001b[0m\u001b[1;33m)\u001b[0m\u001b[1;33m\u001b[0m\u001b[1;33m\u001b[0m\u001b[0m\n\u001b[0m",
      "\u001b[1;32mX:\\Users\\cwess_000\\Anaconda3\\envs\\PythonData\\lib\\site-packages\\sklearn\\base.py\u001b[0m in \u001b[0;36mfit_transform\u001b[1;34m(self, X, y, **fit_params)\u001b[0m\n\u001b[0;32m    460\u001b[0m         \u001b[1;32mif\u001b[0m \u001b[0my\u001b[0m \u001b[1;32mis\u001b[0m \u001b[1;32mNone\u001b[0m\u001b[1;33m:\u001b[0m\u001b[1;33m\u001b[0m\u001b[1;33m\u001b[0m\u001b[0m\n\u001b[0;32m    461\u001b[0m             \u001b[1;31m# fit method of arity 1 (unsupervised transformation)\u001b[0m\u001b[1;33m\u001b[0m\u001b[1;33m\u001b[0m\u001b[1;33m\u001b[0m\u001b[0m\n\u001b[1;32m--> 462\u001b[1;33m             \u001b[1;32mreturn\u001b[0m \u001b[0mself\u001b[0m\u001b[1;33m.\u001b[0m\u001b[0mfit\u001b[0m\u001b[1;33m(\u001b[0m\u001b[0mX\u001b[0m\u001b[1;33m,\u001b[0m \u001b[1;33m**\u001b[0m\u001b[0mfit_params\u001b[0m\u001b[1;33m)\u001b[0m\u001b[1;33m.\u001b[0m\u001b[0mtransform\u001b[0m\u001b[1;33m(\u001b[0m\u001b[0mX\u001b[0m\u001b[1;33m)\u001b[0m\u001b[1;33m\u001b[0m\u001b[1;33m\u001b[0m\u001b[0m\n\u001b[0m\u001b[0;32m    463\u001b[0m         \u001b[1;32melse\u001b[0m\u001b[1;33m:\u001b[0m\u001b[1;33m\u001b[0m\u001b[1;33m\u001b[0m\u001b[0m\n\u001b[0;32m    464\u001b[0m             \u001b[1;31m# fit method of arity 2 (supervised transformation)\u001b[0m\u001b[1;33m\u001b[0m\u001b[1;33m\u001b[0m\u001b[1;33m\u001b[0m\u001b[0m\n",
      "\u001b[1;32mX:\\Users\\cwess_000\\Anaconda3\\envs\\PythonData\\lib\\site-packages\\sklearn\\preprocessing\\data.py\u001b[0m in \u001b[0;36mfit\u001b[1;34m(self, X, y)\u001b[0m\n\u001b[0;32m    321\u001b[0m         \u001b[1;31m# Reset internal state before fitting\u001b[0m\u001b[1;33m\u001b[0m\u001b[1;33m\u001b[0m\u001b[1;33m\u001b[0m\u001b[0m\n\u001b[0;32m    322\u001b[0m         \u001b[0mself\u001b[0m\u001b[1;33m.\u001b[0m\u001b[0m_reset\u001b[0m\u001b[1;33m(\u001b[0m\u001b[1;33m)\u001b[0m\u001b[1;33m\u001b[0m\u001b[1;33m\u001b[0m\u001b[0m\n\u001b[1;32m--> 323\u001b[1;33m         \u001b[1;32mreturn\u001b[0m \u001b[0mself\u001b[0m\u001b[1;33m.\u001b[0m\u001b[0mpartial_fit\u001b[0m\u001b[1;33m(\u001b[0m\u001b[0mX\u001b[0m\u001b[1;33m,\u001b[0m \u001b[0my\u001b[0m\u001b[1;33m)\u001b[0m\u001b[1;33m\u001b[0m\u001b[1;33m\u001b[0m\u001b[0m\n\u001b[0m\u001b[0;32m    324\u001b[0m \u001b[1;33m\u001b[0m\u001b[0m\n\u001b[0;32m    325\u001b[0m     \u001b[1;32mdef\u001b[0m \u001b[0mpartial_fit\u001b[0m\u001b[1;33m(\u001b[0m\u001b[0mself\u001b[0m\u001b[1;33m,\u001b[0m \u001b[0mX\u001b[0m\u001b[1;33m,\u001b[0m \u001b[0my\u001b[0m\u001b[1;33m=\u001b[0m\u001b[1;32mNone\u001b[0m\u001b[1;33m)\u001b[0m\u001b[1;33m:\u001b[0m\u001b[1;33m\u001b[0m\u001b[1;33m\u001b[0m\u001b[0m\n",
      "\u001b[1;32mX:\\Users\\cwess_000\\Anaconda3\\envs\\PythonData\\lib\\site-packages\\sklearn\\preprocessing\\data.py\u001b[0m in \u001b[0;36mpartial_fit\u001b[1;34m(self, X, y)\u001b[0m\n\u001b[0;32m    349\u001b[0m         X = check_array(X, copy=self.copy, warn_on_dtype=True,\n\u001b[0;32m    350\u001b[0m                         \u001b[0mestimator\u001b[0m\u001b[1;33m=\u001b[0m\u001b[0mself\u001b[0m\u001b[1;33m,\u001b[0m \u001b[0mdtype\u001b[0m\u001b[1;33m=\u001b[0m\u001b[0mFLOAT_DTYPES\u001b[0m\u001b[1;33m,\u001b[0m\u001b[1;33m\u001b[0m\u001b[1;33m\u001b[0m\u001b[0m\n\u001b[1;32m--> 351\u001b[1;33m                         force_all_finite=\"allow-nan\")\n\u001b[0m\u001b[0;32m    352\u001b[0m \u001b[1;33m\u001b[0m\u001b[0m\n\u001b[0;32m    353\u001b[0m         \u001b[0mdata_min\u001b[0m \u001b[1;33m=\u001b[0m \u001b[0mnp\u001b[0m\u001b[1;33m.\u001b[0m\u001b[0mnanmin\u001b[0m\u001b[1;33m(\u001b[0m\u001b[0mX\u001b[0m\u001b[1;33m,\u001b[0m \u001b[0maxis\u001b[0m\u001b[1;33m=\u001b[0m\u001b[1;36m0\u001b[0m\u001b[1;33m)\u001b[0m\u001b[1;33m\u001b[0m\u001b[1;33m\u001b[0m\u001b[0m\n",
      "\u001b[1;32mX:\\Users\\cwess_000\\Anaconda3\\envs\\PythonData\\lib\\site-packages\\sklearn\\utils\\validation.py\u001b[0m in \u001b[0;36mcheck_array\u001b[1;34m(array, accept_sparse, accept_large_sparse, dtype, order, copy, force_all_finite, ensure_2d, allow_nd, ensure_min_samples, ensure_min_features, warn_on_dtype, estimator)\u001b[0m\n\u001b[0;32m    550\u001b[0m                     \u001b[1;34m\"Reshape your data either using array.reshape(-1, 1) if \"\u001b[0m\u001b[1;33m\u001b[0m\u001b[1;33m\u001b[0m\u001b[0m\n\u001b[0;32m    551\u001b[0m                     \u001b[1;34m\"your data has a single feature or array.reshape(1, -1) \"\u001b[0m\u001b[1;33m\u001b[0m\u001b[1;33m\u001b[0m\u001b[0m\n\u001b[1;32m--> 552\u001b[1;33m                     \"if it contains a single sample.\".format(array))\n\u001b[0m\u001b[0;32m    553\u001b[0m \u001b[1;33m\u001b[0m\u001b[0m\n\u001b[0;32m    554\u001b[0m         \u001b[1;31m# in the future np.flexible dtypes will be handled like object dtypes\u001b[0m\u001b[1;33m\u001b[0m\u001b[1;33m\u001b[0m\u001b[1;33m\u001b[0m\u001b[0m\n",
      "\u001b[1;31mValueError\u001b[0m: Expected 2D array, got 1D array instead:\narray=[82.69  82.595 82.41  ... 50.11  50.46  51.54 ].\nReshape your data either using array.reshape(-1, 1) if your data has a single feature or array.reshape(1, -1) if it contains a single sample."
     ]
    }
   ],
   "source": [
    "sc = MinMaxScaler(feature_range = (0, 1))\n",
    "training_set_scaled = sc.fit_transform(train_data)"
   ]
  },
  {
   "cell_type": "code",
   "execution_count": 123,
   "metadata": {},
   "outputs": [],
   "source": [
    "# Scale the data to be between 0 and 1\n",
    "# When scaling remember! You normalize both test and train data with respect to training data\n",
    "# Because you are not supposed to have access to test data\n",
    "\n",
    "scaler = MinMaxScaler()\n",
    "train_data = train_data.reshape(1,-1)\n",
    "test_data = test_data.reshape(-1,1)"
   ]
  },
  {
   "cell_type": "code",
   "execution_count": 128,
   "metadata": {},
   "outputs": [
    {
     "data": {
      "text/plain": [
       "array([[82.69 , 82.595, 82.41 , ..., 50.11 , 50.46 , 51.54 ]])"
      ]
     },
     "execution_count": 128,
     "metadata": {},
     "output_type": "execute_result"
    }
   ],
   "source": [
    "train_data.reshape(1,-1)"
   ]
  },
  {
   "cell_type": "code",
   "execution_count": 129,
   "metadata": {},
   "outputs": [],
   "source": [
    "smoothing_window_size = 500"
   ]
  },
  {
   "cell_type": "code",
   "execution_count": 130,
   "metadata": {
    "collapsed": true
   },
   "outputs": [
    {
     "ename": "ValueError",
     "evalue": "Found array with 0 sample(s) (shape=(0, 2600)) while a minimum of 1 is required by MinMaxScaler.",
     "output_type": "error",
     "traceback": [
      "\u001b[1;31m---------------------------------------------------------------------------\u001b[0m",
      "\u001b[1;31mValueError\u001b[0m                                Traceback (most recent call last)",
      "\u001b[1;32m<ipython-input-130-a6203e29bb0b>\u001b[0m in \u001b[0;36m<module>\u001b[1;34m\u001b[0m\n\u001b[0;32m      3\u001b[0m \u001b[1;33m\u001b[0m\u001b[0m\n\u001b[0;32m      4\u001b[0m \u001b[1;32mfor\u001b[0m \u001b[0mx\u001b[0m \u001b[1;32min\u001b[0m \u001b[0mrange\u001b[0m\u001b[1;33m(\u001b[0m\u001b[1;36m0\u001b[0m\u001b[1;33m,\u001b[0m\u001b[1;36m10000\u001b[0m\u001b[1;33m,\u001b[0m\u001b[0msmoothing_window_size\u001b[0m\u001b[1;33m)\u001b[0m\u001b[1;33m:\u001b[0m\u001b[1;33m\u001b[0m\u001b[1;33m\u001b[0m\u001b[0m\n\u001b[1;32m----> 5\u001b[1;33m     \u001b[0mscaler\u001b[0m\u001b[1;33m.\u001b[0m\u001b[0mfit\u001b[0m\u001b[1;33m(\u001b[0m\u001b[0mtrain_data\u001b[0m\u001b[1;33m[\u001b[0m\u001b[0mx\u001b[0m\u001b[1;33m:\u001b[0m\u001b[0mx\u001b[0m\u001b[1;33m+\u001b[0m\u001b[0msmoothing_window_size\u001b[0m\u001b[1;33m]\u001b[0m\u001b[1;33m)\u001b[0m\u001b[1;33m\u001b[0m\u001b[1;33m\u001b[0m\u001b[0m\n\u001b[0m\u001b[0;32m      6\u001b[0m     \u001b[0mscaler\u001b[0m\u001b[1;33m.\u001b[0m\u001b[0mtransform\u001b[0m\u001b[1;33m(\u001b[0m\u001b[0mtrain_data\u001b[0m\u001b[1;33m[\u001b[0m\u001b[0mx\u001b[0m\u001b[1;33m:\u001b[0m\u001b[0mx\u001b[0m\u001b[1;33m+\u001b[0m\u001b[0msmoothing_window_size\u001b[0m\u001b[1;33m]\u001b[0m\u001b[1;33m)\u001b[0m\u001b[1;33m\u001b[0m\u001b[1;33m\u001b[0m\u001b[0m\n\u001b[0;32m      7\u001b[0m \u001b[1;33m\u001b[0m\u001b[0m\n",
      "\u001b[1;32mX:\\Users\\cwess_000\\Anaconda3\\envs\\PythonData\\lib\\site-packages\\sklearn\\preprocessing\\data.py\u001b[0m in \u001b[0;36mfit\u001b[1;34m(self, X, y)\u001b[0m\n\u001b[0;32m    321\u001b[0m         \u001b[1;31m# Reset internal state before fitting\u001b[0m\u001b[1;33m\u001b[0m\u001b[1;33m\u001b[0m\u001b[1;33m\u001b[0m\u001b[0m\n\u001b[0;32m    322\u001b[0m         \u001b[0mself\u001b[0m\u001b[1;33m.\u001b[0m\u001b[0m_reset\u001b[0m\u001b[1;33m(\u001b[0m\u001b[1;33m)\u001b[0m\u001b[1;33m\u001b[0m\u001b[1;33m\u001b[0m\u001b[0m\n\u001b[1;32m--> 323\u001b[1;33m         \u001b[1;32mreturn\u001b[0m \u001b[0mself\u001b[0m\u001b[1;33m.\u001b[0m\u001b[0mpartial_fit\u001b[0m\u001b[1;33m(\u001b[0m\u001b[0mX\u001b[0m\u001b[1;33m,\u001b[0m \u001b[0my\u001b[0m\u001b[1;33m)\u001b[0m\u001b[1;33m\u001b[0m\u001b[1;33m\u001b[0m\u001b[0m\n\u001b[0m\u001b[0;32m    324\u001b[0m \u001b[1;33m\u001b[0m\u001b[0m\n\u001b[0;32m    325\u001b[0m     \u001b[1;32mdef\u001b[0m \u001b[0mpartial_fit\u001b[0m\u001b[1;33m(\u001b[0m\u001b[0mself\u001b[0m\u001b[1;33m,\u001b[0m \u001b[0mX\u001b[0m\u001b[1;33m,\u001b[0m \u001b[0my\u001b[0m\u001b[1;33m=\u001b[0m\u001b[1;32mNone\u001b[0m\u001b[1;33m)\u001b[0m\u001b[1;33m:\u001b[0m\u001b[1;33m\u001b[0m\u001b[1;33m\u001b[0m\u001b[0m\n",
      "\u001b[1;32mX:\\Users\\cwess_000\\Anaconda3\\envs\\PythonData\\lib\\site-packages\\sklearn\\preprocessing\\data.py\u001b[0m in \u001b[0;36mpartial_fit\u001b[1;34m(self, X, y)\u001b[0m\n\u001b[0;32m    349\u001b[0m         X = check_array(X, copy=self.copy, warn_on_dtype=True,\n\u001b[0;32m    350\u001b[0m                         \u001b[0mestimator\u001b[0m\u001b[1;33m=\u001b[0m\u001b[0mself\u001b[0m\u001b[1;33m,\u001b[0m \u001b[0mdtype\u001b[0m\u001b[1;33m=\u001b[0m\u001b[0mFLOAT_DTYPES\u001b[0m\u001b[1;33m,\u001b[0m\u001b[1;33m\u001b[0m\u001b[1;33m\u001b[0m\u001b[0m\n\u001b[1;32m--> 351\u001b[1;33m                         force_all_finite=\"allow-nan\")\n\u001b[0m\u001b[0;32m    352\u001b[0m \u001b[1;33m\u001b[0m\u001b[0m\n\u001b[0;32m    353\u001b[0m         \u001b[0mdata_min\u001b[0m \u001b[1;33m=\u001b[0m \u001b[0mnp\u001b[0m\u001b[1;33m.\u001b[0m\u001b[0mnanmin\u001b[0m\u001b[1;33m(\u001b[0m\u001b[0mX\u001b[0m\u001b[1;33m,\u001b[0m \u001b[0maxis\u001b[0m\u001b[1;33m=\u001b[0m\u001b[1;36m0\u001b[0m\u001b[1;33m)\u001b[0m\u001b[1;33m\u001b[0m\u001b[1;33m\u001b[0m\u001b[0m\n",
      "\u001b[1;32mX:\\Users\\cwess_000\\Anaconda3\\envs\\PythonData\\lib\\site-packages\\sklearn\\utils\\validation.py\u001b[0m in \u001b[0;36mcheck_array\u001b[1;34m(array, accept_sparse, accept_large_sparse, dtype, order, copy, force_all_finite, ensure_2d, allow_nd, ensure_min_samples, ensure_min_features, warn_on_dtype, estimator)\u001b[0m\n\u001b[0;32m    580\u001b[0m                              \u001b[1;34m\" minimum of %d is required%s.\"\u001b[0m\u001b[1;33m\u001b[0m\u001b[1;33m\u001b[0m\u001b[0m\n\u001b[0;32m    581\u001b[0m                              % (n_samples, shape_repr, ensure_min_samples,\n\u001b[1;32m--> 582\u001b[1;33m                                 context))\n\u001b[0m\u001b[0;32m    583\u001b[0m \u001b[1;33m\u001b[0m\u001b[0m\n\u001b[0;32m    584\u001b[0m     \u001b[1;32mif\u001b[0m \u001b[0mensure_min_features\u001b[0m \u001b[1;33m>\u001b[0m \u001b[1;36m0\u001b[0m \u001b[1;32mand\u001b[0m \u001b[0marray\u001b[0m\u001b[1;33m.\u001b[0m\u001b[0mndim\u001b[0m \u001b[1;33m==\u001b[0m \u001b[1;36m2\u001b[0m\u001b[1;33m:\u001b[0m\u001b[1;33m\u001b[0m\u001b[1;33m\u001b[0m\u001b[0m\n",
      "\u001b[1;31mValueError\u001b[0m: Found array with 0 sample(s) (shape=(0, 2600)) while a minimum of 1 is required by MinMaxScaler."
     ]
    }
   ],
   "source": [
    "# Train the Scaler with training data and smooth data\n",
    "smoothing_window_size = 2500\n",
    "\n",
    "for x in range(0,10000,smoothing_window_size):\n",
    "    scaler.fit(train_data[x:x+smoothing_window_size])\n",
    "    scaler.transform(train_data[x:x+smoothing_window_size])\n",
    "\n",
    "# You normalize the last bit of remaining data\n",
    "scaler.fit(train_data[di+smoothing_window_size])\n",
    "train_data[di+smoothing_window_size] = scaler.transform(train_data[di+smoothing_window_size])"
   ]
  },
  {
   "cell_type": "code",
   "execution_count": 66,
   "metadata": {},
   "outputs": [],
   "source": [
    "stock_train = stock_combo.drop(stock_combo.index[2601:])"
   ]
  },
  {
   "cell_type": "code",
   "execution_count": 125,
   "metadata": {},
   "outputs": [],
   "source": [
    "stock_test = stock_combo.drop(stock_train.index)"
   ]
  },
  {
   "cell_type": "code",
   "execution_count": 126,
   "metadata": {},
   "outputs": [],
   "source": [
    "train_dataset = stock_train.sample(frac=0.9,random_state=2)\n",
    "test_dataset = stock_test"
   ]
  },
  {
   "cell_type": "code",
   "execution_count": 127,
   "metadata": {},
   "outputs": [],
   "source": [
    "train_stats = stock_train.describe()\n",
    "#train_stats"
   ]
  },
  {
   "cell_type": "code",
   "execution_count": 128,
   "metadata": {},
   "outputs": [],
   "source": [
    "train_stats.pop(\"Close\")\n",
    "train_stats = train_stats.transpose()\n",
    "#train_stats"
   ]
  },
  {
   "cell_type": "code",
   "execution_count": 129,
   "metadata": {},
   "outputs": [],
   "source": [
    "train_labels = train_dataset.pop('Close')\n",
    "test_labels = test_dataset.pop('Close')"
   ]
  },
  {
   "cell_type": "code",
   "execution_count": 130,
   "metadata": {},
   "outputs": [],
   "source": [
    "def norm(x):\n",
    "  return (x - train_stats['mean']) / train_stats['std']\n",
    "normed_train_data = norm(train_dataset)\n",
    "normed_test_data = norm(test_dataset)"
   ]
  },
  {
   "cell_type": "code",
   "execution_count": 131,
   "metadata": {},
   "outputs": [],
   "source": [
    "def build_model():\n",
    "  model = keras.Sequential([\n",
    "    layers.Dense(64, activation=tf.nn.relu, input_shape=[len(train_dataset.keys())]),\n",
    "    layers.Dense(64, activation=tf.nn.relu),\n",
    "    layers.Dense(1)\n",
    "  ])\n",
    "\n",
    "  optimizer = tf.keras.optimizers.RMSprop(0.001)\n",
    "\n",
    "  model.compile(loss='mean_squared_error',\n",
    "                optimizer=optimizer,\n",
    "                metrics=['mean_absolute_error', 'mean_squared_error'])\n",
    "  return model"
   ]
  },
  {
   "cell_type": "code",
   "execution_count": 132,
   "metadata": {},
   "outputs": [],
   "source": [
    "model = build_model()"
   ]
  },
  {
   "cell_type": "code",
   "execution_count": 133,
   "metadata": {},
   "outputs": [
    {
     "name": "stdout",
     "output_type": "stream",
     "text": [
      "_________________________________________________________________\n",
      "Layer (type)                 Output Shape              Param #   \n",
      "=================================================================\n",
      "dense_21 (Dense)             (None, 64)                1472      \n",
      "_________________________________________________________________\n",
      "dense_22 (Dense)             (None, 64)                4160      \n",
      "_________________________________________________________________\n",
      "dense_23 (Dense)             (None, 1)                 65        \n",
      "=================================================================\n",
      "Total params: 5,697\n",
      "Trainable params: 5,697\n",
      "Non-trainable params: 0\n",
      "_________________________________________________________________\n"
     ]
    }
   ],
   "source": [
    "model.summary()"
   ]
  },
  {
   "cell_type": "code",
   "execution_count": 134,
   "metadata": {},
   "outputs": [
    {
     "data": {
      "text/plain": [
       "array([[ 0.22358114],\n",
       "       [-0.65498674],\n",
       "       [ 0.15421769],\n",
       "       [-0.75548697],\n",
       "       [ 0.05089545],\n",
       "       [-0.11178732],\n",
       "       [-0.3123728 ],\n",
       "       [ 0.13737634],\n",
       "       [-0.14284551],\n",
       "       [-0.12714297],\n",
       "       [ 0.04644802],\n",
       "       [ 0.22495891],\n",
       "       [ 0.06475228],\n",
       "       [-1.5436902 ],\n",
       "       [ 0.22900543],\n",
       "       [-0.05443822],\n",
       "       [ 0.2750868 ],\n",
       "       [-0.16590014],\n",
       "       [ 0.21429057],\n",
       "       [-0.16673942]], dtype=float32)"
      ]
     },
     "execution_count": 134,
     "metadata": {},
     "output_type": "execute_result"
    }
   ],
   "source": [
    "example_batch = normed_train_data[:20]\n",
    "example_result = model.predict(example_batch)\n",
    "example_result"
   ]
  },
  {
   "cell_type": "code",
   "execution_count": 135,
   "metadata": {},
   "outputs": [
    {
     "name": "stdout",
     "output_type": "stream",
     "text": [
      "\n",
      "....................................................................................................\n",
      "....................................................................................................\n",
      "....................................................................................................\n",
      "....................................................................................................\n",
      "....................................................................................................\n",
      "....................................................................................................\n",
      "....................................................................................................\n",
      "....................................................................................................\n",
      "....................................................................................................\n",
      "...................................................................................................."
     ]
    }
   ],
   "source": [
    "# Display training progress by printing a single dot for each completed epoch\n",
    "class PrintDot(keras.callbacks.Callback):\n",
    "  def on_epoch_end(self, epoch, logs):\n",
    "    if epoch % 100 == 0: print('')\n",
    "    print('.', end='')\n",
    "\n",
    "EPOCHS = 1000\n",
    "\n",
    "history = model.fit(\n",
    "  normed_train_data, train_labels,\n",
    "  epochs=EPOCHS, validation_split = 0.2, verbose=0,\n",
    "  callbacks=[PrintDot()])"
   ]
  },
  {
   "cell_type": "code",
   "execution_count": 136,
   "metadata": {},
   "outputs": [
    {
     "data": {
      "text/html": [
       "<div>\n",
       "<style scoped>\n",
       "    .dataframe tbody tr th:only-of-type {\n",
       "        vertical-align: middle;\n",
       "    }\n",
       "\n",
       "    .dataframe tbody tr th {\n",
       "        vertical-align: top;\n",
       "    }\n",
       "\n",
       "    .dataframe thead th {\n",
       "        text-align: right;\n",
       "    }\n",
       "</style>\n",
       "<table border=\"1\" class=\"dataframe\">\n",
       "  <thead>\n",
       "    <tr style=\"text-align: right;\">\n",
       "      <th></th>\n",
       "      <th>loss</th>\n",
       "      <th>mean_absolute_error</th>\n",
       "      <th>mean_squared_error</th>\n",
       "      <th>val_loss</th>\n",
       "      <th>val_mean_absolute_error</th>\n",
       "      <th>val_mean_squared_error</th>\n",
       "      <th>epoch</th>\n",
       "    </tr>\n",
       "  </thead>\n",
       "  <tbody>\n",
       "    <tr>\n",
       "      <th>995</th>\n",
       "      <td>0.371605</td>\n",
       "      <td>0.459741</td>\n",
       "      <td>0.371605</td>\n",
       "      <td>2.542912</td>\n",
       "      <td>1.146839</td>\n",
       "      <td>2.542912</td>\n",
       "      <td>995</td>\n",
       "    </tr>\n",
       "    <tr>\n",
       "      <th>996</th>\n",
       "      <td>0.371654</td>\n",
       "      <td>0.435185</td>\n",
       "      <td>0.371654</td>\n",
       "      <td>1.958999</td>\n",
       "      <td>0.892709</td>\n",
       "      <td>1.958999</td>\n",
       "      <td>996</td>\n",
       "    </tr>\n",
       "    <tr>\n",
       "      <th>997</th>\n",
       "      <td>0.330023</td>\n",
       "      <td>0.417860</td>\n",
       "      <td>0.330023</td>\n",
       "      <td>0.860124</td>\n",
       "      <td>0.276177</td>\n",
       "      <td>0.860124</td>\n",
       "      <td>997</td>\n",
       "    </tr>\n",
       "    <tr>\n",
       "      <th>998</th>\n",
       "      <td>0.371752</td>\n",
       "      <td>0.464831</td>\n",
       "      <td>0.371752</td>\n",
       "      <td>1.008322</td>\n",
       "      <td>0.466459</td>\n",
       "      <td>1.008322</td>\n",
       "      <td>998</td>\n",
       "    </tr>\n",
       "    <tr>\n",
       "      <th>999</th>\n",
       "      <td>0.369111</td>\n",
       "      <td>0.456542</td>\n",
       "      <td>0.369111</td>\n",
       "      <td>0.927385</td>\n",
       "      <td>0.305685</td>\n",
       "      <td>0.927385</td>\n",
       "      <td>999</td>\n",
       "    </tr>\n",
       "  </tbody>\n",
       "</table>\n",
       "</div>"
      ],
      "text/plain": [
       "         loss  mean_absolute_error  mean_squared_error  val_loss  \\\n",
       "995  0.371605             0.459741            0.371605  2.542912   \n",
       "996  0.371654             0.435185            0.371654  1.958999   \n",
       "997  0.330023             0.417860            0.330023  0.860124   \n",
       "998  0.371752             0.464831            0.371752  1.008322   \n",
       "999  0.369111             0.456542            0.369111  0.927385   \n",
       "\n",
       "     val_mean_absolute_error  val_mean_squared_error  epoch  \n",
       "995                 1.146839                2.542912    995  \n",
       "996                 0.892709                1.958999    996  \n",
       "997                 0.276177                0.860124    997  \n",
       "998                 0.466459                1.008322    998  \n",
       "999                 0.305685                0.927385    999  "
      ]
     },
     "execution_count": 136,
     "metadata": {},
     "output_type": "execute_result"
    }
   ],
   "source": [
    "hist = pd.DataFrame(history.history)\n",
    "hist['epoch'] = history.epoch\n",
    "hist.tail()"
   ]
  },
  {
   "cell_type": "code",
   "execution_count": 138,
   "metadata": {},
   "outputs": [
    {
     "data": {
      "image/png": "[encoded data removed]",
      "text/plain": [
       "<Figure size 432x288 with 1 Axes>"
      ]
     },
     "metadata": {
      "needs_background": "light"
     },
     "output_type": "display_data"
    },
    {
     "data": {
      "image/png": "[encoded data removed]",
      "text/plain": [
       "<Figure size 432x288 with 1 Axes>"
      ]
     },
     "metadata": {
      "needs_background": "light"
     },
     "output_type": "display_data"
    },
    {
     "data": {
      "text/plain": [
       "<Figure size 432x288 with 0 Axes>"
      ]
     },
     "metadata": {},
     "output_type": "display_data"
    }
   ],
   "source": [
    "def plot_history(history):\n",
    "  hist = pd.DataFrame(history.history)\n",
    "  hist['epoch'] = history.epoch\n",
    "  \n",
    "  plt.figure()\n",
    "  plt.xlabel('Epoch')\n",
    "  plt.ylabel('Mean Abs Error [Close]')\n",
    "  plt.plot(hist['epoch'], hist['mean_absolute_error'],\n",
    "           label='Train Error'), plt.title(f'{ticker} Training Data'), plt.savefig(f'output_images/{ticker}_line.png')\n",
    "  plt.plot(hist['epoch'], hist['val_mean_absolute_error'],\n",
    "           label = 'Val Error'), plt.title(f'{ticker} Training Data'), plt.savefig(f'output_images/{ticker}_line2.png')\n",
    "  plt.ylim([0,5])\n",
    "  plt.legend()\n",
    "  \n",
    "  plt.figure()\n",
    "  plt.xlabel('Epoch')\n",
    "  plt.ylabel('Mean Square Error [$Close^2$]')\n",
    "  plt.plot(hist['epoch'], hist['mean_squared_error'],\n",
    "           label='Train Error'), plt.savefig(f'output_images/{ticker}_line3.png')\n",
    "  plt.plot(hist['epoch'], hist['val_mean_squared_error'],\n",
    "           label = 'Val Error'), plt.savefig(f'output_images/{ticker}_line4.png')\n",
    "  plt.ylim([0,20])\n",
    "  plt.legend()\n",
    "  plt.show()\n",
    " #plt.savefig(f'output_images/{ticker}.png')\n",
    "    \n",
    "\n",
    "plot_history(history) \n",
    "#plt.savefig(f'output_images/{ticker}_line5.png')"
   ]
  },
  {
   "cell_type": "code",
   "execution_count": 139,
   "metadata": {},
   "outputs": [
    {
     "name": "stdout",
     "output_type": "stream",
     "text": [
      "\n",
      "............................................................................................."
     ]
    },
    {
     "data": {
      "image/png": "[encoded data removed]",
      "text/plain": [
       "<Figure size 432x288 with 1 Axes>"
      ]
     },
     "metadata": {
      "needs_background": "light"
     },
     "output_type": "display_data"
    },
    {
     "data": {
      "image/png": "[encoded data removed]",
      "text/plain": [
       "<Figure size 432x288 with 1 Axes>"
      ]
     },
     "metadata": {
      "needs_background": "light"
     },
     "output_type": "display_data"
    }
   ],
   "source": [
    "model = build_model()\n",
    "\n",
    "# The patience parameter is the amount of epochs to check for improvement\n",
    "early_stop = keras.callbacks.EarlyStopping(monitor='val_loss', patience=10)\n",
    "\n",
    "history = model.fit(normed_train_data, train_labels, epochs=EPOCHS,\n",
    "                    validation_split = 0.2, verbose=0, callbacks=[early_stop, PrintDot()])\n",
    "\n",
    "plot_history(history)\n",
    "             "
   ]
  },
  {
   "cell_type": "code",
   "execution_count": 86,
   "metadata": {},
   "outputs": [],
   "source": [
    "loss, mae, mse = model.evaluate(normed_test_data, test_labels, verbose=0)\n",
    "\n"
   ]
  },
  {
   "cell_type": "code",
   "execution_count": 140,
   "metadata": {},
   "outputs": [
    {
     "data": {
      "image/png": "[encoded data removed]",
      "text/plain": [
       "<Figure size 432x288 with 1 Axes>"
      ]
     },
     "metadata": {
      "needs_background": "light"
     },
     "output_type": "display_data"
    }
   ],
   "source": [
    "test_predictions = model.predict(normed_test_data).flatten()\n",
    "\n",
    "plt.scatter(test_labels, test_predictions)\n",
    "plt.xlabel('True Values [Close]')\n",
    "plt.ylabel('Predictions [Close]')\n",
    "plt.title(f'{ticker} Test Data Predictions')\n",
    "plt.axis('equal')\n",
    "plt.axis('square')\n",
    "plt.xlim([0,plt.xlim()[1]])\n",
    "plt.ylim([0,plt.ylim()[1]])\n",
    "_ = (plt.plot([-100, 100], [-100, 100]), plt.savefig(f'output_images/{ticker}_test_predictions.png'))"
   ]
  },
  {
   "cell_type": "code",
   "execution_count": 141,
   "metadata": {},
   "outputs": [
    {
     "data": {
      "image/png": "[encoded data removed]",
      "text/plain": [
       "<Figure size 432x288 with 1 Axes>"
      ]
     },
     "metadata": {
      "needs_background": "light"
     },
     "output_type": "display_data"
    }
   ],
   "source": [
    "error = test_predictions - test_labels\n",
    "plt.hist(error, bins = 25)\n",
    "plt.title(f'{ticker} Prediction Error Distribution')\n",
    "plt.xlabel(\"Prediction Error [Close]\")\n",
    "plt.savefig(f'output_images/{ticker}_prediction_error.png')\n",
    "#_ = plt.ylabel(\"Count\")"
   ]
  },
  {
   "cell_type": "code",
   "execution_count": null,
   "metadata": {},
   "outputs": [],
   "source": [
    "# CODE FOR CHARTS\n",
    "\n",
    "# x_axis1 = city_weather['latitude']; x_axis2 = city_weather['latitude']; x_axis3 = city_weather['latitude']; \n",
    "# x_axis4 = city_weather['latitude']; y_axis1 = ((city_weather['temp_max'] - 273.15)*9/5 + 32); \n",
    "# y_axis2 = city_weather['humidity']; y_axis3 = city_weather['clouds']; y_axis4 = city_weather['wind_speed']\n",
    "# lat_vs_temp = (plt.scatter(x_axis1, y_axis1, linewidth=1, edgecolors=\"black\"), \n",
    "#                plt.xlabel(\"Latitude\"), plt.ylabel(\"Temperature(F)\"), plt.title(\"City Latitude vs. Max Temperature 10/29/18\"), \n",
    "#                plt.grid(b=None, which='major', axis='both'), plt.savefig(\"output_images/lat_vs_temp.png\"))"
   ]
  }
 ],
 "metadata": {
  "kernelspec": {
   "display_name": "Python 3",
   "language": "python",
   "name": "python3"
  },
  "language_info": {
   "codemirror_mode": {
    "name": "ipython",
    "version": 3
   },
   "file_extension": ".py",
   "mimetype": "text/x-python",
   "name": "python",
   "nbconvert_exporter": "python",
   "pygments_lexer": "ipython3",
   "version": "3.6.7"
  }
 },
 "nbformat": 4,
 "nbformat_minor": 2
}
